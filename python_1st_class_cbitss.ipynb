{
  "nbformat": 4,
  "nbformat_minor": 0,
  "metadata": {
    "colab": {
      "provenance": [],
      "authorship_tag": "ABX9TyOk9BoUsUbqXr9k8LkZuqqj",
      "include_colab_link": true
    },
    "kernelspec": {
      "name": "python3",
      "display_name": "Python 3"
    },
    "language_info": {
      "name": "python"
    }
  },
  "cells": [
    {
      "cell_type": "markdown",
      "metadata": {
        "id": "view-in-github",
        "colab_type": "text"
      },
      "source": [
        "<a href=\"https://colab.research.google.com/github/Vaitiw/Python-Class/blob/main/python_1st_class_cbitss.ipynb\" target=\"_parent\"><img src=\"https://colab.research.google.com/assets/colab-badge.svg\" alt=\"Open In Colab\"/></a>"
      ]
    },
    {
      "cell_type": "code",
      "execution_count": null,
      "metadata": {
        "colab": {
          "base_uri": "https://localhost:8080/"
        },
        "id": "Ocg73PDAlqon",
        "outputId": "30835db6-0b35-44e6-8dc7-e1cdc7dcbca7"
      },
      "outputs": [
        {
          "output_type": "stream",
          "name": "stdout",
          "text": [
            "hello world\n"
          ]
        }
      ],
      "source": [
        "print (\"hello world\")"
      ]
    },
    {
      "cell_type": "code",
      "source": [
        "# this is my first code\n",
        "print(\"hello world\")"
      ],
      "metadata": {
        "colab": {
          "base_uri": "https://localhost:8080/"
        },
        "id": "ZZJyMhWwnpE9",
        "outputId": "0f7e65e1-6ac1-422f-9d8f-71ec33772410"
      },
      "execution_count": null,
      "outputs": [
        {
          "output_type": "stream",
          "name": "stdout",
          "text": [
            "hello world\n"
          ]
        }
      ]
    },
    {
      "cell_type": "code",
      "source": [
        "\"\"\"\n",
        "this is my first class in cbitss\n",
        "we have leared about basics of python\"\"\""
      ],
      "metadata": {
        "colab": {
          "base_uri": "https://localhost:8080/",
          "height": 35
        },
        "id": "Vl1Ao3iqnvF9",
        "outputId": "15855027-ac09-46aa-eab8-529be57e3a7b"
      },
      "execution_count": null,
      "outputs": [
        {
          "output_type": "execute_result",
          "data": {
            "text/plain": [
              "'\\nthis is my first class in cbitss\\nwe have leared about basics of python'"
            ],
            "application/vnd.google.colaboratory.intrinsic+json": {
              "type": "string"
            }
          },
          "metadata": {},
          "execution_count": 6
        }
      ]
    },
    {
      "cell_type": "code",
      "source": [
        "a=5\n",
        "b=6\n",
        "print(\"sum of two number\", a+b)"
      ],
      "metadata": {
        "colab": {
          "base_uri": "https://localhost:8080/"
        },
        "id": "YgrX5p2EbgMg",
        "outputId": "886663bf-f75c-4cdc-ab24-7b29f4ec49ff"
      },
      "execution_count": null,
      "outputs": [
        {
          "output_type": "stream",
          "name": "stdout",
          "text": [
            "sum of two number 11\n"
          ]
        }
      ]
    },
    {
      "cell_type": "code",
      "source": [
        "a=100\n",
        "b=200\n",
        "print(\"\")\n",
        "price_of_pizza =100\n",
        "price_of_burgur=110\n",
        "price_of_cokacola=300\n",
        "price_of_cocktail=220\n",
        "print(\"Total Bill price:=\" , price_of_pizza+price_of_burgur+price_of_cokacola+price_of_cocktail)"
      ],
      "metadata": {
        "id": "eXRVCcaZn_L1",
        "colab": {
          "base_uri": "https://localhost:8080/"
        },
        "outputId": "0c2f6a66-e5ed-405f-c9f2-129c30302156"
      },
      "execution_count": null,
      "outputs": [
        {
          "output_type": "stream",
          "name": "stdout",
          "text": [
            "\n",
            "Total Bill price:= 730\n"
          ]
        }
      ]
    },
    {
      "cell_type": "code",
      "source": [
        "a=100\n",
        "b=200\n",
        "c=2000\n",
        "d=4\n",
        "result=a*b*c*d\n",
        "print(\"multiplication of 4 numbers:=\" , result)"
      ],
      "metadata": {
        "colab": {
          "base_uri": "https://localhost:8080/"
        },
        "id": "bnO4Nzffc5UD",
        "outputId": "b9f2e4e2-6c7e-4a6d-c910-217546f55bef"
      },
      "execution_count": null,
      "outputs": [
        {
          "output_type": "stream",
          "name": "stdout",
          "text": [
            "multiplication of 4 numbers:= 160000000\n"
          ]
        }
      ]
    },
    {
      "cell_type": "code",
      "source": [
        "a =int(input(\"enter first number: \"))\n",
        "b =int(input(\"enter second number: \"))\n",
        "c =int(input(\"enter third number: \"))\n",
        "result=a*b*c\n",
        "print(\"multiplication of 3 numbers =\" , result)"
      ],
      "metadata": {
        "colab": {
          "base_uri": "https://localhost:8080/"
        },
        "id": "od5buLVZei9H",
        "outputId": "189eb6e1-4c9f-43da-bbed-c60f8ebb1ccd"
      },
      "execution_count": null,
      "outputs": [
        {
          "output_type": "stream",
          "name": "stdout",
          "text": [
            "enter first number: 2\n",
            "enter second number: 2\n",
            "enter third number: 2\n",
            "multiplication of 3 numbers = 8\n"
          ]
        }
      ]
    },
    {
      "cell_type": "code",
      "source": [],
      "metadata": {
        "id": "UZ0Pdl7yiZkG"
      },
      "execution_count": null,
      "outputs": []
    },
    {
      "cell_type": "code",
      "source": [
        "price_of_pizza =100\n",
        "price_of_burgur=110\n",
        "price_of_cokacola=300\n",
        "price_of_cocktail=220\n",
        "discount=50\n",
        "Total_Bill_price = price_of_pizza+price_of_burgur+price_of_cokacola+price_of_cocktail\n",
        "total_discount=Total_Bill_price*discount/100\n",
        "print(Total_Bill_price-total_dicount)\n",
        "payable_bill_afterdiscount=Total_Bill_price-total_discount\n",
        "\n"
      ],
      "metadata": {
        "colab": {
          "base_uri": "https://localhost:8080/"
        },
        "id": "4NHOjwwqiZF_",
        "outputId": "398c0a91-6e0d-4289-ec7e-4f8f88f0eeba"
      },
      "execution_count": null,
      "outputs": [
        {
          "output_type": "stream",
          "name": "stdout",
          "text": [
            "365.0\n"
          ]
        }
      ]
    },
    {
      "cell_type": "code",
      "source": [
        "a=5\n",
        "b=10\n",
        "print(f\"sum of (a) and (b)  is \",\n",
        "age = 25\n",
        "print(f\"age = (age)\")"
      ],
      "metadata": {
        "colab": {
          "base_uri": "https://localhost:8080/"
        },
        "id": "1J54HqMCipLx",
        "outputId": "0fe43fe3-5353-4792-e00d-209f0fe1fe29"
      },
      "execution_count": null,
      "outputs": [
        {
          "output_type": "stream",
          "name": "stdout",
          "text": [
            "sum of (a) and (b)  is  15\n",
            "age = (age)\n"
          ]
        }
      ]
    },
    {
      "cell_type": "code",
      "source": [
        "age= 22\n",
        "MY_name =\"Aryan Thakur\"\n",
        "Mother_name=\"Rina Thakur\"\n",
        "Father_name=\"Durgesh Thakur\"\n",
        "school_name= \"DAVCPS,Mandi\"\n",
        "print(\"************ BioData************\")\n",
        "print(f\"age is {age}\")\n",
        "print(f\"Name :   {MY_name}\")\n",
        "print(f\"Mothername is {Mother_name}\")\n",
        "print(f\"Fathername is {Father_name}\")\n",
        "print(f\"schoolname is {school_name}\")\n",
        "\n",
        "\n"
      ],
      "metadata": {
        "colab": {
          "base_uri": "https://localhost:8080/"
        },
        "id": "9kpKStIlnF7N",
        "outputId": "524ba3d6-842e-418d-b8f3-8daa405d6f27"
      },
      "execution_count": null,
      "outputs": [
        {
          "output_type": "stream",
          "name": "stdout",
          "text": [
            "************ BioData************\n",
            "age is 22\n",
            "Name :   Aryan Thakur\n",
            "Mothername is Rina Thakur\n",
            "Fathername is Durgesh Thakur\n",
            "schoolname is DAVCPS,Mandi\n"
          ]
        }
      ]
    },
    {
      "cell_type": "code",
      "source": [
        "name=\"Vaibhav Tiwari\"\n",
        "age=21\n",
        "gender=\"Male\"\n",
        "DOB=\"05-08-2004\"\n",
        "address=\"Zirakpur,India\"\n",
        "Phone=\"9418463000\"\n",
        "email=\"vaibhav@gmail.com\"\n",
        "\n",
        "print(\"     Biodata     \")\n",
        "print(\"Name :\",name)\n",
        "print(\"Age :\",age)\n",
        "print(\"Date of Birth :\",DOB)\n",
        "print(\"Address :\",address)\n",
        "print(\"Phone No :\",Phone)\n",
        "print(\"Email :\",email)\n"
      ],
      "metadata": {
        "colab": {
          "base_uri": "https://localhost:8080/"
        },
        "id": "pKryAHhxg0Ni",
        "outputId": "47c04802-5564-403c-c668-4218628521f9"
      },
      "execution_count": null,
      "outputs": [
        {
          "output_type": "stream",
          "name": "stdout",
          "text": [
            "     Biodata     \n",
            "Name : Vaibhav Tiwari\n",
            "Age : 21\n",
            "Date of Birth : 05-08-2004\n",
            "Address : Zirakpur,India\n",
            "Phone No : 9418463000\n",
            "Email : vaibhav@gmail.com\n"
          ]
        }
      ]
    },
    {
      "cell_type": "code",
      "source": [
        "price_of_pizza =300\n",
        "price_of_burgur=200\n",
        "price_of_chikenTikka=560\n",
        "discount_on_pizza=4\n",
        "discount_on_burgur=5\n",
        "discount_on_chikenTikka=4\n",
        "total_bill=price_of_pizza+price_of_burgur+price_of_chikenTikka\n",
        "total_discount_of_pizza=price_of_pizza*discount_on_pizza/100\n",
        "total_discount_of_burgur=price_of_burgur*discount_on_burgur/100\n",
        "total_discount_of_chikenTikka=price_of_chikenTikka*discount_on_chikenTikka/100\n",
        "print(\"pizza bill : \" ,(price_of_pizza-total_discount_of_pizza))\n",
        "print(\"burgur bill: \" ,(price_of_burgur-total_discount_of_burgur))\n",
        "print(\"chikenTikka: \" ,(price_of_chikenTikka-total_discount_of_chikenTikka))\n",
        "print(\"total bill to pay :\", (price_of_pizza - total_discount_of_pizza + price_of_burgur - total_discount_of_burgur + price_of_chikenTikka - total_discount_of_chikenTikka))\n",
        "\n",
        "\n",
        "\n"
      ],
      "metadata": {
        "colab": {
          "base_uri": "https://localhost:8080/"
        },
        "id": "HsTvgQOijl5S",
        "outputId": "cc375fb3-932a-458e-eb74-abeec92b01b4"
      },
      "execution_count": null,
      "outputs": [
        {
          "output_type": "stream",
          "name": "stdout",
          "text": [
            "pizza bill :  288.0\n",
            "burgur bill:  190.0\n",
            "chikenTikka:  537.6\n",
            "total bill to pay : 1015.6\n"
          ]
        }
      ]
    },
    {
      "cell_type": "code",
      "source": [
        "p=int(input(\"enter value of principla :\"))\n",
        "r=int(input(\"enter value of rate : \"))\n",
        "t=int(input(\"enter value of time :\"))\n",
        "\n",
        "result= (p*r*t)/100\n",
        "print(\"Simple_Interst= :\" ,result)"
      ],
      "metadata": {
        "id": "O4b4aPcElsXd",
        "colab": {
          "base_uri": "https://localhost:8080/"
        },
        "outputId": "e7d3471a-71f0-4509-c0f1-b7f2e63f13b2"
      },
      "execution_count": null,
      "outputs": [
        {
          "output_type": "stream",
          "name": "stdout",
          "text": [
            "enter value of principla :300\n",
            "enter value of rate : 5\n",
            "enter value of time :9\n",
            "Simple_Interst= : 135.0\n"
          ]
        }
      ]
    },
    {
      "cell_type": "code",
      "source": [],
      "metadata": {
        "id": "I6KKHtlHXG9i"
      },
      "execution_count": null,
      "outputs": []
    },
    {
      "cell_type": "code",
      "source": [
        "rate=0.0113\n",
        "INR_amount=float(input(\"Enter amount =\"))\n",
        "\n",
        "usd=rate*INR_amount\n",
        "\n",
        "print(\"How much usd I got : \" ,usd )\n",
        "\n"
      ],
      "metadata": {
        "colab": {
          "base_uri": "https://localhost:8080/"
        },
        "id": "kEKV7Y3vAjWC",
        "outputId": "98c49e6e-0374-40a5-cc04-36e96461ebad"
      },
      "execution_count": null,
      "outputs": [
        {
          "output_type": "stream",
          "name": "stdout",
          "text": [
            "Enter amount =50000\n",
            "How much usd I got :  565.0\n"
          ]
        }
      ]
    },
    {
      "cell_type": "code",
      "source": [
        "rate=0.60\n",
        "rate=0.60\n",
        "INR_amount=float(input(\"Enter amount : \"))\n",
        "Japanese_yen=rate*INR_amount\n",
        "\n",
        "print(\"How much Yen I got : \" ,Japanese_yen )\n",
        "Japanese_yen=rate*INR_amount\n",
        "\n",
        "print(\"How much Yen I got : \" ,Japanese_yen )"
      ],
      "metadata": {
        "id": "8PvHAJp-AaCU",
        "colab": {
          "base_uri": "https://localhost:8080/"
        },
        "outputId": "4d1f9eda-aa6a-42d0-c388-5294ad989e4c"
      },
      "execution_count": null,
      "outputs": [
        {
          "output_type": "stream",
          "name": "stdout",
          "text": [
            "Enter amount : 100000\n",
            "How much Yen I got :  60000.0\n"
          ]
        }
      ]
    },
    {
      "cell_type": "code",
      "source": [
        "usd_rate=0.0113\n",
        "yen_rate=0.58\n",
        "\n",
        "usd=float(input(\"Enter amount : \"))\n",
        "yen=float(input(\"Enter amount : \"))\n",
        "\n",
        "\n",
        "inr_from_usd=usd/usd_rate\n",
        "inr_from_yen=yen*yen_rate\n",
        "\n",
        "print(\"How much INR in exchange of usd I got : \" ,inr_from_usd )\n",
        "print(\"How much INR in exhchange of yenI got : \" ,inr_from_yen  )\n",
        "\n",
        "\n",
        "\n",
        "\n"
      ],
      "metadata": {
        "colab": {
          "base_uri": "https://localhost:8080/"
        },
        "id": "dJbefWKfX96t",
        "outputId": "f9635223-9ac9-4715-c33a-2899c95d6cfe"
      },
      "execution_count": null,
      "outputs": [
        {
          "output_type": "stream",
          "name": "stdout",
          "text": [
            "Enter amount : 500\n",
            "Enter amount : 2\n",
            "How much INR in exchange of usd I got :  44247.787610619474\n",
            "How much INR in exhchange of yenI got :  1.16\n"
          ]
        }
      ]
    },
    {
      "cell_type": "code",
      "source": [
        "usd_rate = 83\n",
        "yen_rate = 0.56\n",
        "\n",
        "usd = float(input(\"Enter amount in USD: \"))\n",
        "yen = float(input(\"Enter amount in JPY: \"))\n",
        "\n",
        "inr_from_usd = usd * usd_rate\n",
        "inr_from_yen = yen * yen_rate  # Correct calculation\n",
        "\n",
        "print(\"How much INR in exchange of USD I got:\", inr_from_usd)\n",
        "print(\"How much INR in exchange of JPY I got:\", inr_from_yen)"
      ],
      "metadata": {
        "colab": {
          "base_uri": "https://localhost:8080/"
        },
        "id": "_xrJLxS3cBwf",
        "outputId": "7a6a4f70-c739-47f6-9527-59bb3515282a"
      },
      "execution_count": null,
      "outputs": [
        {
          "output_type": "stream",
          "name": "stdout",
          "text": [
            "Enter amount in USD: 1\n",
            "Enter amount in JPY: 1\n",
            "How much INR in exchange of USD I got: 83.0\n",
            "How much INR in exchange of JPY I got: 0.56\n"
          ]
        }
      ]
    },
    {
      "cell_type": "code",
      "source": [
        "\n",
        "p=20000\n",
        "r=20/100\n",
        "n=4\n",
        "t=2\n",
        "A=p*(1+r/n)**(n*t)\n",
        "CI=A-p\n",
        "\n",
        "print(\"final Amount :\",A)\n",
        "print(\"Compound Interst : \",CI)"
      ],
      "metadata": {
        "colab": {
          "base_uri": "https://localhost:8080/"
        },
        "id": "XZP2q2IukKP6",
        "outputId": "d017ef72-4749-4356-8ad9-f0f5d4ce17f7"
      },
      "execution_count": null,
      "outputs": [
        {
          "output_type": "stream",
          "name": "stdout",
          "text": [
            "final Amount : 29549.10887578126\n",
            "Compound Interst :  9549.108875781261\n"
          ]
        }
      ]
    },
    {
      "cell_type": "code",
      "source": [
        "p=int(input(\"enter value of principla :\"))\n",
        "r=int(input(\"enter value of rate : \"))\n",
        "t_input=input(\"enter value of time :\")\n",
        "t = eval(t_input)\n",
        "\n",
        "\n",
        "result= (p*r*t)/100\n",
        "print(\"Simple_Interst= :\" ,result)"
      ],
      "metadata": {
        "colab": {
          "base_uri": "https://localhost:8080/"
        },
        "id": "gIS34oBFIx7u",
        "outputId": "eedc440a-f725-4d1e-e26e-390d12486dff"
      },
      "execution_count": null,
      "outputs": [
        {
          "output_type": "stream",
          "name": "stdout",
          "text": [
            "enter value of principla :2000\n",
            "enter value of rate : 10\n",
            "enter value of time :81/365\n",
            "Simple_Interst= : 44.38356164383562\n"
          ]
        }
      ]
    },
    {
      "cell_type": "code",
      "source": [
        "str=\"i am a coder\"\n",
        "print(str.capitalize())"
      ],
      "metadata": {
        "id": "T9hcjfFCJWCW",
        "colab": {
          "base_uri": "https://localhost:8080/"
        },
        "outputId": "b2e70862-c66b-4a76-fd25-f45e2a748774"
      },
      "execution_count": null,
      "outputs": [
        {
          "output_type": "stream",
          "name": "stdout",
          "text": [
            "I am a coder\n"
          ]
        }
      ]
    },
    {
      "cell_type": "code",
      "source": [
        "str=\"I am studying python from Cbitss\"\n",
        "print(str.replace(\"python\",\"java\"))"
      ],
      "metadata": {
        "colab": {
          "base_uri": "https://localhost:8080/"
        },
        "id": "4aY4Za8YbNJM",
        "outputId": "7e97a83a-6fed-41c6-fee1-65ba09e19019"
      },
      "execution_count": null,
      "outputs": [
        {
          "output_type": "stream",
          "name": "stdout",
          "text": [
            "I am studying java from Cbitss\n"
          ]
        }
      ]
    },
    {
      "cell_type": "code",
      "source": [
        "str=\"i am studying python form cbitss and I am also leaning english\"\n",
        "print(str.count(\"am\"))"
      ],
      "metadata": {
        "colab": {
          "base_uri": "https://localhost:8080/"
        },
        "id": "JXzRdjKAbiQX",
        "outputId": "45a11d0d-2155-45c6-8d1e-7bd91a4aae7d"
      },
      "execution_count": null,
      "outputs": [
        {
          "output_type": "stream",
          "name": "stdout",
          "text": [
            "2\n"
          ]
        }
      ]
    },
    {
      "cell_type": "code",
      "source": [
        "#slicing\n",
        "str=\"AmityUnivresity\"\n",
        "print(str[1:4])\n"
      ],
      "metadata": {
        "colab": {
          "base_uri": "https://localhost:8080/"
        },
        "id": "1GZCvHrZb-Y9",
        "outputId": "007cd437-1ebc-4155-81a9-d08d5525f652"
      },
      "execution_count": null,
      "outputs": [
        {
          "output_type": "stream",
          "name": "stdout",
          "text": [
            "mit\n"
          ]
        }
      ]
    },
    {
      "cell_type": "code",
      "source": [
        "#negatibe slicing\n",
        "str=\"apna college\"\n",
        "print(str[-4:-1])"
      ],
      "metadata": {
        "colab": {
          "base_uri": "https://localhost:8080/"
        },
        "id": "PWcj0RvAciOU",
        "outputId": "1289b006-9e92-481f-e108-fb104c05aa92"
      },
      "execution_count": null,
      "outputs": [
        {
          "output_type": "stream",
          "name": "stdout",
          "text": [
            "leg\n"
          ]
        }
      ]
    },
    {
      "cell_type": "code",
      "source": [
        "#if esle condition\n",
        "light=\"green\"\n",
        "if(light == \"red\"):\n",
        "    print(\"stop\")\n",
        "\n",
        "elif(light == \"yellow\"):\n",
        "    print(\"wait\")\n",
        "\n",
        "elif(light == \"green\"):\n",
        "    print(\"look\")\n",
        "\n",
        "print(\"End of code\")\n",
        "\n"
      ],
      "metadata": {
        "colab": {
          "base_uri": "https://localhost:8080/"
        },
        "id": "AWw4R5g4c8zp",
        "outputId": "2cef80fb-ae0b-47ef-9e0b-13fcc597f923"
      },
      "execution_count": null,
      "outputs": [
        {
          "output_type": "stream",
          "name": "stdout",
          "text": [
            "look\n",
            "End of code\n"
          ]
        }
      ]
    },
    {
      "cell_type": "code",
      "source": [
        "age=17\n",
        "if(age>=18):\n",
        "    print(\"you can give vote\")\n",
        "\n",
        "else:\n",
        "    print(\"you can not vote\")"
      ],
      "metadata": {
        "colab": {
          "base_uri": "https://localhost:8080/"
        },
        "id": "pM1mN3m_fID5",
        "outputId": "c10486ea-f7be-403b-8498-b34db01561db"
      },
      "execution_count": null,
      "outputs": [
        {
          "output_type": "stream",
          "name": "stdout",
          "text": [
            "you can not vote\n"
          ]
        }
      ]
    },
    {
      "cell_type": "code",
      "source": [
        "month=2\n",
        "days=21\n",
        "year_from_month=month/12\n",
        "year_from_days=days/365\n",
        "T=year_from_month+year_from_days\n",
        "print(\"Total Time : \" ,T)\n",
        "\n",
        "p=1000\n",
        "rate=5\n",
        "SI=(p*rate*T)/100\n",
        "print(\"Simple Interst = \" , SI)"
      ],
      "metadata": {
        "colab": {
          "base_uri": "https://localhost:8080/"
        },
        "id": "WTUwhDSRgXRR",
        "outputId": "125fe9fa-e049-48b6-e1d2-d0057e1d4524"
      },
      "execution_count": null,
      "outputs": [
        {
          "output_type": "stream",
          "name": "stdout",
          "text": [
            "Total Time :  0.22420091324200914\n",
            "Simple Interst =  11.210045662100455\n"
          ]
        }
      ]
    },
    {
      "cell_type": "code",
      "source": [
        "age=25\n",
        "if(age>=18):\n",
        "  print(\"You are eligible to drive\")\n",
        "\n",
        "else:\n",
        "  print(\"you are not eligible to drive\")\n"
      ],
      "metadata": {
        "colab": {
          "base_uri": "https://localhost:8080/"
        },
        "id": "jBXnQ6RMk5hm",
        "outputId": "ecf5d6b0-76a9-4e8f-ffe5-f9c0c634108c"
      },
      "execution_count": null,
      "outputs": [
        {
          "output_type": "stream",
          "name": "stdout",
          "text": [
            "You are eligible to drive\n"
          ]
        }
      ]
    },
    {
      "cell_type": "code",
      "source": [
        "num=21\n",
        "if(num%2==0):\n",
        "  print(\"number is even\")\n",
        "\n",
        "else:\n",
        "  print(\"number is odd\")"
      ],
      "metadata": {
        "colab": {
          "base_uri": "https://localhost:8080/"
        },
        "id": "-5D2RiLup3u9",
        "outputId": "36a5e675-6fb7-4d77-b8e5-d9d4cbfe716c"
      },
      "execution_count": null,
      "outputs": [
        {
          "output_type": "stream",
          "name": "stdout",
          "text": [
            "number is odd\n"
          ]
        }
      ]
    },
    {
      "cell_type": "code",
      "source": [
        "num=100\n",
        "if(num/2):\n",
        "  print(\"No is even\")\n",
        "\n",
        "else:\n",
        "  print(\"no is odd\")"
      ],
      "metadata": {
        "colab": {
          "base_uri": "https://localhost:8080/"
        },
        "id": "u0bKjXctrPFa",
        "outputId": "f78d16c2-58ea-4e4d-f72c-5abad3c7c572"
      },
      "execution_count": null,
      "outputs": [
        {
          "output_type": "stream",
          "name": "stdout",
          "text": [
            "No is even\n"
          ]
        }
      ]
    },
    {
      "cell_type": "code",
      "source": [
        "color=\"Red\"\n",
        "if(color==\"green\"):\n",
        "  print(\"i will not not stay\")\n",
        "\n",
        "elif(color==\"black\"):\n",
        "  print(\"i will not stay \")\n",
        "\n",
        "elif(color==\"Red\"):\n",
        "  print(\"i will buy this tshirt\")"
      ],
      "metadata": {
        "colab": {
          "base_uri": "https://localhost:8080/"
        },
        "id": "3-e6u0AQrjqj",
        "outputId": "00e50148-b7e4-4c5b-b641-7b25fd96f6ff"
      },
      "execution_count": null,
      "outputs": [
        {
          "output_type": "stream",
          "name": "stdout",
          "text": [
            "i will buy this tshirt\n"
          ]
        }
      ]
    },
    {
      "cell_type": "code",
      "source": [
        "str=\"I am coding in python and i am learning new things\"\n",
        "print(str.find(\"am\"))"
      ],
      "metadata": {
        "colab": {
          "base_uri": "https://localhost:8080/"
        },
        "id": "PdtiRHnxuR-6",
        "outputId": "55a6ef35-870f-42d2-fc57-19f1848cce3c"
      },
      "execution_count": null,
      "outputs": [
        {
          "output_type": "stream",
          "name": "stdout",
          "text": [
            "2\n"
          ]
        }
      ]
    },
    {
      "cell_type": "code",
      "source": [
        "age=int(input(\"Enter Your age :\"))\n",
        "gender=input(\"enter your gender :\")\n",
        "\n",
        "if(gender==\"Male\"):\n",
        "  print(\"You are a male\")\n",
        "\n",
        "  if(age>=30):\n",
        "    print(\"This man is going in bulding1 hostelA \")\n",
        "\n",
        "  elif(age<30):\n",
        "    print(\"This boy is going in building1 HostelB \")\n",
        "\n",
        "\n",
        "if(gender==\"Female\"):\n",
        "  print(\"You are a Female\")\n",
        "\n",
        "  if(age>=30):\n",
        "    print(\"This women is going in bulding2 hostel A\")\n",
        "\n",
        "  elif(age<30):\n",
        "    print(\"This girl is going in bulding2 Hostel B \")"
      ],
      "metadata": {
        "colab": {
          "base_uri": "https://localhost:8080/"
        },
        "id": "Xz4L9VQpfRom",
        "outputId": "13fc3fc0-fbad-430a-d2bc-5e6dadf91c8b"
      },
      "execution_count": null,
      "outputs": [
        {
          "output_type": "stream",
          "name": "stdout",
          "text": [
            "Enter Your age :29\n",
            "enter your gender :Female\n",
            "You are a Female\n",
            "This girl is going in bulding2 Hostel B \n"
          ]
        }
      ]
    },
    {
      "cell_type": "code",
      "source": [
        " name=input(\"Enter Your name :\")\n",
        "age=int(input(\"Enter Your age :\"))\n",
        "is_married=True\n",
        "salary=float(input(\"Enter your salary per Month :\"))\n",
        "if(\"married\"):\n",
        "   print(type(\"True\"))\n",
        "\n",
        "print(type(is_married))\n",
        "print(type(name))\n",
        "print(type(age))\n",
        "print(type(salary))"
      ],
      "metadata": {
        "id": "K2DmPT28pPcz",
        "colab": {
          "base_uri": "https://localhost:8080/"
        },
        "outputId": "1b2585b7-aa38-436a-cb2b-b321031a8357"
      },
      "execution_count": null,
      "outputs": [
        {
          "output_type": "stream",
          "name": "stdout",
          "text": [
            "Enter Your name :vaibhav\n",
            "Enter Your age :22\n",
            "Enter your salary per Month :40000\n",
            "<class 'str'>\n",
            "<class 'bool'>\n",
            "<class 'str'>\n",
            "<class 'int'>\n",
            "<class 'float'>\n"
          ]
        }
      ]
    },
    {
      "cell_type": "code",
      "source": [
        "\n",
        "p=1000\n",
        "rate=5\n",
        "time_in_month=3\n",
        "print(\"Time :\" ,time_in_month)\n",
        "\n",
        "s_i1=(p*rate*time_in_month)/100\n",
        "print(\"simple_intrest ; \" ,s_i)"
      ],
      "metadata": {
        "colab": {
          "base_uri": "https://localhost:8080/"
        },
        "id": "SdiMbCQvstQ2",
        "outputId": "436dc0cd-63e3-4363-bc74-1c0ac432a8a7"
      },
      "execution_count": null,
      "outputs": [
        {
          "output_type": "stream",
          "name": "stdout",
          "text": [
            "Time : 3\n",
            "simple_intrest ;  150.0\n"
          ]
        }
      ]
    },
    {
      "cell_type": "code",
      "source": [
        "p=1000\n",
        "rate=5\n",
        "time_in_day=31\n",
        "t=31/30\n",
        "print(\"Time :\" ,t)\n",
        "\n",
        "s_i2=(p*rate*t)/100\n",
        "print(\"simple_intrest ; \" ,s_i2)"
      ],
      "metadata": {
        "id": "Fd2uNOev0o0R",
        "colab": {
          "base_uri": "https://localhost:8080/"
        },
        "outputId": "3a610700-c39f-4eb4-e69d-74b1fb50ccfe"
      },
      "execution_count": null,
      "outputs": [
        {
          "output_type": "stream",
          "name": "stdout",
          "text": [
            "Time : 1.0333333333333334\n",
            "simple_intrest ;  51.66666666666667\n"
          ]
        }
      ]
    },
    {
      "cell_type": "code",
      "source": [
        "amount=int(input(\"Enter amount :\"))\n",
        "rate=int(input(\"Enter Rate Monthly :\"))\n",
        "periodmon=int(input(\"Enter period in months :\"))\n",
        "periodday=int(input(\"Enter period in days :\"))\n",
        "month=(input(\"Enter month  :\"))\n",
        "\n",
        "if(month==\"jan\" or month==\"mar\" or month==\"may\" or month==\"jul\" or month==\"aug\" or month==\"oct\" or month==\"dec\"):\n",
        "   periodday = periodday/31\n",
        "\n",
        "elif(month==\"feb\"):\n",
        "   periodday = periodday/28\n",
        "\n",
        "else:\n",
        "   periodday = periodday/30\n",
        "\n",
        "\n",
        "sim=(amount*rate*periodmon)/100\n",
        "sid=(amount*rate*periodday)/100\n",
        "total_simple_interest = sim + sid\n",
        "\n",
        "print(\"S.I :\" ,total_simple_interest)\n",
        "pay_amount=amount+total_simple_interest\n",
        "\n",
        "print(\"pay Amount : \" , pay_amount)"
      ],
      "metadata": {
        "colab": {
          "base_uri": "https://localhost:8080/"
        },
        "id": "KY1GHq33vYWC",
        "outputId": "cea593b5-542f-4312-f487-22c9434bf32f"
      },
      "execution_count": null,
      "outputs": [
        {
          "output_type": "stream",
          "name": "stdout",
          "text": [
            "Enter amount :1000\n",
            "Enter Rate Monthly :5\n",
            "Enter period in months :8\n",
            "Enter period in days :12\n",
            "Enter month  :feb\n",
            "S.I : 421.42857142857144\n",
            "pay Amount :  1421.4285714285716\n"
          ]
        }
      ]
    },
    {
      "cell_type": "code",
      "source": [
        "year= int(input(\"enter year\"))\n",
        "\n",
        "if(year%4==0 and year%100!=0 or year%400==0):\n",
        "   print(\"Leap year\")\n",
        "\n",
        "\n",
        "else:\n",
        "  print(\"Not a leap year\")"
      ],
      "metadata": {
        "colab": {
          "base_uri": "https://localhost:8080/"
        },
        "id": "P_HjMSN92oV2",
        "outputId": "bf75857c-f82f-4af9-c700-82dbe07a2a12"
      },
      "execution_count": null,
      "outputs": [
        {
          "output_type": "stream",
          "name": "stdout",
          "text": [
            "enter year6800\n",
            "Leap year\n"
          ]
        }
      ]
    },
    {
      "cell_type": "code",
      "source": [
        "year= int(input(\"Enter year = \"))\n",
        "\n",
        "if(year%4==0):\n",
        "  if(year%100==0):\n",
        "    if(year%400==0):\n",
        "      print(\"leap year\")\n",
        "\n",
        "    else:\n",
        "      print(\"Not leap year\")\n",
        "\n",
        "  else:\n",
        "    print(\"leap year\")\n",
        "else:\n",
        "\n",
        "  print(\"Not leap year\")\n",
        "\n",
        "\n"
      ],
      "metadata": {
        "colab": {
          "base_uri": "https://localhost:8080/"
        },
        "id": "Lf3nR4zs7Pm1",
        "outputId": "f1d06e99-7f51-41e0-f6ab-24bbc4abfcd6"
      },
      "execution_count": null,
      "outputs": [
        {
          "output_type": "stream",
          "name": "stdout",
          "text": [
            "Enter year = 2200\n",
            "Not leap year\n"
          ]
        }
      ]
    },
    {
      "cell_type": "code",
      "source": [
        "amount = int(input(\"Enter amount : \"))\n",
        "rate = int(input(\"Enter Rate Monthly : \"))\n",
        "periodmon = int(input(\"Enter period in months : \"))\n",
        "periodday = int(input(\"Enter period in days : \"))\n",
        "month = input(\"Enter month : \")\n",
        "year = int(input(\"Enter year : \"))\n",
        "\n",
        "\n",
        "if (year % 4 == 0 and year % 100 != 0) or (year % 400 == 0):\n",
        "    print(\"Leap year\")\n",
        "    leap = True\n",
        "else:\n",
        "    print(\"Not a leap year\")\n",
        "    leap = False\n",
        "\n",
        "\n",
        "if month in [\"jan\", \"mar\", \"may\", \"jul\", \"aug\", \"oct\", \"dec\"]:\n",
        "    days_in_month = 31\n",
        "elif month == \"feb\":\n",
        "    days_in_month = 29 if leap else 28\n",
        "else:\n",
        "    days_in_month = 30\n",
        "\n",
        "periodday = periodday / days_in_month\n",
        "\n",
        "\n",
        "sim = (amount * rate * periodmon) / 100\n",
        "sid = (amount * rate * periodday) / 100\n",
        "total_simple_interest = sim + sid\n",
        "\n",
        "print(\"S.I :\", total_simple_interest)\n",
        "pay_amount = amount + total_simple_interest\n",
        "print(\"Pay Amount :\", pay_amount)\n"
      ],
      "metadata": {
        "colab": {
          "base_uri": "https://localhost:8080/"
        },
        "id": "su2Zko_Yq306",
        "outputId": "4471653a-fcc8-4462-8cbc-a56611208494"
      },
      "execution_count": null,
      "outputs": [
        {
          "output_type": "stream",
          "name": "stdout",
          "text": [
            "Enter amount : 10000\n",
            "Enter Rate Monthly : 7\n",
            "Enter period in months : 12\n",
            "Enter period in days : 2\n",
            "Enter month : jan\n",
            "Enter year : 2019\n",
            "Not a leap year\n",
            "S.I : 8445.161290322581\n",
            "Pay Amount : 18445.161290322583\n"
          ]
        }
      ]
    },
    {
      "cell_type": "code",
      "source": [
        "sum=0\n",
        "for i in range (0,26):\n",
        "  if i%2!=0 and i%3!=0 and i%4!=0 and i%5!=0:\n",
        "    sum=sum+i\n",
        "\n",
        "\n",
        "print(sum)\n",
        "print(i)\n"
      ],
      "metadata": {
        "id": "jHtdoc4IAz_N",
        "colab": {
          "base_uri": "https://localhost:8080/"
        },
        "outputId": "78737043-f743-4519-eeb2-3ea9d505a365"
      },
      "execution_count": null,
      "outputs": [
        {
          "output_type": "stream",
          "name": "stdout",
          "text": [
            "91\n",
            "25\n"
          ]
        }
      ]
    },
    {
      "cell_type": "code",
      "source": [
        "sum=0\n",
        "for i in range(1,6):\n",
        "  sum=sum+i\n",
        "print(sum)"
      ],
      "metadata": {
        "colab": {
          "base_uri": "https://localhost:8080/"
        },
        "id": "nAZEzC1AhMzt",
        "outputId": "4dd8bb61-b46e-450c-fc95-eb0bd5edc5ff"
      },
      "execution_count": null,
      "outputs": [
        {
          "output_type": "stream",
          "name": "stdout",
          "text": [
            "15\n"
          ]
        }
      ]
    },
    {
      "cell_type": "code",
      "source": [
        "sum1=0\n",
        "sum2=0\n",
        "\n",
        "for i in range(1,26):\n",
        "  sum1 =sum1 + i\n",
        "\n",
        "for j in range(1,26):\n",
        "  if j%2==0 or j%3==0 or j%5==0:\n",
        "    sum2 = sum2 + j\n",
        "\n",
        "print(\"Required ans : \" , sum1-sum2)"
      ],
      "metadata": {
        "colab": {
          "base_uri": "https://localhost:8080/"
        },
        "id": "3-E1SV0bj1l-",
        "outputId": "a74016b0-27a1-4961-d4df-977ca22c227c"
      },
      "execution_count": null,
      "outputs": [
        {
          "output_type": "stream",
          "name": "stdout",
          "text": [
            "Required ans :  91\n"
          ]
        }
      ]
    },
    {
      "cell_type": "code",
      "source": [
        "#fabonacchi series\n",
        "sum-=0\n",
        "first=0\n",
        "second=1\n",
        "print(first)\n",
        "print(second)\n",
        "for i in range(3,11):\n",
        "  third=first+second\n",
        "  first=second\n",
        "  second=third\n",
        "  print(third)\n",
        "\n"
      ],
      "metadata": {
        "colab": {
          "base_uri": "https://localhost:8080/"
        },
        "id": "9V9k4tTylyU_",
        "outputId": "09283468-e6aa-45c7-b6d4-601079b30f1d"
      },
      "execution_count": null,
      "outputs": [
        {
          "output_type": "stream",
          "name": "stdout",
          "text": [
            "0\n",
            "1\n",
            "1\n",
            "2\n",
            "3\n",
            "5\n",
            "8\n",
            "13\n",
            "21\n",
            "34\n"
          ]
        }
      ]
    },
    {
      "cell_type": "code",
      "source": [
        "fact=1\n",
        "n=int(input(\"Enter no for factorial :\"))\n",
        "for i in range(1,n+1):\n",
        "  fact=fact*i\n",
        "\n",
        "print(\"Factorial of n\" ,fact)\n"
      ],
      "metadata": {
        "colab": {
          "base_uri": "https://localhost:8080/"
        },
        "id": "eM1HylXSoe9d",
        "outputId": "980c10ea-a427-4040-aa3a-9195aa9aec07"
      },
      "execution_count": null,
      "outputs": [
        {
          "output_type": "stream",
          "name": "stdout",
          "text": [
            "Enter no for factorial :5\n",
            "Factorial of n 120\n"
          ]
        }
      ]
    },
    {
      "cell_type": "code",
      "source": [
        "fact=1\n",
        "sum=0\n",
        "n=int(input(\"Enter no for factorial :\"))\n",
        "for i in range(1,n+1):\n",
        "  fact=fact*i\n",
        "  sum=sum+fact\n",
        "\n",
        "print(\"Factoral of no :\",fact)\n",
        "print(\"Factoral of factorial :\",sum)\n",
        "\n"
      ],
      "metadata": {
        "colab": {
          "base_uri": "https://localhost:8080/"
        },
        "id": "-7_LsDxPt2JE",
        "outputId": "5d0b3be5-783a-4cb2-9ef9-2b66a7333ed6"
      },
      "execution_count": null,
      "outputs": [
        {
          "output_type": "stream",
          "name": "stdout",
          "text": [
            "Enter no for factorial :5\n",
            "Factoral of no : 120\n",
            "Factoral of factorial : 153\n"
          ]
        }
      ]
    },
    {
      "cell_type": "code",
      "source": [
        "fact=0\n",
        "for i in range(1,6,2):\n",
        "  fact=fact*i"
      ],
      "metadata": {
        "id": "3Ga9qaUsxIv9"
      },
      "execution_count": null,
      "outputs": []
    },
    {
      "cell_type": "code",
      "source": [
        "fact=1\n",
        "sum=0\n",
        "n= int(input(\"enter no for factorial : \"))\n",
        "for i in range(1,n+1):\n",
        "  fact=fact*i\n",
        "  if(i%2!=0):\n",
        "    sum=fact+sum\n",
        "    print(\"Factorial of factorial :\" ,sum)\n",
        "\n"
      ],
      "metadata": {
        "colab": {
          "base_uri": "https://localhost:8080/"
        },
        "id": "i_D58dCivUSE",
        "outputId": "5e1ddc8d-653e-4a70-b4f7-5512e5a744e1"
      },
      "execution_count": null,
      "outputs": [
        {
          "output_type": "stream",
          "name": "stdout",
          "text": [
            "enter no for factorial : 5\n",
            "Factorial of factorial : 1\n",
            "Factorial of factorial : 7\n",
            "Factorial of factorial : 127\n"
          ]
        }
      ]
    },
    {
      "cell_type": "code",
      "source": [
        "sum=0\n",
        "#n= int(input(\"enter no for factorial : \"))\n",
        "for i in range(1,6,2):\n",
        "  fact=1\n",
        "  for j in range(1,i+1):\n",
        "    fact = fact*j\n",
        "  sum=sum+fact\n",
        "  print(sum)\n",
        "  print(fact)\n",
        "\n"
      ],
      "metadata": {
        "colab": {
          "base_uri": "https://localhost:8080/"
        },
        "id": "yFZJZyQ9yG84",
        "outputId": "ba8ca6f1-266d-40a8-b539-9b369d42a7f1"
      },
      "execution_count": null,
      "outputs": [
        {
          "output_type": "stream",
          "name": "stdout",
          "text": [
            "1\n",
            "1\n",
            "7\n",
            "6\n",
            "127\n",
            "120\n"
          ]
        }
      ]
    },
    {
      "cell_type": "code",
      "source": [
        "#not done by me\n",
        "#Sum 2!+6!=10!=14! with if\n",
        "sum = 0\n",
        "fact = 1\n",
        "for i in range(2,15):\n",
        "  fact = fact*i\n",
        "  if(i%4==2):\n",
        "    sum = sum+fact\n",
        "  print(sum)"
      ],
      "metadata": {
        "id": "hHQQmTha172q",
        "colab": {
          "base_uri": "https://localhost:8080/"
        },
        "outputId": "22cbecf2-370a-4338-f2da-c9ddeb5b4d89"
      },
      "execution_count": null,
      "outputs": [
        {
          "output_type": "stream",
          "name": "stdout",
          "text": [
            "2\n",
            "2\n",
            "2\n",
            "2\n",
            "722\n",
            "722\n",
            "722\n",
            "722\n",
            "3629522\n",
            "3629522\n",
            "3629522\n",
            "3629522\n",
            "87181920722\n"
          ]
        }
      ]
    },
    {
      "cell_type": "code",
      "source": [
        "#while loop\n",
        "n=11\n",
        "while(n>=3):\n",
        "  print(n)\n",
        "  n-=4"
      ],
      "metadata": {
        "colab": {
          "base_uri": "https://localhost:8080/"
        },
        "id": "z52JPjhy0Rfj",
        "outputId": "bfa5524f-4724-4832-c280-773349d75431"
      },
      "execution_count": null,
      "outputs": [
        {
          "output_type": "stream",
          "name": "stdout",
          "text": [
            "11\n",
            "7\n",
            "3\n"
          ]
        }
      ]
    },
    {
      "cell_type": "code",
      "source": [
        "#SUM 1-10\n",
        "sum=0\n",
        "i=1\n",
        "while(i<11):\n",
        "  sum=sum+i\n",
        "  print(sum)\n",
        "  i+=1"
      ],
      "metadata": {
        "colab": {
          "base_uri": "https://localhost:8080/"
        },
        "id": "1lQeBhZH0Unt",
        "outputId": "80916946-a0ec-4821-9a0e-fdd5b005a53a"
      },
      "execution_count": null,
      "outputs": [
        {
          "output_type": "stream",
          "name": "stdout",
          "text": [
            "1\n",
            "3\n",
            "6\n",
            "10\n",
            "15\n",
            "21\n",
            "28\n",
            "36\n",
            "45\n",
            "55\n"
          ]
        }
      ]
    },
    {
      "cell_type": "code",
      "source": [
        "#factorial with while loop\n",
        "fact = 1\n",
        "num = int(input(\"Enter a number = \"))\n",
        "i=num\n",
        "while(i>0):\n",
        "  fact = fact*i\n",
        "  i-=1\n",
        "print(fact)"
      ],
      "metadata": {
        "colab": {
          "base_uri": "https://localhost:8080/"
        },
        "id": "BwucxH1D0YXc",
        "outputId": "c078340d-59ad-42af-fcef-65a74f38504a"
      },
      "execution_count": null,
      "outputs": [
        {
          "output_type": "stream",
          "name": "stdout",
          "text": [
            "Enter a number = 3\n",
            "6\n"
          ]
        }
      ]
    },
    {
      "cell_type": "code",
      "source": [
        "#print digits of a number\n",
        "num=int(input(\"enter digit = \"))\n",
        "while(num>0):\n",
        "  dig=int(num%10)\n",
        "  print(dig)\n",
        "  num=int(num/10)"
      ],
      "metadata": {
        "colab": {
          "base_uri": "https://localhost:8080/"
        },
        "id": "DhylR8aV0fXV",
        "outputId": "e6882249-f5ad-4dcd-a698-794c8c5e0342"
      },
      "execution_count": null,
      "outputs": [
        {
          "output_type": "stream",
          "name": "stdout",
          "text": [
            "enter digit = 5\n",
            "5\n"
          ]
        }
      ]
    },
    {
      "cell_type": "code",
      "source": [
        "#reverse of the num.\n",
        "num=int(input(\"enter digit = \"))\n",
        "rev = 0\n",
        "while(num>0):\n",
        "  dig=int(num%10)\n",
        "  rev=rev*10+dig\n",
        "  num=int(num/10)\n",
        "print(rev)"
      ],
      "metadata": {
        "id": "fBgKVD210jxX",
        "outputId": "b764a98d-2909-4bb7-be06-aaaab6aab1cb",
        "colab": {
          "base_uri": "https://localhost:8080/"
        }
      },
      "execution_count": null,
      "outputs": [
        {
          "output_type": "stream",
          "name": "stdout",
          "text": [
            "enter digit = 4\n",
            "4\n"
          ]
        }
      ]
    },
    {
      "cell_type": "code",
      "source": [
        "#HCF\n",
        "a=int(input(\"Enter the first no :\"))\n",
        "b=int(input(\"Enter the second no :\"))\n",
        "if(a>b):\n",
        "  small=b\n",
        "\n",
        "else:\n",
        "  small=a\n",
        "\n",
        "for i in range(1, small+1):\n",
        "  if(a%i==0 and b%i==0):\n",
        "    hcf=i #print i will also print the hcf\n",
        "\n",
        "\n",
        "print(\"HCF : \" ,hcf)\n",
        "lcm=(a*b)/hcf\n",
        "\n",
        "print(\"LCM \", lcm1)\n",
        "\n"
      ],
      "metadata": {
        "colab": {
          "base_uri": "https://localhost:8080/"
        },
        "id": "ciMhnAjecFdh",
        "outputId": "d5e2f362-7d62-4263-d8f3-58cc8d7b2272"
      },
      "execution_count": null,
      "outputs": [
        {
          "output_type": "stream",
          "name": "stdout",
          "text": [
            "Enter the first no :5\n",
            "Enter the second no :10\n",
            "HCF :  5\n",
            "LCM  10.0\n"
          ]
        }
      ]
    },
    {
      "cell_type": "code",
      "source": [
        "#HCF\n",
        "a=int(input(\"Enter the first no :\"))\n",
        "b=int(input(\"Enter the second no :\"))\n",
        "if(a>b):\n",
        "  big=b\n",
        "\n",
        "else:\n",
        "  big=a\n",
        "\n",
        "c=a*b\n",
        "lcm=1\n",
        "for i in range(big,c+1):\n",
        "  if(i%a==0 and i%b==0):\n",
        "    lcm=i #print ill also print the hcf\n",
        "    break\n",
        "\n",
        "\n",
        "print(\"lCM : \",lcm)\n",
        "\n"
      ],
      "metadata": {
        "colab": {
          "base_uri": "https://localhost:8080/"
        },
        "id": "qJsOHsf-i4sk",
        "outputId": "afb49bb5-e30c-4893-b685-5951329df3e2"
      },
      "execution_count": null,
      "outputs": [
        {
          "output_type": "stream",
          "name": "stdout",
          "text": [
            "Enter the first no :30\n",
            "Enter the second no :40\n",
            "lCM :  120\n"
          ]
        }
      ]
    },
    {
      "cell_type": "code",
      "source": [
        "def info():\n",
        "  print(\"Hello world\")\n",
        "\n",
        "info()"
      ],
      "metadata": {
        "colab": {
          "base_uri": "https://localhost:8080/"
        },
        "id": "XkE_v7has7nW",
        "outputId": "8536423d-1bd4-49c1-f2bc-a7ba47793bf2"
      },
      "execution_count": null,
      "outputs": [
        {
          "output_type": "stream",
          "name": "stdout",
          "text": [
            "Hello world\n"
          ]
        }
      ]
    },
    {
      "cell_type": "code",
      "source": [
        "def add_num(a,b):\n",
        "  print(a+b)\n",
        "\n",
        "add_num(10,60)"
      ],
      "metadata": {
        "colab": {
          "base_uri": "https://localhost:8080/"
        },
        "id": "hF33pS_3u6rQ",
        "outputId": "fe52dea0-aeb4-4d3c-a1a0-d3e4e1f1541b"
      },
      "execution_count": null,
      "outputs": [
        {
          "output_type": "stream",
          "name": "stdout",
          "text": [
            "70\n"
          ]
        }
      ]
    },
    {
      "cell_type": "code",
      "source": [
        "def fact(n):\n",
        "  fact=1\n",
        "  n=int(input(\"Enter no for factorial :\"))\n",
        "  for i in range(1,n+1):\n",
        "    fact=fact*i\n",
        "\n",
        "  print(fact)\n",
        "\n",
        "fact(5)"
      ],
      "metadata": {
        "colab": {
          "base_uri": "https://localhost:8080/"
        },
        "id": "q4hDlCRmveb7",
        "outputId": "f76894f5-5d59-4a33-8608-45564a99acce"
      },
      "execution_count": null,
      "outputs": [
        {
          "output_type": "stream",
          "name": "stdout",
          "text": [
            "Enter no for factorial :5\n",
            "120\n"
          ]
        }
      ]
    },
    {
      "cell_type": "code",
      "source": [
        "# recurrsion\n",
        "when a funtion call itself again and again"
      ],
      "metadata": {
        "id": "7wUpDmZVk_7a"
      },
      "execution_count": null,
      "outputs": []
    },
    {
      "cell_type": "code",
      "source": [
        "def fact(n):\n",
        "  if(n==1 or n==0):\n",
        "    return 1\n",
        "  else:\n",
        "    return(n*fact(n-1))\n",
        "\n",
        "fact(10)"
      ],
      "metadata": {
        "colab": {
          "base_uri": "https://localhost:8080/"
        },
        "id": "2FiTX7ORlKoS",
        "outputId": "7822e239-1281-42fb-ece2-be95d4dc85d6"
      },
      "execution_count": null,
      "outputs": [
        {
          "output_type": "execute_result",
          "data": {
            "text/plain": [
              "3628800"
            ]
          },
          "metadata": {},
          "execution_count": 3
        }
      ]
    },
    {
      "cell_type": "code",
      "source": [
        "def fact(n):\n",
        "  if(n==0 or n==1):\n",
        "    return 1\n",
        "  else:\n",
        "    return(n*fact(n-1))\n",
        "\n",
        "(you can change the number inside fact()):\n",
        "print(fact(5))"
      ],
      "metadata": {
        "colab": {
          "base_uri": "https://localhost:8080/"
        },
        "id": "Y6KS_HNamLQc",
        "outputId": "880ae299-6782-4e96-9922-7ab08c05b67b"
      },
      "execution_count": null,
      "outputs": [
        {
          "output_type": "stream",
          "name": "stdout",
          "text": [
            "120\n"
          ]
        }
      ]
    },
    {
      "cell_type": "code",
      "source": [
        "def fab(n):\n",
        "  if n==1:\n",
        "    return 0\n",
        "  if n==2:\n",
        "    return 1\n",
        "  return(fab(n-1)+fab(n-2))\n",
        "\n",
        "fab(1)"
      ],
      "metadata": {
        "colab": {
          "base_uri": "https://localhost:8080/"
        },
        "id": "ZFFOvCDAoQuU",
        "outputId": "08862b56-df49-4294-8178-f5f346870e2d"
      },
      "execution_count": null,
      "outputs": [
        {
          "output_type": "execute_result",
          "data": {
            "text/plain": [
              "0"
            ]
          },
          "metadata": {},
          "execution_count": 14
        }
      ]
    },
    {
      "cell_type": "code",
      "source": [
        "# factorial loop fuctions and recurrsiom revise"
      ],
      "metadata": {
        "id": "gaghLTaNtSya"
      },
      "execution_count": null,
      "outputs": []
    },
    {
      "cell_type": "code",
      "source": [
        "#concatination property"
      ],
      "metadata": {
        "id": "mT0MdS-4q7vO"
      },
      "execution_count": null,
      "outputs": []
    },
    {
      "cell_type": "code",
      "source": [
        "name = \"abcd\"\n",
        "rev=\"\"\n",
        "for char in name:\n",
        "  rev=char+rev\n",
        "  print(char)\n",
        "print(rev)"
      ],
      "metadata": {
        "colab": {
          "base_uri": "https://localhost:8080/"
        },
        "id": "pB7jNMRqxjOy",
        "outputId": "1e3f5626-3699-4201-864a-4807a9aace2f"
      },
      "execution_count": null,
      "outputs": [
        {
          "output_type": "stream",
          "name": "stdout",
          "text": [
            "a\n",
            "b\n",
            "c\n",
            "d\n",
            "dcba\n"
          ]
        }
      ]
    },
    {
      "cell_type": "code",
      "source": [
        "rev=0\n",
        "n=455\n",
        "while n>0:\n",
        "  digit=n%10\n",
        "  n=int(n/10)\n",
        "  rev=rev*10+digit\n",
        "  print(digit)\n",
        "\n",
        "print(rev)\n"
      ],
      "metadata": {
        "colab": {
          "base_uri": "https://localhost:8080/"
        },
        "id": "34qrIj-qx-MH",
        "outputId": "92c50d90-4d43-48c8-9011-b6763e808167"
      },
      "execution_count": null,
      "outputs": [
        {
          "output_type": "stream",
          "name": "stdout",
          "text": [
            "5\n",
            "5\n",
            "4\n",
            "554\n"
          ]
        }
      ]
    },
    {
      "cell_type": "code",
      "source": [
        "n=121\n",
        "rev=0\n",
        "temp_n = n  # Store the original number\n",
        "\n",
        "while n > 0:\n",
        "  digit = n % 10 # Corrected typo digity to digit\n",
        "  n = int(n / 10)\n",
        "  rev = rev * 10 + digit\n",
        "\n",
        "if temp_n == rev: # Palindrome check should be outside the loop\n",
        "  print(\"It's a palindrome\")\n",
        "else:\n",
        "  print(\"Not a palindrome\")"
      ],
      "metadata": {
        "colab": {
          "base_uri": "https://localhost:8080/"
        },
        "id": "N7I1QIXxu39D",
        "outputId": "b254a73e-be8b-4fcb-e247-b69e4983c640"
      },
      "execution_count": null,
      "outputs": [
        {
          "output_type": "stream",
          "name": "stdout",
          "text": [
            "It's a palindrome\n"
          ]
        }
      ]
    },
    {
      "cell_type": "code",
      "source": [
        "def rev(n):\n",
        "  n="
      ],
      "metadata": {
        "id": "L5uE-cykwxED"
      },
      "execution_count": null,
      "outputs": []
    },
    {
      "cell_type": "code",
      "metadata": {
        "colab": {
          "base_uri": "https://localhost:8080/"
        },
        "id": "ec824a05",
        "outputId": "7f719996-6dc4-4b2c-a884-bb772f1afe00"
      },
      "source": [
        "def is_palindrome(n):\n",
        "\n",
        "  original_n = n\n",
        "  rev = 0\n",
        "  while n > 0:\n",
        "    digit = n % 10\n",
        "    n = int(n / 10)\n",
        "    rev = rev * 10 + digit\n",
        "  return original_n == rev\n",
        "\n",
        "num1 = 121\n",
        "num2 = 127\n",
        "\n",
        "print(f\"{num1} is a palindrome: {is_palindrome(num1)}\")\n",
        "print(f\"{num2} is a palindrome: {is_palindrome(num2)}\")"
      ],
      "execution_count": null,
      "outputs": [
        {
          "output_type": "stream",
          "name": "stdout",
          "text": [
            "121 is a palindrome: True\n",
            "127 is a palindrome: False\n"
          ]
        }
      ]
    },
    {
      "cell_type": "code",
      "source": [
        "num=\"5678\"\n",
        "num[::-1]"
      ],
      "metadata": {
        "colab": {
          "base_uri": "https://localhost:8080/",
          "height": 36
        },
        "id": "jZ1dfly5xmFx",
        "outputId": "1966f9b3-a654-4302-e7e3-5dd516032d3a"
      },
      "execution_count": null,
      "outputs": [
        {
          "output_type": "execute_result",
          "data": {
            "text/plain": [
              "'8765'"
            ],
            "application/vnd.google.colaboratory.intrinsic+json": {
              "type": "string"
            }
          },
          "metadata": {},
          "execution_count": 10
        }
      ]
    },
    {
      "cell_type": "code",
      "source": [
        "num=5678\n",
        "num2=str(num)\n",
        "rev=num2[::-1]\n",
        "result=int(rev)/5\n",
        "print(result)"
      ],
      "metadata": {
        "colab": {
          "base_uri": "https://localhost:8080/"
        },
        "id": "zJ6iVtRBykc8",
        "outputId": "a42c012b-4d37-486e-9a0f-7a39100aa3ab"
      },
      "execution_count": null,
      "outputs": [
        {
          "output_type": "stream",
          "name": "stdout",
          "text": [
            "1753.0\n"
          ]
        }
      ]
    },
    {
      "cell_type": "code",
      "source": [
        "name = \"abcd\"\n",
        "rev=\"\"\n",
        "for char in name:\n",
        "  rev=char+rev\n",
        "  print(char)\n",
        "print(rev)"
      ],
      "metadata": {
        "colab": {
          "base_uri": "https://localhost:8080/"
        },
        "id": "aRt1f_mLy6ST",
        "outputId": "61361d52-2131-4ec2-d01c-28ea52bafcff"
      },
      "execution_count": null,
      "outputs": [
        {
          "output_type": "stream",
          "name": "stdout",
          "text": [
            "a\n",
            "b\n",
            "c\n",
            "d\n",
            "dcba\n"
          ]
        }
      ]
    },
    {
      "cell_type": "code",
      "source": [
        "name=\"  xyz  \"\n",
        "name.split()"
      ],
      "metadata": {
        "colab": {
          "base_uri": "https://localhost:8080/"
        },
        "id": "GNpOjwGO2Iq5",
        "outputId": "4a999afb-dfd8-4bae-b71c-938ce9307527"
      },
      "execution_count": null,
      "outputs": [
        {
          "output_type": "execute_result",
          "data": {
            "text/plain": [
              "['xyz']"
            ]
          },
          "metadata": {},
          "execution_count": 20
        }
      ]
    },
    {
      "cell_type": "code",
      "source": [
        "name=\"Amity university\"\n",
        "name.replace(\"i\",\"l\")"
      ],
      "metadata": {
        "colab": {
          "base_uri": "https://localhost:8080/",
          "height": 36
        },
        "id": "qiINbIvq2WiS",
        "outputId": "8a8c28c9-5dd3-4d68-9df2-69b29b9e12e8"
      },
      "execution_count": null,
      "outputs": [
        {
          "output_type": "execute_result",
          "data": {
            "text/plain": [
              "'Amlty unlverslty'"
            ],
            "application/vnd.google.colaboratory.intrinsic+json": {
              "type": "string"
            }
          },
          "metadata": {},
          "execution_count": 22
        }
      ]
    },
    {
      "cell_type": "code",
      "source": [
        "name=\"Amity university\"\n",
        "name.replace(\" \",\"\")"
      ],
      "metadata": {
        "id": "98UGfoQZ22EE",
        "colab": {
          "base_uri": "https://localhost:8080/",
          "height": 36
        },
        "outputId": "3de355fd-073f-4f43-8501-2cf5580256e2"
      },
      "execution_count": null,
      "outputs": [
        {
          "output_type": "execute_result",
          "data": {
            "text/plain": [
              "'Amityuniversity'"
            ],
            "application/vnd.google.colaboratory.intrinsic+json": {
              "type": "string"
            }
          },
          "metadata": {},
          "execution_count": 1
        }
      ]
    },
    {
      "cell_type": "code",
      "source": [
        "#datastructures"
      ],
      "metadata": {
        "id": "ZdnpIwoo0JQ6"
      },
      "execution_count": null,
      "outputs": []
    },
    {
      "cell_type": "code",
      "source": [
        "food_item=[\"Burgurs\",\"pizza\",\"mocktails\",\"chikenPizza\"]\n",
        "price_of_items=[350,420,120,510]\n",
        "print(food_item)\n",
        "print(price_of_items)"
      ],
      "metadata": {
        "colab": {
          "base_uri": "https://localhost:8080/"
        },
        "id": "0U7ejblg1VpR",
        "outputId": "504e0109-0326-4b0f-855f-3601ee5c5021"
      },
      "execution_count": null,
      "outputs": [
        {
          "output_type": "stream",
          "name": "stdout",
          "text": [
            "['Burgurs', 'pizza', 'mocktails', 'chikenPizza']\n",
            "[350, 420, 120, 510]\n"
          ]
        }
      ]
    },
    {
      "cell_type": "code",
      "source": [
        "a=[10,20,30,40,50]\n",
        "print(a[2])"
      ],
      "metadata": {
        "colab": {
          "base_uri": "https://localhost:8080/"
        },
        "id": "htaiwKBQ24VD",
        "outputId": "b520be72-381e-4d29-935e-2d45136169e6"
      },
      "execution_count": null,
      "outputs": [
        {
          "output_type": "stream",
          "name": "stdout",
          "text": [
            "30\n"
          ]
        }
      ]
    },
    {
      "cell_type": "code",
      "source": [
        "a=[10,20,30,40,50]\n",
        "print(a[4])"
      ],
      "metadata": {
        "colab": {
          "base_uri": "https://localhost:8080/"
        },
        "id": "8UGHHFYo0jUe",
        "outputId": "59bb5c9c-268b-49dd-9e60-ea9ac95b877e"
      },
      "execution_count": null,
      "outputs": [
        {
          "output_type": "stream",
          "name": "stdout",
          "text": [
            "50\n"
          ]
        }
      ]
    },
    {
      "cell_type": "code",
      "source": [
        "a=[10,20,30,40,50]\n",
        "num=(int(input(\"Enter num :\")))\n",
        "if num in a:\n",
        "  print(\"Available\")\n",
        "else:\n",
        "  print(\"Not available\")"
      ],
      "metadata": {
        "colab": {
          "base_uri": "https://localhost:8080/"
        },
        "id": "t-L1vbzL3dPA",
        "outputId": "ca51615a-49e7-4838-92db-6971f01b076f"
      },
      "execution_count": null,
      "outputs": [
        {
          "output_type": "stream",
          "name": "stdout",
          "text": [
            "Enter num :30\n",
            "Available\n"
          ]
        }
      ]
    },
    {
      "cell_type": "code",
      "source": [
        "a=[10,20,30,40,50]\n",
        "print(a[-4:-1])"
      ],
      "metadata": {
        "colab": {
          "base_uri": "https://localhost:8080/"
        },
        "id": "-fMnDFEk4Pd9",
        "outputId": "81c306cf-6cda-4e7f-c340-a67b2c90ca90"
      },
      "execution_count": null,
      "outputs": [
        {
          "output_type": "stream",
          "name": "stdout",
          "text": [
            "[20, 30, 40]\n"
          ]
        }
      ]
    },
    {
      "cell_type": "code",
      "source": [
        "a=[10,20,30,40,50]\n",
        "for i in a:\n",
        "  print(i)"
      ],
      "metadata": {
        "colab": {
          "base_uri": "https://localhost:8080/"
        },
        "id": "sidzr6y44KJq",
        "outputId": "94950d67-8e5d-4cbe-a7ba-5c38b1269d00"
      },
      "execution_count": null,
      "outputs": [
        {
          "output_type": "stream",
          "name": "stdout",
          "text": [
            "10\n",
            "20\n",
            "30\n",
            "40\n",
            "50\n"
          ]
        }
      ]
    },
    {
      "cell_type": "code",
      "source": [
        "a=[10,20,30,40,50]\n",
        "sum=0\n",
        "for i in a:\n",
        "  sum=sum+i\n",
        "print(sum)"
      ],
      "metadata": {
        "colab": {
          "base_uri": "https://localhost:8080/"
        },
        "id": "AJaVMOqE6R2c",
        "outputId": "89364a52-50f9-4884-fc61-2fa1acec240b"
      },
      "execution_count": null,
      "outputs": [
        {
          "output_type": "stream",
          "name": "stdout",
          "text": [
            "150\n"
          ]
        }
      ]
    },
    {
      "cell_type": "code",
      "source": [
        "food_item=[\"Burgurs\",\"pizza\",\"mocktails\",\"chikenPizza\"]\n",
        "price_of_items=[350,420,120,510]\n",
        "sum=0\n",
        "for i in price_of_items:\n",
        "  sum=sum+i\n",
        "print(food_item)\n",
        "print(price_of_items)\n",
        "print(\"Total Bill To Pay :\" ,sum )\n"
      ],
      "metadata": {
        "colab": {
          "base_uri": "https://localhost:8080/"
        },
        "id": "KANHdSDF6ub9",
        "outputId": "4748b49b-19eb-4a7a-f523-e2949129af7b"
      },
      "execution_count": null,
      "outputs": [
        {
          "output_type": "stream",
          "name": "stdout",
          "text": [
            "['Burgurs', 'pizza', 'mocktails', 'chikenPizza']\n",
            "[350, 420, 120, 510]\n",
            "Total Bill To Pay : 1400\n"
          ]
        }
      ]
    },
    {
      "cell_type": "code",
      "source": [
        "a=[10,20,30,40,50]\n",
        "a.append(70)\n",
        "print(a)"
      ],
      "metadata": {
        "colab": {
          "base_uri": "https://localhost:8080/"
        },
        "id": "G_9GKNGS7bZA",
        "outputId": "d0c3c992-c5ad-49eb-c65b-886b3bd769ed"
      },
      "execution_count": null,
      "outputs": [
        {
          "output_type": "stream",
          "name": "stdout",
          "text": [
            "[10, 20, 30, 40, 50, 70]\n"
          ]
        }
      ]
    },
    {
      "cell_type": "code",
      "source": [
        "a=[10,20,30,40,50]\n",
        "a[1]=50\n",
        "print(a)"
      ],
      "metadata": {
        "colab": {
          "base_uri": "https://localhost:8080/"
        },
        "id": "QwdEo-i37mf7",
        "outputId": "a9a1a4a7-261c-4424-bbec-6f6d9f0d0394"
      },
      "execution_count": null,
      "outputs": [
        {
          "output_type": "stream",
          "name": "stdout",
          "text": [
            "[10, 50, 30, 40, 50]\n"
          ]
        }
      ]
    },
    {
      "cell_type": "code",
      "source": [
        "a=[10,20,30,40,50]\n",
        "a.remove(40)\n",
        "print(a)"
      ],
      "metadata": {
        "colab": {
          "base_uri": "https://localhost:8080/"
        },
        "id": "3N_HCEDW8IdT",
        "outputId": "59b803ce-fa04-4dbc-d6c7-f8e576f7a715"
      },
      "execution_count": null,
      "outputs": [
        {
          "output_type": "stream",
          "name": "stdout",
          "text": [
            "[10, 20, 30, 50]\n"
          ]
        }
      ]
    },
    {
      "cell_type": "code",
      "source": [
        "a=[10,20,30,40,50]\n",
        "a.pop(3) # Corrected from a.pop[40] to a.pop(3) to remove the element with value 40 which is at index 3\n",
        "print(a)"
      ],
      "metadata": {
        "colab": {
          "base_uri": "https://localhost:8080/"
        },
        "id": "OgstZ44H8SvV",
        "outputId": "a1ed1471-1519-4078-eff7-a9bc7bd74821"
      },
      "execution_count": null,
      "outputs": [
        {
          "output_type": "stream",
          "name": "stdout",
          "text": [
            "[10, 20, 30, 50]\n"
          ]
        }
      ]
    },
    {
      "cell_type": "code",
      "source": [
        "food_item=[\"Burgurs\",\"pizza\",\"mocktails\",\"chikenPizza\"]\n",
        "price_of_items=[350,420,120,510]\n",
        "discount_on_food_items=[4,5,2,6]\n",
        "sum=0\n",
        "for i in price_of_items:\n",
        "  sum=sum+i\n",
        "\n",
        "total_discount_on_food_items=[350]\n",
        "print(food_item)\n",
        "print(price_of_items)\n",
        "print(\"Total Bill To Pay :\" ,sum )\n"
      ],
      "metadata": {
        "id": "QInY5OdV8eKw",
        "colab": {
          "base_uri": "https://localhost:8080/"
        },
        "outputId": "a94102f3-819b-4432-8f1c-718da6c6dfbc"
      },
      "execution_count": null,
      "outputs": [
        {
          "output_type": "stream",
          "name": "stdout",
          "text": [
            "['Burgurs', 'pizza', 'mocktails', 'chikenPizza']\n",
            "[350, 420, 120, 510]\n",
            "Total Bill To Pay : 1400\n"
          ]
        }
      ]
    },
    {
      "cell_type": "code",
      "source": [
        "price_of_pizza =300\n",
        "price_of_burgur=200\n",
        "price_of_chikenTikka=560\n",
        "discount_on_pizza=4\n",
        "discount_on_burgur=5\n",
        "discount_on_chikenTikka=4\n",
        "total_bill=price_of_pizza+price_of_burgur+price_of_chikenTikka\n",
        "total_discount_of_pizza=price_of_pizza*discount_on_pizza/100\n",
        "total_discount_of_burgur=price_of_burgur*discount_on_burgur/100\n",
        "total_discount_of_chikenTikka=price_of_chikenTikka*discount_on_chikenTikka/100\n",
        "print(\"pizza bill : \" ,(price_of_pizza-total_discount_of_pizza))\n",
        "print(\"burgur bill: \" ,(price_of_burgur-total_discount_of_burgur))\n",
        "print(\"chikenTikka: \" ,(price_of_chikenTikka-total_discount_of_chikenTikka))\n",
        "print(\"total bill to pay :\", (price_of_pizza - total_discount_of_pizza + price_of_burgur - total_discount_of_burgur + price_of_chikenTikka - total_discount_of_chikenTikka))\n",
        "\n",
        "\n",
        "\n"
      ],
      "metadata": {
        "colab": {
          "base_uri": "https://localhost:8080/"
        },
        "id": "9_UtjBIc9WlD",
        "outputId": "bba94dc8-0690-41a6-a1c9-e1ebe3bfba91"
      },
      "execution_count": null,
      "outputs": [
        {
          "output_type": "stream",
          "name": "stdout",
          "text": [
            "pizza bill :  288.0\n",
            "burgur bill:  190.0\n",
            "chikenTikka:  537.6\n",
            "total bill to pay : 1015.6\n"
          ]
        }
      ]
    },
    {
      "cell_type": "code",
      "source": [
        "food_item=[\"Burgurs\",\"pizza\",\"mocktails\",\"chikenPizza\"]\n",
        "price_of_items=[350,420,120,510]\n",
        "discount_on_food_items=[4,5,2,6]\n",
        "\n",
        "print(\"Item | Original Price | Discount (%) | Final Price\")\n",
        "#print(\"-\" * 50)\n",
        "\n",
        "sum_total_price = 0\n",
        "sum_total_discounted_price = 0\n",
        "\n",
        "for i in range(len(food_item)):\n",
        "  item = food_item[i]\n",
        "  price = price_of_items[i]\n",
        "  discount_rate = discount_on_food_items[i]\n",
        "\n",
        "  discount_amount = price * discount_rate / 100\n",
        "  final_price = price - discount_amount\n",
        "\n",
        "  print(f\"{item} | {price:<14} | {discount_rate:<12} | {final_price}\")\n",
        "\n",
        "  sum_total_price += price\n",
        "  sum_total_discounted_price += final_price\n",
        "\n",
        "#print(\"-\" * 50)\n",
        "print(f\"Total Original Bill: {sum_total_price}\")\n",
        "print(f\"Total Bill After Discount: {sum_total_discounted_price}\")"
      ],
      "metadata": {
        "colab": {
          "base_uri": "https://localhost:8080/"
        },
        "id": "mgTRYd2u-kHf",
        "outputId": "9f8b384c-52fe-496a-95a7-2811ec95bee6"
      },
      "execution_count": null,
      "outputs": [
        {
          "output_type": "stream",
          "name": "stdout",
          "text": [
            "Item | Original Price | Discount (%) | Final Price\n",
            "Burgurs | 350            | 4            | 336.0\n",
            "pizza | 420            | 5            | 399.0\n",
            "mocktails | 120            | 2            | 117.6\n",
            "chikenPizza | 510            | 6            | 479.4\n",
            "Total Original Bill: 1400\n",
            "Total Bill After Discount: 1332.0\n"
          ]
        }
      ]
    },
    {
      "cell_type": "code",
      "source": [
        "items=[]\n",
        "sum_prices=0\n",
        "prices=[]\n",
        "discounts=[]\n",
        "total_discount=0\n",
        "\n",
        "n=int(input(\"Enter the number of food items: \"))\n",
        "for i in range(n):\n",
        "  item=input(f\"Enter your item name {i+1}:\")\n",
        "  items.append(item)\n",
        "  price=float(input(f\"Enter your item price {i+1}:\"))\n",
        "  prices.append(price)\n",
        "  discount=int(input(f\"Enter discount percentage on your item {i+1}:\"))\n",
        "  discounts.append(discount)\n",
        "\n",
        "  sum_prices = sum_prices + price\n",
        "  discount_amount=price*discount/100\n",
        "  total_discount=total_discount+discount_amount\n",
        "\n",
        "payable_bill=sum_prices-total_discount\n",
        "\n",
        "print(\"Items:\", items)\n",
        "print(\"Prices:\", prices)\n",
        "print(\"Discounts:\", discounts)\n",
        "print(\"Total Original Price:\", sum_prices)\n",
        "print(\"Total Discount Amount:\", total_discount)\n",
        "print(\"Total Payable Bill:\", payable_bill)"
      ],
      "metadata": {
        "colab": {
          "base_uri": "https://localhost:8080/"
        },
        "id": "OtUPKQqlAap8",
        "outputId": "6b3a7b34-f185-4546-8363-b5e01efa49ef"
      },
      "execution_count": null,
      "outputs": [
        {
          "output_type": "stream",
          "name": "stdout",
          "text": [
            "Enter the number of food items: 2\n",
            "Enter your item name 1:pizza\n",
            "Enter your item price 1:450\n",
            "Enter discount percentage on your item 1:5\n",
            "Enter your item name 2:burgur\n",
            "Enter your item price 2:310\n",
            "Enter discount percentage on your item 2:9\n",
            "Items: ['pizza', 'burgur']\n",
            "Prices: [450.0, 310.0]\n",
            "Discounts: [5, 9]\n",
            "Total Original Price: 760.0\n",
            "Total Discount Amount: 50.4\n",
            "Total Payable Bill: 709.6\n"
          ]
        }
      ]
    },
    {
      "cell_type": "code",
      "source": [
        "#coupoun code\n",
        "coupoun_code=\"SALE10\"\n",
        "items=[]\n",
        "sum_prices=0\n",
        "prices=[]\n",
        "discounts=[]\n",
        "total_discount=0\n",
        "\n",
        "n=int(input(\"Enter the number of food items: \"))\n",
        "for i in range(n):\n",
        "  item=input(f\"Enter your item name {i+1}:\")\n",
        "  items.append(item)\n",
        "  price=float(input(f\"Enter your item price {i+1}:\"))\n",
        "  prices.append(price)\n",
        "  discount=int(input(f\"Enter discount percentage on your item {i+1}:\"))\n",
        "  discounts.append(discount)\n",
        "user_coupon=input(\"Enter Coupoun Code :\")\n",
        "if(coupoun_code==\"user_coupon\"):\n",
        "  final_discount=payable_bill*9/100\n",
        "  print(payable_bill-final_discount)\n",
        "else:\n",
        "  print(\"No discount\" )\n",
        "  sum_prices = sum_prices + price\n",
        "  discount_amount=price*discount/100\n",
        "  total_discount=total_discount+discount_amount\n",
        "\n",
        "payable_bill=sum_prices-total_discount\n",
        "#total_payable_bill=payable_bill-final_discount\n",
        "print(\"Items:\", items)\n",
        "print(\"Prices:\", prices)\n",
        "print(\"Discounts:\", discounts)\n",
        "print(\"Total Original Price:\", sum_prices)\n",
        "print(\"Total Discount Amount:\", total_discount)\n",
        "print(\"Total Payable Bill:\", payable_bill)"
      ],
      "metadata": {
        "colab": {
          "base_uri": "https://localhost:8080/"
        },
        "id": "cY9qzqqeFlMz",
        "outputId": "7d87625f-47bf-45aa-c7aa-f6195edd5d6f"
      },
      "execution_count": null,
      "outputs": [
        {
          "output_type": "stream",
          "name": "stdout",
          "text": [
            "Enter the number of food items: 2\n",
            "Enter your item name 1:pizza\n",
            "Enter your item price 1:500\n",
            "Enter discount percentage on your item 1:7\n",
            "Enter your item name 2:burgur\n",
            "Enter your item price 2:300\n",
            "Enter discount percentage on your item 2:6\n",
            "Enter Coupoun Code :SALE10\n",
            "No discount\n",
            "Items: ['pizza', 'burgur']\n",
            "Prices: [500.0, 300.0]\n",
            "Discounts: [7, 6]\n",
            "Total Original Price: 300.0\n",
            "Total Discount Amount: 18.0\n",
            "Total Payable Bill: 282.0\n"
          ]
        }
      ]
    },
    {
      "cell_type": "code",
      "source": [
        "coupon_codes = [\"SALE10\", \"SAVE20\", \"BIG50\"]\n",
        "coupon_discounts = [10, 20, 50]\n",
        "\n",
        "items = []\n",
        "sum_prices = 0\n",
        "prices = []\n",
        "discounts = []\n",
        "total_discount = 0\n",
        "\n",
        "n = int(input(\"Enter the number of food items: \"))\n",
        "for i in range(n):\n",
        "    item = input(f\"Enter your item name {i+1}:\")\n",
        "    items.append(item)\n",
        "    price = float(input(f\"Enter your item price {i+1}:\"))\n",
        "    prices.append(price)\n",
        "    discount = int(input(f\"Enter discount percentage on your item {i+1}:\"))\n",
        "    discounts.append(discount)\n",
        "\n",
        "    sum_prices = sum_prices + price\n",
        "    discount_amount = price * discount / 100\n",
        "    total_discount = total_discount + discount_amount\n",
        "\n",
        "payable_bill = sum_prices - total_discount\n",
        "\n",
        "user_coupon = input(\"Enter Coupon Code: \")\n",
        "\n",
        "if user_coupon in coupon_codes:\n",
        "    print(\"Coupon applied successfully!\")\n",
        "    coupon_index = coupon_codes.index(user_coupon)\n",
        "    discount_percent = coupon_discounts[coupon_index]\n",
        "    final_discount = payable_bill * discount_percent / 100\n",
        "    payable_bill = payable_bill - final_discount\n",
        "else:\n",
        "    print(\"Invalid coupon code.\")\n",
        "\n",
        "# .print(\"\\n--- Final Bill ---\")\n",
        "print(\"Items:\", items)\n",
        "print(\"Prices:\", prices)\n",
        "print(\"Discounts:\", discounts)\n",
        "print(\"Total Original Price:\", sum_prices)\n",
        "print(\"Total Discount Amount from Items:\", total_discount)\n",
        "print(\"Total Payable Bill:\", payable_bill)"
      ],
      "metadata": {
        "id": "aEo7qdLTKPsI",
        "colab": {
          "base_uri": "https://localhost:8080/"
        },
        "outputId": "3d8a95e9-ee6e-47a6-c3fb-f7dc949d713f"
      },
      "execution_count": null,
      "outputs": [
        {
          "output_type": "stream",
          "name": "stdout",
          "text": [
            "Enter the number of food items: 2\n",
            "Enter your item name 1:pizza\n",
            "Enter your item price 1:500\n",
            "Enter discount percentage on your item 1:8\n",
            "Enter your item name 2:burgur\n",
            "Enter your item price 2:310\n",
            "Enter discount percentage on your item 2:6\n",
            "Enter Coupon Code: huge100\n",
            "Invalid coupon code.\n",
            "Items: ['pizza', 'burgur']\n",
            "Prices: [500.0, 310.0]\n",
            "Discounts: [8, 6]\n",
            "Total Original Price: 810.0\n",
            "Total Discount Amount from Items: 58.6\n",
            "Total Payable Bill: 751.4\n"
          ]
        }
      ]
    },
    {
      "cell_type": "code",
      "source": [
        "import matplotlib.pyplot as plt\n",
        "customer_name=[\"Vaibhav Tiwari\" , \"Saanvi Gupta\" , \"Devang Sehgal\" , \"Manan Gupta\" , \"Kartik Kapoor\" , \"Rahul Sharma\" , \"Lakshay Batta\" , \"Sarthak Raheja\" , \"Anshul Singhal\" , \"Akul Malothra\"]\n",
        "state_name=[\"HP\" , \"Uttar Pradesh\" , \"Delhi\" , \"Punjab\" , \"Haryana\" , \"Himachal Pradesh\" , \"Delhi\" , \"HP\" , \"Uttar Pradesh\" , \"Haryana\"]\n",
        "products_name=[\"Mobile\" , \"Laptop\" , \"TV\" , \"Iphone\" , \"AC\" , \"Headphones\" , \"Earphones\" , \"LED\" , \"Speaker\" , \"Samsung Phone\"]\n",
        "Gender=[\"Male\" , \"Female\" , \"Male\" , \"Male\" , \"Male\" , \"Female\" , \"Male\" , \"Female\" , \"Male\" , \"Male\"]\n",
        "Amount=[40000 , 80000 , 30000 , 90000 , 33000 , 9000 , 4500 , 6500 , 18000 , 100000]\n",
        "Cost=[38000 , 77000 , 28000 , 88000 , 30000 , 8500 , 4100 , 6000 , 17000, 96000 ]\n",
        "\n",
        "#state wise sale\n",
        "unique_state=[]\n",
        "state_wise_sale=[]\n",
        "for elements in state_name:\n",
        "  if elements not in unique_state:\n",
        "    unique_state.append(elements)\n",
        "    state_wise_sale.append(0)\n",
        "\n",
        "\n",
        "for elements in range(len(state_name)):\n",
        "  index=unique_state.index(state_name[elements])\n",
        "  state_wise_sale[index]=state_wise_sale[index]+Amount[elements]\n",
        "print(unique_state)\n",
        "print(state_wise_sale)\n",
        "\n",
        "plt.bar(unique_state,state_wise_sale)\n",
        "plt.show()\n",
        "\n",
        "#Gender Wise\n",
        "unique_gender=[]\n",
        "for elements in Gender:\n",
        "  if elements not in unique_gender:\n",
        "    unique_gender.append(elements)\n",
        "\n",
        "\n",
        "\n",
        "#Gender Wise\n",
        "unique_gender=[]\n",
        "gender_wise_sale=[]\n",
        "for elements in Gender:\n",
        "  if elements not in unique_gender:\n",
        "    unique_gender.append(elements)\n",
        "    gender_wise_sale.append(0)\n",
        "\n",
        "for elements in range(len(Gender)):\n",
        "  index3=unique_gender.index(Gender[elements])\n",
        "  gender_wise_sale[index3]=gender_wise_sale[index3]+Amount[elements]\n",
        "\n",
        "print(unique_gender)\n",
        "print(gender_wise_sale)\n",
        "plt.bar(unique_gender,gender_wise_sale)\n",
        "plt.show()\n",
        "\n",
        "\n",
        "#ProductWise sale\n",
        "unique_product=[]\n",
        "product_wise_sale=[]\n",
        "\n",
        "for elements in products_name:\n",
        "  if elements not in unique_product:\n",
        "    unique_product.append(elements)\n",
        "    product_wise_sale.append(0)\n",
        "\n",
        "for elements in range(len(products_name)):\n",
        "  index2=unique_product.index(products_name[elements])\n",
        "  product_wise_sale[index2]=  product_wise_sale[index2]+Amount[elements]\n",
        "print(unique_product)\n",
        "print(product_wise_sale)\n",
        "plt.bar(unique_product,product_wise_sale)\n",
        "plt.show()\n",
        "\n",
        "unique_states=[]\n",
        "profits=[]\n",
        "state_wise_profit=[]\n",
        "\n",
        "for elements in state_name:\n",
        "  if elements not in unique_states:\n",
        "    unique_states.append(elements)\n",
        "    state_wise_profit.append(0)\n",
        "\n",
        "for elements in range(len(state_name)):\n",
        "  profit=Amount[elements]-Cost[elements]\n",
        "  profits.append(profit)\n",
        "  index4=unique_states.index(state_name[elements])\n",
        "  state_wise_profit[index4]=state_wise_profit[index4]+profits[elements]\n",
        "\n",
        "\n",
        "print(unique_states)\n",
        "print(state_wise_profit)\n",
        "plt.bar(unique_states,state_wise_profit)\n",
        "plt.show()"
      ],
      "metadata": {
        "colab": {
          "base_uri": "https://localhost:8080/",
          "height": 1000
        },
        "id": "HnSr9LgjjaGm",
        "outputId": "14b2eb0a-a405-468c-ee0f-6666479e4157"
      },
      "execution_count": null,
      "outputs": [
        {
          "output_type": "stream",
          "name": "stdout",
          "text": [
            "['HP', 'Uttar Pradesh', 'Delhi', 'Punjab', 'Haryana', 'Himachal Pradesh']\n",
            "[46500, 98000, 34500, 90000, 133000, 9000]\n"
          ]
        },
        {
          "output_type": "display_data",
          "data": {
            "text/plain": [
              "<Figure size 640x480 with 1 Axes>"
            ],
            "image/png": "[encoded data removed]"
          },
          "metadata": {}
        },
        {
          "output_type": "stream",
          "name": "stdout",
          "text": [
            "['Male', 'Female']\n",
            "[315500, 95500]\n"
          ]
        },
        {
          "output_type": "display_data",
          "data": {
            "text/plain": [
              "<Figure size 640x480 with 1 Axes>"
            ],
            "image/png": "[encoded data removed]"
          },
          "metadata": {}
        },
        {
          "output_type": "stream",
          "name": "stdout",
          "text": [
            "['Mobile', 'Laptop', 'TV', 'Iphone', 'AC', 'Headphones', 'Earphones', 'LED', 'Speaker', 'Samsung Phone']\n",
            "[40000, 80000, 30000, 90000, 33000, 9000, 4500, 6500, 18000, 100000]\n"
          ]
        },
        {
          "output_type": "display_data",
          "data": {
            "text/plain": [
              "<Figure size 640x480 with 1 Axes>"
            ],
            "image/png": "[encoded data removed]"
          },
          "metadata": {}
        },
        {
          "output_type": "stream",
          "name": "stdout",
          "text": [
            "['HP', 'Uttar Pradesh', 'Delhi', 'Punjab', 'Haryana', 'Himachal Pradesh']\n",
            "[2500, 4000, 2400, 2000, 7000, 500]\n"
          ]
        },
        {
          "output_type": "display_data",
          "data": {
            "text/plain": [
              "<Figure size 640x480 with 1 Axes>"
            ],
            "image/png": "[encoded data removed]"
          },
          "metadata": {}
        }
      ]
    },
    {
      "cell_type": "code",
      "source": [
        "import matplotlib.pyplot as plt\n",
        "cities=[\"Mandi\" , \"Shimal\" , \"Zirakpur\" , \" Mohali\" , \"Chandigarh\"]\n",
        "deaths_city_wise=[40,50,30,76,100]\n",
        "covid_cases=[200,300,220,340,400]\n",
        "recover_cases = [covid_cases[i] - deaths_city_wise[i] for i in range(len(cities))]\n",
        "\n",
        "plt.bar(cities,recover_cases, label=\"recovered\")\n",
        "plt.bar(cities,deaths_city_wise, label=\"Deaths\")\n",
        "plt.legend()\n",
        "plt.show()\n",
        "\n",
        "\n",
        "print(\"Recovered Cases:\", recover_cases)"
      ],
      "metadata": {
        "colab": {
          "base_uri": "https://localhost:8080/",
          "height": 447
        },
        "id": "3xyAj8kKnyJS",
        "outputId": "1c01950e-8281-47b9-a0a4-381ff3efb9b7"
      },
      "execution_count": null,
      "outputs": [
        {
          "output_type": "display_data",
          "data": {
            "text/plain": [
              "<Figure size 640x480 with 1 Axes>"
            ],
            "image/png": "[encoded data removed]"
          },
          "metadata": {}
        },
        {
          "output_type": "stream",
          "name": "stdout",
          "text": [
            "Recovered Cases: [160, 250, 190, 264, 300]\n"
          ]
        }
      ]
    },
    {
      "cell_type": "code",
      "source": [
        "import matplotlib.pyplot as plt\n",
        "cities=[\"Mandi\" , \"Kullu\" , \"solan\" , \"kangra\" , \"\"]"
      ],
      "metadata": {
        "id": "pBJQO8Pisnfx"
      },
      "execution_count": null,
      "outputs": []
    },
    {
      "cell_type": "code",
      "source": [
        "#tuple"
      ],
      "metadata": {
        "id": "ZP85n52C0q00"
      },
      "execution_count": null,
      "outputs": []
    },
    {
      "cell_type": "code",
      "source": [
        "a=(5,6,7,8)\n",
        "a[1:3]\n",
        "print(a)"
      ],
      "metadata": {
        "colab": {
          "base_uri": "https://localhost:8080/"
        },
        "id": "Jaen-mIz1K4q",
        "outputId": "96b4f947-2d6e-482e-c1f3-e7955963bc82"
      },
      "execution_count": null,
      "outputs": [
        {
          "output_type": "stream",
          "name": "stdout",
          "text": [
            "(5, 6, 7, 8)\n"
          ]
        }
      ]
    },
    {
      "cell_type": "code",
      "source": [
        "a=(5,6,7,8)\n",
        "x=list(a)\n",
        "tuple(x)"
      ],
      "metadata": {
        "colab": {
          "base_uri": "https://localhost:8080/"
        },
        "id": "hOHrQcFi1drA",
        "outputId": "44e9e408-42b1-4f86-a545-6e27e27b4ae2"
      },
      "execution_count": null,
      "outputs": [
        {
          "output_type": "execute_result",
          "data": {
            "text/plain": [
              "(5, 6, 7, 8)"
            ]
          },
          "metadata": {},
          "execution_count": 5
        }
      ]
    },
    {
      "cell_type": "code",
      "source": [
        "a=(5,6,7,8)\n",
        "x=list(a)"
      ],
      "metadata": {
        "id": "d9u0qkOo1nkv"
      },
      "execution_count": null,
      "outputs": []
    },
    {
      "cell_type": "code",
      "source": [
        "a=(1,)\n",
        "print(a)"
      ],
      "metadata": {
        "colab": {
          "base_uri": "https://localhost:8080/"
        },
        "id": "u-klZuKG17Op",
        "outputId": "754ced50-c0e4-43d3-a49c-3c27ea1a9e9c"
      },
      "execution_count": null,
      "outputs": [
        {
          "output_type": "stream",
          "name": "stdout",
          "text": [
            "(1,)\n"
          ]
        }
      ]
    },
    {
      "cell_type": "code",
      "source": [
        "a=(10)\n",
        "type(a)"
      ],
      "metadata": {
        "colab": {
          "base_uri": "https://localhost:8080/"
        },
        "id": "iJA-DHGi2LWJ",
        "outputId": "2cb8cfdd-930d-4e63-f5ff-feb22840760b"
      },
      "execution_count": null,
      "outputs": [
        {
          "output_type": "execute_result",
          "data": {
            "text/plain": [
              "int"
            ]
          },
          "metadata": {},
          "execution_count": 10
        }
      ]
    },
    {
      "cell_type": "code",
      "source": [
        "a=(5,6,7,8)\n",
        "sum=0\n",
        "for element in a:\n",
        "  sum=sum+element\n",
        "print(sum)"
      ],
      "metadata": {
        "colab": {
          "base_uri": "https://localhost:8080/"
        },
        "id": "0WkviJ7K2bO4",
        "outputId": "63c64104-7b98-474d-ff9a-df4ed37d94b3"
      },
      "execution_count": null,
      "outputs": [
        {
          "output_type": "stream",
          "name": "stdout",
          "text": [
            "26\n"
          ]
        }
      ]
    },
    {
      "cell_type": "code",
      "source": [
        "item=(\"Pizza\" , \"Burgur\" , \"moktails\" , \"coktails\")\n",
        "price=(510,290,130,200)\n",
        "discount=(3,5,7,0)\n",
        "sum_price=0\n",
        "total_discount=0\n",
        "\n",
        "for i in range(len(price)):\n",
        "  sum_price=sum_price+price[i]\n",
        "  discount_amount = price[i] * discount[i] / 100\n",
        "  total_discount=total_discount+discount_amount\n",
        "\n",
        "payable_bill=sum_price-total_discount\n",
        "\n",
        "print(\"Total Price:\", sum_price)\n",
        "print(\"Total Discount:\", total_discount)\n",
        "print(\"Payable Bill:\", payable_bill)"
      ],
      "metadata": {
        "colab": {
          "base_uri": "https://localhost:8080/"
        },
        "id": "Jw2vozwM2u_C",
        "outputId": "4c8f43e6-f0f4-4bf4-a96a-05ab13a27f6b"
      },
      "execution_count": null,
      "outputs": [
        {
          "output_type": "stream",
          "name": "stdout",
          "text": [
            "Total Price: 1130\n",
            "Total Discount: 38.9\n",
            "Payable Bill: 1091.1\n"
          ]
        }
      ]
    },
    {
      "cell_type": "code",
      "metadata": {
        "id": "959556a5"
      },
      "source": [
        "a=(10,20,30,40)\n",
        "# Convert the tuple to a list\n",
        "a_list = list(a)\n",
        "# Remove the element\n",
        "a_list.remove(40)\n",
        "# Convert the list back to a tuple (optional)\n",
        "a_tuple = tuple(a_list)\n",
        "print(a_tuple)"
      ],
      "execution_count": null,
      "outputs": []
    },
    {
      "cell_type": "code",
      "source": [
        "a=(\"Amity University\")\n",
        "a.replace(\"a\",\"i\")\n",
        "print(a)"
      ],
      "metadata": {
        "colab": {
          "base_uri": "https://localhost:8080/"
        },
        "id": "yQzxY1BR5pPY",
        "outputId": "7ca38ec1-ffed-4d76-f011-b8028cd4baef"
      },
      "execution_count": null,
      "outputs": [
        {
          "output_type": "stream",
          "name": "stdout",
          "text": [
            "Amity University\n"
          ]
        }
      ]
    },
    {
      "cell_type": "code",
      "source": [
        "#dictionary"
      ],
      "metadata": {
        "id": "y9ClHLwCmw4g"
      },
      "execution_count": null,
      "outputs": []
    },
    {
      "cell_type": "code",
      "source": [
        "bill={\"item\":[\"Burger\",\"pizza\",\"Pasta\",\"Peanut Butter\"],\n",
        "      \"price\":[100,200,300,400],\n",
        "      \"discount\":10}\n",
        "total=0\n",
        "for i in bill[\"price\"]:\n",
        "  total=total+i\n",
        "print(\"Total bill=\",total)\n",
        "final_bill=total-(total*bill[\"discount\"]/100)\n",
        "print(\"Final bill=\",final_bill)"
      ],
      "metadata": {
        "colab": {
          "base_uri": "https://localhost:8080/"
        },
        "id": "wrlRDFB9xgZJ",
        "outputId": "655f0cec-8274-4b0f-9e59-4eb26ec224f4"
      },
      "execution_count": null,
      "outputs": [
        {
          "output_type": "stream",
          "name": "stdout",
          "text": [
            "Total bill= 1000\n",
            "Final bill= 900.0\n"
          ]
        }
      ]
    },
    {
      "cell_type": "code",
      "source": [
        "employee={\"name\":[\"Emp1\",\"Emp2\",\"Emp3\"],\n",
        "          \"salary\":[50000,60000,70000]\n",
        "        }\n",
        "sum=0\n",
        "for i in employee[\"salary\"]:\n",
        "  sum=sum+i\n",
        "print(sum)"
      ],
      "metadata": {
        "colab": {
          "base_uri": "https://localhost:8080/"
        },
        "id": "eZdPEtoaxngQ",
        "outputId": "81575f03-f3cb-47c3-db4d-8564360b2cf0"
      },
      "execution_count": null,
      "outputs": [
        {
          "output_type": "stream",
          "name": "stdout",
          "text": [
            "180000\n"
          ]
        }
      ]
    },
    {
      "cell_type": "code",
      "source": [
        "bill={\"item\":[\"Burger\",\"pizza\",\"Pasta\",\"Peanut Butter\"],\n",
        "      \"price\":[100,200,300,400],\n",
        "      \"discount\":10}\n",
        "total=0\n",
        "for i in bill[\"price\"]:\n",
        "  total=total+i\n",
        "print(\"Total bill=\",total)\n",
        "final_bill=total-(total*bill[\"discount\"]/100)\n",
        "print(\"Final bill=\",final_bill)"
      ],
      "metadata": {
        "colab": {
          "base_uri": "https://localhost:8080/"
        },
        "id": "fqlMOSPDxsog",
        "outputId": "69874a59-eb56-409d-e5eb-622ebefee86c"
      },
      "execution_count": null,
      "outputs": [
        {
          "output_type": "stream",
          "name": "stdout",
          "text": [
            "Total bill= 1000\n",
            "Final bill= 900.0\n"
          ]
        }
      ]
    },
    {
      "cell_type": "code",
      "source": [
        "bill={\"item\":[\"Burger\",\"pizza\",\"Pasta\",\"Peanut Butter\"],\n",
        "      \"price\":[100,200,300,400],\n",
        "      \"discount\":10}\n",
        "total=0\n",
        "for i in bill[\"price\"]:\n",
        "  total=total+i\n",
        "print(\"Total bill=\",total)\n",
        "final_bill=total-(total*bill[\"discount\"]/100)\n",
        "print(\"Final bill=\",final_bill)"
      ],
      "metadata": {
        "colab": {
          "base_uri": "https://localhost:8080/"
        },
        "id": "kiDg14xTxxkK",
        "outputId": "d1521d4d-6fda-41f1-caa7-88857b89fdff"
      },
      "execution_count": null,
      "outputs": [
        {
          "output_type": "stream",
          "name": "stdout",
          "text": [
            "Total bill= 1000\n",
            "Final bill= 900.0\n"
          ]
        }
      ]
    },
    {
      "cell_type": "code",
      "source": [
        "#file handling\n",
        "with open (\"file.text\" ,\"w\") as file:\n",
        "  file.write(\"Hello\")\n",
        "  file.write(\"Hello world\")"
      ],
      "metadata": {
        "id": "nh1y48F8mzgC"
      },
      "execution_count": null,
      "outputs": []
    },
    {
      "cell_type": "code",
      "source": [
        "with open (\"file.text\" ,\"r\") as file:\n",
        "  #data=file.read()\n",
        "  #print(data)\n",
        "  print(file.read())"
      ],
      "metadata": {
        "colab": {
          "base_uri": "https://localhost:8080/"
        },
        "id": "dQipdMepnP0s",
        "outputId": "506d39ab-31a7-4c2b-fac2-49cce54cd52c"
      },
      "execution_count": null,
      "outputs": [
        {
          "output_type": "stream",
          "name": "stdout",
          "text": [
            "HelloHello world\n"
          ]
        }
      ]
    },
    {
      "cell_type": "code",
      "source": [
        "with open (\"file.text\" ,\"r\") as file:\n",
        "  data=file.read()\n",
        "  print(data)"
      ],
      "metadata": {
        "colab": {
          "base_uri": "https://localhost:8080/"
        },
        "id": "KAgjIBMMnuFV",
        "outputId": "70801e3f-f742-4997-9de4-639caad90d15"
      },
      "execution_count": null,
      "outputs": [
        {
          "output_type": "stream",
          "name": "stdout",
          "text": [
            "HelloHello world\n"
          ]
        }
      ]
    },
    {
      "cell_type": "code",
      "source": [
        "with open (\"file.text\" , \"w\") as file:\n",
        "  file.write(\"Hello I am Vaibhav Tiwari\")"
      ],
      "metadata": {
        "id": "0wVhqPiiosCJ"
      },
      "execution_count": null,
      "outputs": []
    },
    {
      "cell_type": "code",
      "source": [
        "#append in file handling\n",
        "with open (\"file.text\" , \"a\") as file:\n",
        "  file.write(\"\\nHello I am Vaibhav Tiwari and done b.tech from amity\")"
      ],
      "metadata": {
        "id": "0sW8-JchpRp7"
      },
      "execution_count": null,
      "outputs": []
    },
    {
      "cell_type": "code",
      "source": [
        "with open (\"file.text1\" ,\"w\") as file:\n",
        "  file.write(\"My self vaibhav tiwari\\n\")\n",
        "  file.write(\"i am from mandi himachal pradesh\\n\")\n",
        "  file.write(\"I have done by B.tech from Amity Mohali\\n\")\n",
        "  file.write(\"My hobbies are doing Gym\")"
      ],
      "metadata": {
        "id": "McMXrMdMqC30"
      },
      "execution_count": null,
      "outputs": []
    },
    {
      "cell_type": "code",
      "source": [
        "with open (\"file.text1\" ,\"r\") as file:\n",
        "  file.read()"
      ],
      "metadata": {
        "id": "s03xfiRPq19O"
      },
      "execution_count": null,
      "outputs": []
    },
    {
      "cell_type": "code",
      "source": [
        "with open (\"file.text1\" ,\"r\") as file:\n",
        "  data=file.read()\n",
        "  print(data)"
      ],
      "metadata": {
        "colab": {
          "base_uri": "https://localhost:8080/"
        },
        "id": "nrslbd9irPe7",
        "outputId": "8e482343-d4d5-4ebd-f579-51938fad3008"
      },
      "execution_count": null,
      "outputs": [
        {
          "output_type": "stream",
          "name": "stdout",
          "text": [
            "My self vaibhav tiwari\n",
            "i am from mandi himachal pradesh\n",
            "I have done by B.tech from Amity Mohali\n",
            "My hobbies are doing Gym\n"
          ]
        }
      ]
    },
    {
      "cell_type": "code",
      "source": [
        "with open (\"file.text1\" ,\"r\") as file:\n",
        "  data=file.readline()\n",
        "  print(data)"
      ],
      "metadata": {
        "colab": {
          "base_uri": "https://localhost:8080/"
        },
        "id": "PCk4wrgCrfXm",
        "outputId": "1edf9ed6-ba8a-4507-b02b-1faaa4bc830c"
      },
      "execution_count": null,
      "outputs": [
        {
          "output_type": "stream",
          "name": "stdout",
          "text": [
            "My self vaibhav tiwari\n",
            "\n"
          ]
        }
      ]
    },
    {
      "cell_type": "code",
      "source": [
        "with open (\"file.text1\" ,\"r\") as file:\n",
        "  data=file.readlines()\n",
        "  print(data)"
      ],
      "metadata": {
        "colab": {
          "base_uri": "https://localhost:8080/"
        },
        "id": "jP8fkwjHsBji",
        "outputId": "231dc6d9-d04e-4ac2-9610-b7ac0a95dbc3"
      },
      "execution_count": null,
      "outputs": [
        {
          "output_type": "stream",
          "name": "stdout",
          "text": [
            "['My self vaibhav tiwari\\n', 'i am from mandi himachal pradesh\\n', 'I have done by B.tech from Amity Mohali\\n', 'My hobbies are doing Gym']\n"
          ]
        }
      ]
    },
    {
      "cell_type": "code",
      "source": [
        "#if we want to print in gap\n",
        "with open (\"file.text1\" ,\"r\") as file:\n",
        "  for i in data:\n",
        "    print(i)"
      ],
      "metadata": {
        "colab": {
          "base_uri": "https://localhost:8080/"
        },
        "id": "KWhcl76HsEdi",
        "outputId": "283fbe8d-2122-48d3-d281-01ec5466be70"
      },
      "execution_count": null,
      "outputs": [
        {
          "output_type": "stream",
          "name": "stdout",
          "text": [
            "My self vaibhav tiwari\n",
            "\n",
            "i am from mandi himachal pradesh\n",
            "\n",
            "I have done by B.tech from Amity Mohali\n",
            "\n",
            "My hobbies are doing Gym\n"
          ]
        }
      ]
    },
    {
      "cell_type": "code",
      "source": [
        "with open(\"file.text3\" ,\"w\") as file:\n",
        "  data1=file.write(\"Vaibhav\")\n"
      ],
      "metadata": {
        "id": "K6Dal5XIsVuo"
      },
      "execution_count": null,
      "outputs": []
    },
    {
      "cell_type": "code",
      "source": [
        "with open(\"file.text4\" ,\"w\") as file:\n",
        "  data2=file.write(\"Tiwari\")\n"
      ],
      "metadata": {
        "id": "WYH35cYps8gM"
      },
      "execution_count": null,
      "outputs": []
    },
    {
      "cell_type": "code",
      "source": [
        "with open (\"file.text3\" ,\"r\") as file:\n",
        "  data1=file.read()\n",
        "print(data1)"
      ],
      "metadata": {
        "colab": {
          "base_uri": "https://localhost:8080/",
          "height": 176
        },
        "id": "G0SNb5f7tcit",
        "outputId": "9b2f1507-30dc-465c-ab02-8c85023e1dad"
      },
      "execution_count": 6,
      "outputs": [
        {
          "output_type": "error",
          "ename": "FileNotFoundError",
          "evalue": "[Errno 2] No such file or directory: 'file.text3'",
          "traceback": [
            "\u001b[0;31m---------------------------------------------------------------------------\u001b[0m",
            "\u001b[0;31mFileNotFoundError\u001b[0m                         Traceback (most recent call last)",
            "\u001b[0;32m/tmp/ipython-input-726796283.py\u001b[0m in \u001b[0;36m<cell line: 0>\u001b[0;34m()\u001b[0m\n\u001b[0;32m----> 1\u001b[0;31m \u001b[0;32mwith\u001b[0m \u001b[0mopen\u001b[0m \u001b[0;34m(\u001b[0m\u001b[0;34m\"file.text3\"\u001b[0m \u001b[0;34m,\u001b[0m\u001b[0;34m\"r\"\u001b[0m\u001b[0;34m)\u001b[0m \u001b[0;32mas\u001b[0m \u001b[0mfile\u001b[0m\u001b[0;34m:\u001b[0m\u001b[0;34m\u001b[0m\u001b[0;34m\u001b[0m\u001b[0m\n\u001b[0m\u001b[1;32m      2\u001b[0m   \u001b[0mdata1\u001b[0m\u001b[0;34m=\u001b[0m\u001b[0mfile\u001b[0m\u001b[0;34m.\u001b[0m\u001b[0mread\u001b[0m\u001b[0;34m(\u001b[0m\u001b[0;34m)\u001b[0m\u001b[0;34m\u001b[0m\u001b[0;34m\u001b[0m\u001b[0m\n\u001b[1;32m      3\u001b[0m \u001b[0mprint\u001b[0m\u001b[0;34m(\u001b[0m\u001b[0mdata1\u001b[0m\u001b[0;34m)\u001b[0m\u001b[0;34m\u001b[0m\u001b[0;34m\u001b[0m\u001b[0m\n",
            "\u001b[0;31mFileNotFoundError\u001b[0m: [Errno 2] No such file or directory: 'file.text3'"
          ]
        }
      ]
    },
    {
      "cell_type": "code",
      "source": [
        "with open (\"file.text4\" ,\"r\") as file:\n",
        "  data2=file.read()\n",
        "print(data2)"
      ],
      "metadata": {
        "colab": {
          "base_uri": "https://localhost:8080/",
          "height": 176
        },
        "id": "H45YzPILtmzj",
        "outputId": "a008ea27-4746-40a4-c3d7-0500cca48160"
      },
      "execution_count": 7,
      "outputs": [
        {
          "output_type": "error",
          "ename": "FileNotFoundError",
          "evalue": "[Errno 2] No such file or directory: 'file.text4'",
          "traceback": [
            "\u001b[0;31m---------------------------------------------------------------------------\u001b[0m",
            "\u001b[0;31mFileNotFoundError\u001b[0m                         Traceback (most recent call last)",
            "\u001b[0;32m/tmp/ipython-input-2496388798.py\u001b[0m in \u001b[0;36m<cell line: 0>\u001b[0;34m()\u001b[0m\n\u001b[0;32m----> 1\u001b[0;31m \u001b[0;32mwith\u001b[0m \u001b[0mopen\u001b[0m \u001b[0;34m(\u001b[0m\u001b[0;34m\"file.text4\"\u001b[0m \u001b[0;34m,\u001b[0m\u001b[0;34m\"r\"\u001b[0m\u001b[0;34m)\u001b[0m \u001b[0;32mas\u001b[0m \u001b[0mfile\u001b[0m\u001b[0;34m:\u001b[0m\u001b[0;34m\u001b[0m\u001b[0;34m\u001b[0m\u001b[0m\n\u001b[0m\u001b[1;32m      2\u001b[0m   \u001b[0mdata2\u001b[0m\u001b[0;34m=\u001b[0m\u001b[0mfile\u001b[0m\u001b[0;34m.\u001b[0m\u001b[0mread\u001b[0m\u001b[0;34m(\u001b[0m\u001b[0;34m)\u001b[0m\u001b[0;34m\u001b[0m\u001b[0;34m\u001b[0m\u001b[0m\n\u001b[1;32m      3\u001b[0m \u001b[0mprint\u001b[0m\u001b[0;34m(\u001b[0m\u001b[0mdata2\u001b[0m\u001b[0;34m)\u001b[0m\u001b[0;34m\u001b[0m\u001b[0;34m\u001b[0m\u001b[0m\n",
            "\u001b[0;31mFileNotFoundError\u001b[0m: [Errno 2] No such file or directory: 'file.text4'"
          ]
        }
      ]
    },
    {
      "cell_type": "code",
      "source": [
        "with open(\"file5.txt\" ,\"w\") as file:\n",
        "  file.write(data1+ \" \" + data2)"
      ],
      "metadata": {
        "id": "3WXi_A_LuE9H",
        "colab": {
          "base_uri": "https://localhost:8080/",
          "height": 158
        },
        "outputId": "8e4eeea9-727d-4f6f-aff8-613f5c8eb652"
      },
      "execution_count": 8,
      "outputs": [
        {
          "output_type": "error",
          "ename": "NameError",
          "evalue": "name 'data1' is not defined",
          "traceback": [
            "\u001b[0;31m---------------------------------------------------------------------------\u001b[0m",
            "\u001b[0;31mNameError\u001b[0m                                 Traceback (most recent call last)",
            "\u001b[0;32m/tmp/ipython-input-3132379166.py\u001b[0m in \u001b[0;36m<cell line: 0>\u001b[0;34m()\u001b[0m\n\u001b[1;32m      1\u001b[0m \u001b[0;32mwith\u001b[0m \u001b[0mopen\u001b[0m\u001b[0;34m(\u001b[0m\u001b[0;34m\"file5.txt\"\u001b[0m \u001b[0;34m,\u001b[0m\u001b[0;34m\"w\"\u001b[0m\u001b[0;34m)\u001b[0m \u001b[0;32mas\u001b[0m \u001b[0mfile\u001b[0m\u001b[0;34m:\u001b[0m\u001b[0;34m\u001b[0m\u001b[0;34m\u001b[0m\u001b[0m\n\u001b[0;32m----> 2\u001b[0;31m   \u001b[0mfile\u001b[0m\u001b[0;34m.\u001b[0m\u001b[0mwrite\u001b[0m\u001b[0;34m(\u001b[0m\u001b[0mdata1\u001b[0m\u001b[0;34m+\u001b[0m \u001b[0;34m\" \"\u001b[0m \u001b[0;34m+\u001b[0m \u001b[0mdata2\u001b[0m\u001b[0;34m)\u001b[0m\u001b[0;34m\u001b[0m\u001b[0;34m\u001b[0m\u001b[0m\n\u001b[0m",
            "\u001b[0;31mNameError\u001b[0m: name 'data1' is not defined"
          ]
        }
      ]
    },
    {
      "cell_type": "code",
      "metadata": {
        "id": "9f749408"
      },
      "source": [
        "with open(\"file.text3\", \"w\") as file:\n",
        "  file.write(\"Hello\")"
      ],
      "execution_count": 9,
      "outputs": []
    },
    {
      "cell_type": "code",
      "metadata": {
        "id": "8c96b514"
      },
      "source": [
        "with open(\"file.text4\", \"w\") as file:\n",
        "  file.write(\"World\")"
      ],
      "execution_count": 10,
      "outputs": []
    },
    {
      "cell_type": "code",
      "source": [
        "#lambda\n",
        "add=lambda a,b:a+b\n",
        "add(5,10)"
      ],
      "metadata": {
        "colab": {
          "base_uri": "https://localhost:8080/"
        },
        "id": "Ja39DHH-vv26",
        "outputId": "6249d0a1-f4ed-478e-af87-1f888a352cc9"
      },
      "execution_count": null,
      "outputs": [
        {
          "output_type": "execute_result",
          "data": {
            "text/plain": [
              "15"
            ]
          },
          "metadata": {},
          "execution_count": 51
        }
      ]
    },
    {
      "cell_type": "code",
      "source": [
        "a=10\n",
        "b=20\n",
        "print(a/b)"
      ],
      "metadata": {
        "colab": {
          "base_uri": "https://localhost:8080/"
        },
        "id": "iRFPv-oswNI2",
        "outputId": "1e8eb3af-ab75-4dd4-ac3e-1f47c9dd3831"
      },
      "execution_count": null,
      "outputs": [
        {
          "output_type": "stream",
          "name": "stdout",
          "text": [
            "0.5\n"
          ]
        }
      ]
    },
    {
      "cell_type": "code",
      "source": [
        "a=10\n",
        "b=0\n",
        "print(a/b)"
      ],
      "metadata": {
        "colab": {
          "base_uri": "https://localhost:8080/",
          "height": 176
        },
        "id": "KhBYsRNVw_fW",
        "outputId": "b7d87327-c654-4bb0-c0ab-7da021d40e36"
      },
      "execution_count": null,
      "outputs": [
        {
          "output_type": "error",
          "ename": "ZeroDivisionError",
          "evalue": "division by zero",
          "traceback": [
            "\u001b[0;31m---------------------------------------------------------------------------\u001b[0m",
            "\u001b[0;31mZeroDivisionError\u001b[0m                         Traceback (most recent call last)",
            "\u001b[0;32m/tmp/ipython-input-1926354841.py\u001b[0m in \u001b[0;36m<cell line: 0>\u001b[0;34m()\u001b[0m\n\u001b[1;32m      1\u001b[0m \u001b[0ma\u001b[0m\u001b[0;34m=\u001b[0m\u001b[0;36m10\u001b[0m\u001b[0;34m\u001b[0m\u001b[0;34m\u001b[0m\u001b[0m\n\u001b[1;32m      2\u001b[0m \u001b[0mb\u001b[0m\u001b[0;34m=\u001b[0m\u001b[0;36m0\u001b[0m\u001b[0;34m\u001b[0m\u001b[0;34m\u001b[0m\u001b[0m\n\u001b[0;32m----> 3\u001b[0;31m \u001b[0mprint\u001b[0m\u001b[0;34m(\u001b[0m\u001b[0ma\u001b[0m\u001b[0;34m/\u001b[0m\u001b[0mb\u001b[0m\u001b[0;34m)\u001b[0m\u001b[0;34m\u001b[0m\u001b[0;34m\u001b[0m\u001b[0m\n\u001b[0m",
            "\u001b[0;31mZeroDivisionError\u001b[0m: division by zero"
          ]
        }
      ]
    },
    {
      "cell_type": "code",
      "source": [
        "#exception handling\n",
        "try:\n",
        "  a=10\n",
        "  b=20\n",
        "except ZeroDivisionError:\n",
        "    print(\"division by zero not possible\")\n",
        "else:\n",
        "      print(\"excuted sucessfully\")\n",
        "finally:\n",
        "        print(\"Thank you\")"
      ],
      "metadata": {
        "colab": {
          "base_uri": "https://localhost:8080/"
        },
        "id": "hAW-UWa6xDnO",
        "outputId": "14e39a8b-1437-4f7e-8edc-dc4364a340cf"
      },
      "execution_count": null,
      "outputs": [
        {
          "output_type": "stream",
          "name": "stdout",
          "text": [
            "excuted sucessfully\n",
            "Thank you\n"
          ]
        }
      ]
    },
    {
      "cell_type": "code",
      "source": [
        "try:\n",
        "  a=10\n",
        "  b=0\n",
        "except ZeroDivisionError:\n",
        "  print(\"Division by zero is not possible\")\n",
        "else:\n",
        "  print(\"Excuted fully\")\n",
        "finally:\n",
        "  print(\"Thank You\")"
      ],
      "metadata": {
        "colab": {
          "base_uri": "https://localhost:8080/"
        },
        "id": "WL_j-Of4yCPf",
        "outputId": "783e5c99-f9ad-4d1a-e64b-39b4eb883f46"
      },
      "execution_count": null,
      "outputs": [
        {
          "output_type": "stream",
          "name": "stdout",
          "text": [
            "Excuted fully\n",
            "Thank You\n"
          ]
        }
      ]
    },
    {
      "cell_type": "code",
      "source": [
        "#exception handling\n",
        "try:\n",
        "  a=10\n",
        "  b=0\n",
        "except ZeroDivisionError:\n",
        "    print(\"division by zero not possible\")\n",
        "else:\n",
        "      print(\"excuted sucessfully\")\n",
        "finally:\n",
        "        print(\"Thank you\")"
      ],
      "metadata": {
        "colab": {
          "base_uri": "https://localhost:8080/"
        },
        "id": "lYPz2S97yme9",
        "outputId": "afe8e356-3bfc-4ad9-a324-a2874ed8c537"
      },
      "execution_count": null,
      "outputs": [
        {
          "output_type": "stream",
          "name": "stdout",
          "text": [
            "excuted sucessfully\n",
            "Thank you\n"
          ]
        }
      ]
    },
    {
      "cell_type": "code",
      "source": [
        "with open(\"file1.txt\" ,\"w\") as file:\n",
        "  data_1=file.write(\"Vaibhav\")"
      ],
      "metadata": {
        "id": "SCtL3dcFyxGM"
      },
      "execution_count": 12,
      "outputs": []
    },
    {
      "cell_type": "code",
      "source": [
        "with open(\"file2.txt\" ,\"w\") as file:\n",
        "  data_2=file.write(\"Tiwari\")"
      ],
      "metadata": {
        "id": "SmPzCNjU3DW3"
      },
      "execution_count": 14,
      "outputs": []
    },
    {
      "cell_type": "code",
      "source": [
        "with open(\"file1.txt\" ,\"r\") as file:\n",
        "  data_1=file.read()\n",
        "  print(data_1)"
      ],
      "metadata": {
        "colab": {
          "base_uri": "https://localhost:8080/"
        },
        "id": "0hsgWoAp3xRn",
        "outputId": "dce8c6ea-2553-46f7-dfd1-7386c1208907"
      },
      "execution_count": 17,
      "outputs": [
        {
          "output_type": "stream",
          "name": "stdout",
          "text": [
            "Vaibhav\n"
          ]
        }
      ]
    },
    {
      "cell_type": "code",
      "source": [
        "with open(\"file2.txt\" ,\"r\") as file:\n",
        "  data_2=file.read()\n",
        "  print(data_2)"
      ],
      "metadata": {
        "colab": {
          "base_uri": "https://localhost:8080/",
          "height": 176
        },
        "id": "bwyn-Xn635pZ",
        "outputId": "5f6d8ff3-508b-4038-f1a2-f1005048e710"
      },
      "execution_count": 1,
      "outputs": [
        {
          "output_type": "error",
          "ename": "FileNotFoundError",
          "evalue": "[Errno 2] No such file or directory: 'file2.txt'",
          "traceback": [
            "\u001b[0;31m---------------------------------------------------------------------------\u001b[0m",
            "\u001b[0;31mFileNotFoundError\u001b[0m                         Traceback (most recent call last)",
            "\u001b[0;32m/tmp/ipython-input-1505177818.py\u001b[0m in \u001b[0;36m<cell line: 0>\u001b[0;34m()\u001b[0m\n\u001b[0;32m----> 1\u001b[0;31m \u001b[0;32mwith\u001b[0m \u001b[0mopen\u001b[0m\u001b[0;34m(\u001b[0m\u001b[0;34m\"file2.txt\"\u001b[0m \u001b[0;34m,\u001b[0m\u001b[0;34m\"r\"\u001b[0m\u001b[0;34m)\u001b[0m \u001b[0;32mas\u001b[0m \u001b[0mfile\u001b[0m\u001b[0;34m:\u001b[0m\u001b[0;34m\u001b[0m\u001b[0;34m\u001b[0m\u001b[0m\n\u001b[0m\u001b[1;32m      2\u001b[0m   \u001b[0mdata_2\u001b[0m\u001b[0;34m=\u001b[0m\u001b[0mfile\u001b[0m\u001b[0;34m.\u001b[0m\u001b[0mread\u001b[0m\u001b[0;34m(\u001b[0m\u001b[0;34m)\u001b[0m\u001b[0;34m\u001b[0m\u001b[0;34m\u001b[0m\u001b[0m\n\u001b[1;32m      3\u001b[0m   \u001b[0mprint\u001b[0m\u001b[0;34m(\u001b[0m\u001b[0mdata_2\u001b[0m\u001b[0;34m)\u001b[0m\u001b[0;34m\u001b[0m\u001b[0;34m\u001b[0m\u001b[0m\n",
            "\u001b[0;31mFileNotFoundError\u001b[0m: [Errno 2] No such file or directory: 'file2.txt'"
          ]
        }
      ]
    },
    {
      "cell_type": "code",
      "source": [
        "with open(\"file3.txt\" , \"w\") as file:\n",
        "  file.write(data_1 +\" \" + data_2 )"
      ],
      "metadata": {
        "id": "bXTu-mog3I-Z"
      },
      "execution_count": 19,
      "outputs": []
    },
    {
      "cell_type": "code",
      "source": [
        "with open(\"file3.txt\" ,\"r\") as file:\n",
        "  data_3=file.read()\n",
        "  print(data_3)\n"
      ],
      "metadata": {
        "colab": {
          "base_uri": "https://localhost:8080/"
        },
        "id": "lJ1rK_S23Uyg",
        "outputId": "513d9102-1ba5-4d5d-8ee1-1446082c990a"
      },
      "execution_count": 22,
      "outputs": [
        {
          "output_type": "stream",
          "name": "stdout",
          "text": [
            "Vaibhav Tiwari\n"
          ]
        }
      ]
    },
    {
      "cell_type": "code",
      "source": [
        "import csv"
      ],
      "metadata": {
        "id": "NjqZ3wz64MFg"
      },
      "execution_count": 2,
      "outputs": []
    },
    {
      "cell_type": "code",
      "source": [
        "import csv\n",
        "\n",
        "with open(\"sales.csv\" ,\"r\") as file:\n",
        "  reader=csv.reader(file)\n",
        "\n",
        "  for row in reader:\n",
        "    print(row)\n",
        "  for column in reader:\n",
        "    print(column)"
      ],
      "metadata": {
        "colab": {
          "base_uri": "https://localhost:8080/"
        },
        "id": "G4jxjaFV0C_9",
        "outputId": "5c972f2f-258d-4708-ed28-065ca74072ff"
      },
      "execution_count": 5,
      "outputs": [
        {
          "output_type": "stream",
          "name": "stdout",
          "text": [
            "['Customer', 'Gender', 'State', 'Product', 'Amount']\n",
            "['Alice', 'F', 'California', 'Laptop', '1200']\n",
            "['Bob', 'M', 'Texas', 'Phone', '800']\n",
            "['Charlie', 'M', 'California', 'Tablet', '450']\n",
            "['Diana', 'F', 'New York', 'Laptop', '1300']\n",
            "['Ethan', 'M', 'Texas', 'Headphones', '200']\n",
            "['Fiona', 'F', 'Florida', 'Phone', '850']\n",
            "['George', 'M', 'California', 'Phone', '750']\n",
            "['Hannah', 'F', 'Texas', 'Tablet', '500']\n",
            "['Ian', 'M', 'Florida', 'Laptop', '1400']\n",
            "['Jane', 'F', 'New York', 'Headphones', '220']\n",
            "['Kevin', 'M', 'New York', 'Laptop', '976']\n",
            "['Laura', 'F', 'California', 'Tablet', '1186']\n",
            "['Mike', 'M', 'Florida', 'Headphones', '315']\n",
            "['Nina', 'F', 'California', 'Laptop', '1445']\n",
            "['Oscar', 'F', 'California', 'Tablet', '560']\n",
            "['Paula', 'M', 'Texas', 'Headphones', '1998']\n",
            "['Quinn', 'M', 'Florida', 'Phone', '526']\n",
            "['Rita', 'F', 'New York', 'Tablet', '1134']\n",
            "['Sam', 'F', 'New York', 'Laptop', '412']\n",
            "['Tina', 'M', 'California', 'Tablet', '1901']\n",
            "['Uma', 'M', 'Illinois', 'Phone', '1925']\n",
            "['Victor', 'F', 'Illinois', 'Headphones', '697']\n",
            "['Wendy', 'M', 'Texas', 'Tablet', '673']\n",
            "['Xander', 'F', 'Florida', 'Headphones', '991']\n",
            "['Yara', 'M', 'Illinois', 'Laptop', '1173']\n",
            "['Zane', 'M', 'Florida', 'Phone', '1773']\n",
            "['Liam', 'F', 'Florida', 'Laptop', '659']\n",
            "['Mia', 'F', 'California', 'Tablet', '1745']\n",
            "['Noah', 'F', 'Illinois', 'Headphones', '1070']\n",
            "['Olivia', 'M', 'New York', 'Phone', '1361']\n",
            "['Peter', 'M', 'Florida', 'Tablet', '1424']\n",
            "['Sophia', 'M', 'Illinois', 'Tablet', '219']\n",
            "['James', 'M', 'Texas', 'Headphones', '1650']\n",
            "['Ava', 'F', 'Florida', 'Phone', '1818']\n",
            "['Henry', 'M', 'Illinois', 'Tablet', '904']\n",
            "['Emily', 'F', 'Illinois', 'Laptop', '1196']\n",
            "['Daniel', 'M', 'Florida', 'Laptop', '983']\n",
            "['Grace', 'M', 'New York', 'Laptop', '1573']\n",
            "['Jacob', 'F', 'Illinois', 'Headphones', '603']\n",
            "['Ella', 'F', 'Illinois', 'Phone', '1425']\n",
            "['Lucas', 'F', 'Texas', 'Laptop', '331']\n",
            "['Amelia', 'M', 'New York', 'Headphones', '1614']\n",
            "['Mason', 'M', 'Florida', 'Tablet', '1514']\n",
            "['Harper', 'F', 'California', 'Tablet', '687']\n",
            "['Logan', 'M', 'California', 'Headphones', '684']\n",
            "['Evelyn', 'F', 'Florida', 'Tablet', '1434']\n",
            "['Ethan', 'M', 'Texas', 'Laptop', '664']\n",
            "['Abigail', 'M', 'New York', 'Headphones', '1419']\n",
            "['Elijah', 'M', 'Illinois', 'Headphones', '1508']\n",
            "['Charlotte', 'F', 'California', 'Phone', '1623']\n"
          ]
        }
      ]
    },
    {
      "cell_type": "code",
      "source": [
        "import csv\n",
        "\n",
        "with open(\"sales.csv\" ,\"r\") as file:\n",
        "  reader=csv.reader(file)\n",
        ""
      ],
      "metadata": {
        "id": "CkSihiK50cRm"
      },
      "execution_count": 6,
      "outputs": []
    },
    {
      "cell_type": "code",
      "source": [
        "import csv\n",
        "with open(\"sales.csv\" ,\"r\") as file:\n",
        "  reader=csv.reader(file)#varaible\n",
        "  header= next(reader)\n",
        "\n",
        "  for row in reader:\n",
        "    print(row)\n",
        "  for column in reader:\n",
        "    print(column)\n",
        "\n",
        "print(reader)\n",
        "\n"
      ],
      "metadata": {
        "colab": {
          "base_uri": "https://localhost:8080/"
        },
        "id": "b3tie9k20ynA",
        "outputId": "29126e0d-61de-4157-fdf3-258419160d01"
      },
      "execution_count": 8,
      "outputs": [
        {
          "output_type": "stream",
          "name": "stdout",
          "text": [
            "['Alice', 'F', 'California', 'Laptop', '1200']\n",
            "['Bob', 'M', 'Texas', 'Phone', '800']\n",
            "['Charlie', 'M', 'California', 'Tablet', '450']\n",
            "['Diana', 'F', 'New York', 'Laptop', '1300']\n",
            "['Ethan', 'M', 'Texas', 'Headphones', '200']\n",
            "['Fiona', 'F', 'Florida', 'Phone', '850']\n",
            "['George', 'M', 'California', 'Phone', '750']\n",
            "['Hannah', 'F', 'Texas', 'Tablet', '500']\n",
            "['Ian', 'M', 'Florida', 'Laptop', '1400']\n",
            "['Jane', 'F', 'New York', 'Headphones', '220']\n",
            "['Kevin', 'M', 'New York', 'Laptop', '976']\n",
            "['Laura', 'F', 'California', 'Tablet', '1186']\n",
            "['Mike', 'M', 'Florida', 'Headphones', '315']\n",
            "['Nina', 'F', 'California', 'Laptop', '1445']\n",
            "['Oscar', 'F', 'California', 'Tablet', '560']\n",
            "['Paula', 'M', 'Texas', 'Headphones', '1998']\n",
            "['Quinn', 'M', 'Florida', 'Phone', '526']\n",
            "['Rita', 'F', 'New York', 'Tablet', '1134']\n",
            "['Sam', 'F', 'New York', 'Laptop', '412']\n",
            "['Tina', 'M', 'California', 'Tablet', '1901']\n",
            "['Uma', 'M', 'Illinois', 'Phone', '1925']\n",
            "['Victor', 'F', 'Illinois', 'Headphones', '697']\n",
            "['Wendy', 'M', 'Texas', 'Tablet', '673']\n",
            "['Xander', 'F', 'Florida', 'Headphones', '991']\n",
            "['Yara', 'M', 'Illinois', 'Laptop', '1173']\n",
            "['Zane', 'M', 'Florida', 'Phone', '1773']\n",
            "['Liam', 'F', 'Florida', 'Laptop', '659']\n",
            "['Mia', 'F', 'California', 'Tablet', '1745']\n",
            "['Noah', 'F', 'Illinois', 'Headphones', '1070']\n",
            "['Olivia', 'M', 'New York', 'Phone', '1361']\n",
            "['Peter', 'M', 'Florida', 'Tablet', '1424']\n",
            "['Sophia', 'M', 'Illinois', 'Tablet', '219']\n",
            "['James', 'M', 'Texas', 'Headphones', '1650']\n",
            "['Ava', 'F', 'Florida', 'Phone', '1818']\n",
            "['Henry', 'M', 'Illinois', 'Tablet', '904']\n",
            "['Emily', 'F', 'Illinois', 'Laptop', '1196']\n",
            "['Daniel', 'M', 'Florida', 'Laptop', '983']\n",
            "['Grace', 'M', 'New York', 'Laptop', '1573']\n",
            "['Jacob', 'F', 'Illinois', 'Headphones', '603']\n",
            "['Ella', 'F', 'Illinois', 'Phone', '1425']\n",
            "['Lucas', 'F', 'Texas', 'Laptop', '331']\n",
            "['Amelia', 'M', 'New York', 'Headphones', '1614']\n",
            "['Mason', 'M', 'Florida', 'Tablet', '1514']\n",
            "['Harper', 'F', 'California', 'Tablet', '687']\n",
            "['Logan', 'M', 'California', 'Headphones', '684']\n",
            "['Evelyn', 'F', 'Florida', 'Tablet', '1434']\n",
            "['Ethan', 'M', 'Texas', 'Laptop', '664']\n",
            "['Abigail', 'M', 'New York', 'Headphones', '1419']\n",
            "['Elijah', 'M', 'Illinois', 'Headphones', '1508']\n",
            "['Charlotte', 'F', 'California', 'Phone', '1623']\n",
            "<_csv.reader object at 0x7e34ca9076f0>\n"
          ]
        }
      ]
    },
    {
      "cell_type": "code",
      "source": [
        "import csv\n",
        "with open(\"sales.csv\" ,\"r\") as file:\n",
        "  reader=csv.reader(file)#varaible\n",
        "  header= next(reader)\n",
        "\n",
        "  for row in reader:\n",
        "    print(row)\n",
        "  for column in reader:\n",
        "    print(column)\n",
        ""
      ],
      "metadata": {
        "colab": {
          "base_uri": "https://localhost:8080/"
        },
        "id": "d06XWgY71egY",
        "outputId": "d8a277d1-0acb-4e66-e2d7-ec6e386910c1"
      },
      "execution_count": 9,
      "outputs": [
        {
          "output_type": "stream",
          "name": "stdout",
          "text": [
            "['Alice', 'F', 'California', 'Laptop', '1200']\n",
            "['Bob', 'M', 'Texas', 'Phone', '800']\n",
            "['Charlie', 'M', 'California', 'Tablet', '450']\n",
            "['Diana', 'F', 'New York', 'Laptop', '1300']\n",
            "['Ethan', 'M', 'Texas', 'Headphones', '200']\n",
            "['Fiona', 'F', 'Florida', 'Phone', '850']\n",
            "['George', 'M', 'California', 'Phone', '750']\n",
            "['Hannah', 'F', 'Texas', 'Tablet', '500']\n",
            "['Ian', 'M', 'Florida', 'Laptop', '1400']\n",
            "['Jane', 'F', 'New York', 'Headphones', '220']\n",
            "['Kevin', 'M', 'New York', 'Laptop', '976']\n",
            "['Laura', 'F', 'California', 'Tablet', '1186']\n",
            "['Mike', 'M', 'Florida', 'Headphones', '315']\n",
            "['Nina', 'F', 'California', 'Laptop', '1445']\n",
            "['Oscar', 'F', 'California', 'Tablet', '560']\n",
            "['Paula', 'M', 'Texas', 'Headphones', '1998']\n",
            "['Quinn', 'M', 'Florida', 'Phone', '526']\n",
            "['Rita', 'F', 'New York', 'Tablet', '1134']\n",
            "['Sam', 'F', 'New York', 'Laptop', '412']\n",
            "['Tina', 'M', 'California', 'Tablet', '1901']\n",
            "['Uma', 'M', 'Illinois', 'Phone', '1925']\n",
            "['Victor', 'F', 'Illinois', 'Headphones', '697']\n",
            "['Wendy', 'M', 'Texas', 'Tablet', '673']\n",
            "['Xander', 'F', 'Florida', 'Headphones', '991']\n",
            "['Yara', 'M', 'Illinois', 'Laptop', '1173']\n",
            "['Zane', 'M', 'Florida', 'Phone', '1773']\n",
            "['Liam', 'F', 'Florida', 'Laptop', '659']\n",
            "['Mia', 'F', 'California', 'Tablet', '1745']\n",
            "['Noah', 'F', 'Illinois', 'Headphones', '1070']\n",
            "['Olivia', 'M', 'New York', 'Phone', '1361']\n",
            "['Peter', 'M', 'Florida', 'Tablet', '1424']\n",
            "['Sophia', 'M', 'Illinois', 'Tablet', '219']\n",
            "['James', 'M', 'Texas', 'Headphones', '1650']\n",
            "['Ava', 'F', 'Florida', 'Phone', '1818']\n",
            "['Henry', 'M', 'Illinois', 'Tablet', '904']\n",
            "['Emily', 'F', 'Illinois', 'Laptop', '1196']\n",
            "['Daniel', 'M', 'Florida', 'Laptop', '983']\n",
            "['Grace', 'M', 'New York', 'Laptop', '1573']\n",
            "['Jacob', 'F', 'Illinois', 'Headphones', '603']\n",
            "['Ella', 'F', 'Illinois', 'Phone', '1425']\n",
            "['Lucas', 'F', 'Texas', 'Laptop', '331']\n",
            "['Amelia', 'M', 'New York', 'Headphones', '1614']\n",
            "['Mason', 'M', 'Florida', 'Tablet', '1514']\n",
            "['Harper', 'F', 'California', 'Tablet', '687']\n",
            "['Logan', 'M', 'California', 'Headphones', '684']\n",
            "['Evelyn', 'F', 'Florida', 'Tablet', '1434']\n",
            "['Ethan', 'M', 'Texas', 'Laptop', '664']\n",
            "['Abigail', 'M', 'New York', 'Headphones', '1419']\n",
            "['Elijah', 'M', 'Illinois', 'Headphones', '1508']\n",
            "['Charlotte', 'F', 'California', 'Phone', '1623']\n"
          ]
        }
      ]
    },
    {
      "cell_type": "code",
      "source": [
        "import csv\n",
        "with open(\"sales.csv\" ,\"r\") as file:\n",
        "  data=csv.reader(file)#varaible\n",
        "  header= next(data)\n",
        "  x=list(data)\n",
        "\n",
        "  for row in x:\n",
        "    print(row)"
      ],
      "metadata": {
        "colab": {
          "base_uri": "https://localhost:8080/"
        },
        "id": "dD50BidT25e0",
        "outputId": "0ef6fd12-666d-489b-f937-cb3d54b78a93"
      },
      "execution_count": 11,
      "outputs": [
        {
          "output_type": "stream",
          "name": "stdout",
          "text": [
            "['Alice', 'F', 'California', 'Laptop', '1200']\n",
            "['Bob', 'M', 'Texas', 'Phone', '800']\n",
            "['Charlie', 'M', 'California', 'Tablet', '450']\n",
            "['Diana', 'F', 'New York', 'Laptop', '1300']\n",
            "['Ethan', 'M', 'Texas', 'Headphones', '200']\n",
            "['Fiona', 'F', 'Florida', 'Phone', '850']\n",
            "['George', 'M', 'California', 'Phone', '750']\n",
            "['Hannah', 'F', 'Texas', 'Tablet', '500']\n",
            "['Ian', 'M', 'Florida', 'Laptop', '1400']\n",
            "['Jane', 'F', 'New York', 'Headphones', '220']\n",
            "['Kevin', 'M', 'New York', 'Laptop', '976']\n",
            "['Laura', 'F', 'California', 'Tablet', '1186']\n",
            "['Mike', 'M', 'Florida', 'Headphones', '315']\n",
            "['Nina', 'F', 'California', 'Laptop', '1445']\n",
            "['Oscar', 'F', 'California', 'Tablet', '560']\n",
            "['Paula', 'M', 'Texas', 'Headphones', '1998']\n",
            "['Quinn', 'M', 'Florida', 'Phone', '526']\n",
            "['Rita', 'F', 'New York', 'Tablet', '1134']\n",
            "['Sam', 'F', 'New York', 'Laptop', '412']\n",
            "['Tina', 'M', 'California', 'Tablet', '1901']\n",
            "['Uma', 'M', 'Illinois', 'Phone', '1925']\n",
            "['Victor', 'F', 'Illinois', 'Headphones', '697']\n",
            "['Wendy', 'M', 'Texas', 'Tablet', '673']\n",
            "['Xander', 'F', 'Florida', 'Headphones', '991']\n",
            "['Yara', 'M', 'Illinois', 'Laptop', '1173']\n",
            "['Zane', 'M', 'Florida', 'Phone', '1773']\n",
            "['Liam', 'F', 'Florida', 'Laptop', '659']\n",
            "['Mia', 'F', 'California', 'Tablet', '1745']\n",
            "['Noah', 'F', 'Illinois', 'Headphones', '1070']\n",
            "['Olivia', 'M', 'New York', 'Phone', '1361']\n",
            "['Peter', 'M', 'Florida', 'Tablet', '1424']\n",
            "['Sophia', 'M', 'Illinois', 'Tablet', '219']\n",
            "['James', 'M', 'Texas', 'Headphones', '1650']\n",
            "['Ava', 'F', 'Florida', 'Phone', '1818']\n",
            "['Henry', 'M', 'Illinois', 'Tablet', '904']\n",
            "['Emily', 'F', 'Illinois', 'Laptop', '1196']\n",
            "['Daniel', 'M', 'Florida', 'Laptop', '983']\n",
            "['Grace', 'M', 'New York', 'Laptop', '1573']\n",
            "['Jacob', 'F', 'Illinois', 'Headphones', '603']\n",
            "['Ella', 'F', 'Illinois', 'Phone', '1425']\n",
            "['Lucas', 'F', 'Texas', 'Laptop', '331']\n",
            "['Amelia', 'M', 'New York', 'Headphones', '1614']\n",
            "['Mason', 'M', 'Florida', 'Tablet', '1514']\n",
            "['Harper', 'F', 'California', 'Tablet', '687']\n",
            "['Logan', 'M', 'California', 'Headphones', '684']\n",
            "['Evelyn', 'F', 'Florida', 'Tablet', '1434']\n",
            "['Ethan', 'M', 'Texas', 'Laptop', '664']\n",
            "['Abigail', 'M', 'New York', 'Headphones', '1419']\n",
            "['Elijah', 'M', 'Illinois', 'Headphones', '1508']\n",
            "['Charlotte', 'F', 'California', 'Phone', '1623']\n"
          ]
        }
      ]
    },
    {
      "cell_type": "code",
      "source": [
        "import csv\n",
        "with open(\"sales.csv\" ,\"r\") as file:\n",
        "  data=csv.reader(file)#varaible\n",
        "  header= next(data)\n",
        "  x=list(data)\n",
        "\n",
        "  for row in x:\n",
        "    print(row)"
      ],
      "metadata": {
        "id": "6yfijH_M3LJG"
      },
      "execution_count": null,
      "outputs": []
    },
    {
      "cell_type": "code",
      "source": [
        "import csv\n",
        "import matplotlib.pyplot as plt # Import matplotlib\n",
        "\n",
        "name,gender,state,product,amount=[],[],[],[],[]\n",
        "with open(\"sales.csv\" ,\"r\") as file:\n",
        "  reader=csv.reader(file)#varaible\n",
        "  header= next(reader)\n",
        "\n",
        "  for row in reader:\n",
        "    name.append(row[0])\n",
        "    gender.append(row[1])\n",
        "    state.append(row[2])\n",
        "    product.append(row[3])\n",
        "    amount.append(int(row[4]))\n",
        "\n",
        "print(name)\n",
        "print(gender)\n",
        "print(state)\n",
        "print(product)\n",
        "print(amount)\n",
        "\n",
        "#statewise\n",
        "unique_state=[]\n",
        "state_wise_sale=[]\n",
        "for elements in state:\n",
        "  if elements not in unique_state:\n",
        "    unique_state.append(elements)\n",
        "    state_wise_sale.append(0)\n",
        "\n",
        "for elements in range(len(state)):\n",
        "  index=unique_state.index(state[elements])\n",
        "  state_wise_sale[index]=state_wise_sale[index]+amount[elements]\n",
        "\n",
        "print(unique_state)\n",
        "print(state_wise_sale)\n",
        "\n",
        "plt.bar(unique_state,state_wise_sale)\n",
        "plt.xticks(rotation=90)\n",
        "plt.show()\n",
        "\n",
        "#genderwise\n",
        "unique_gender=[]\n",
        "gender_wise_sale=[]\n",
        "for element in gender:\n",
        "  if element not in unique_gender:\n",
        "    unique_gender.append(element)\n",
        "    gender_wise_sale.append(0)\n",
        "\n",
        "for elements in range(len(gender)):\n",
        "  index2=unique_gender.index(gender[elements])\n",
        "  gender_wise_sale[index2]=gender_wise_sale[index2]+amount[elements]\n",
        "\n",
        "print(unique_gender)\n",
        "print(gender_wise_sale)\n",
        "\n",
        "plt.bar(unique_gender,gender_wise_sale)\n",
        "plt.xticks(rotation=90)\n",
        "plt.show()"
      ],
      "metadata": {
        "colab": {
          "base_uri": "https://localhost:8080/",
          "height": 1000
        },
        "id": "QOHuE8Pk4DMt",
        "outputId": "789576cd-c8df-4ce9-c6de-b7dff846ed14"
      },
      "execution_count": 24,
      "outputs": [
        {
          "output_type": "stream",
          "name": "stdout",
          "text": [
            "['Alice', 'Bob', 'Charlie', 'Diana', 'Ethan', 'Fiona', 'George', 'Hannah', 'Ian', 'Jane', 'Kevin', 'Laura', 'Mike', 'Nina', 'Oscar', 'Paula', 'Quinn', 'Rita', 'Sam', 'Tina', 'Uma', 'Victor', 'Wendy', 'Xander', 'Yara', 'Zane', 'Liam', 'Mia', 'Noah', 'Olivia', 'Peter', 'Sophia', 'James', 'Ava', 'Henry', 'Emily', 'Daniel', 'Grace', 'Jacob', 'Ella', 'Lucas', 'Amelia', 'Mason', 'Harper', 'Logan', 'Evelyn', 'Ethan', 'Abigail', 'Elijah', 'Charlotte']\n",
            "['F', 'M', 'M', 'F', 'M', 'F', 'M', 'F', 'M', 'F', 'M', 'F', 'M', 'F', 'F', 'M', 'M', 'F', 'F', 'M', 'M', 'F', 'M', 'F', 'M', 'M', 'F', 'F', 'F', 'M', 'M', 'M', 'M', 'F', 'M', 'F', 'M', 'M', 'F', 'F', 'F', 'M', 'M', 'F', 'M', 'F', 'M', 'M', 'M', 'F']\n",
            "['California', 'Texas', 'California', 'New York', 'Texas', 'Florida', 'California', 'Texas', 'Florida', 'New York', 'New York', 'California', 'Florida', 'California', 'California', 'Texas', 'Florida', 'New York', 'New York', 'California', 'Illinois', 'Illinois', 'Texas', 'Florida', 'Illinois', 'Florida', 'Florida', 'California', 'Illinois', 'New York', 'Florida', 'Illinois', 'Texas', 'Florida', 'Illinois', 'Illinois', 'Florida', 'New York', 'Illinois', 'Illinois', 'Texas', 'New York', 'Florida', 'California', 'California', 'Florida', 'Texas', 'New York', 'Illinois', 'California']\n",
            "['Laptop', 'Phone', 'Tablet', 'Laptop', 'Headphones', 'Phone', 'Phone', 'Tablet', 'Laptop', 'Headphones', 'Laptop', 'Tablet', 'Headphones', 'Laptop', 'Tablet', 'Headphones', 'Phone', 'Tablet', 'Laptop', 'Tablet', 'Phone', 'Headphones', 'Tablet', 'Headphones', 'Laptop', 'Phone', 'Laptop', 'Tablet', 'Headphones', 'Phone', 'Tablet', 'Tablet', 'Headphones', 'Phone', 'Tablet', 'Laptop', 'Laptop', 'Laptop', 'Headphones', 'Phone', 'Laptop', 'Headphones', 'Tablet', 'Tablet', 'Headphones', 'Tablet', 'Laptop', 'Headphones', 'Headphones', 'Phone']\n",
            "[1200, 800, 450, 1300, 200, 850, 750, 500, 1400, 220, 976, 1186, 315, 1445, 560, 1998, 526, 1134, 412, 1901, 1925, 697, 673, 991, 1173, 1773, 659, 1745, 1070, 1361, 1424, 219, 1650, 1818, 904, 1196, 983, 1573, 603, 1425, 331, 1614, 1514, 687, 684, 1434, 664, 1419, 1508, 1623]\n",
            "['California', 'Texas', 'New York', 'Florida', 'Illinois']\n",
            "[12231, 6816, 10009, 13687, 10720]\n"
          ]
        },
        {
          "output_type": "display_data",
          "data": {
            "text/plain": [
              "<Figure size 640x480 with 1 Axes>"
            ],
            "image/png": "[encoded data removed]"
          },
          "metadata": {}
        },
        {
          "output_type": "stream",
          "name": "stdout",
          "text": [
            "['F', 'M']\n",
            "[23086, 30377]\n"
          ]
        },
        {
          "output_type": "display_data",
          "data": {
            "text/plain": [
              "<Figure size 640x480 with 1 Axes>"
            ],
            "image/png": "[encoded data removed]"
          },
          "metadata": {}
        }
      ]
    },
    {
      "cell_type": "code",
      "source": [
        "#numpy\n"
      ],
      "metadata": {
        "id": "-88S-O3q7U6i"
      },
      "execution_count": 17,
      "outputs": []
    },
    {
      "cell_type": "code",
      "source": [
        "import numpy as np\n",
        "x=np.array([5,6,7]) # Corrected syntax\n",
        "print(x)"
      ],
      "metadata": {
        "colab": {
          "base_uri": "https://localhost:8080/"
        },
        "id": "q8T1L1dv7XyD",
        "outputId": "3b634a3c-2e34-4555-8b8c-b36303049a7b"
      },
      "execution_count": 19,
      "outputs": [
        {
          "output_type": "stream",
          "name": "stdout",
          "text": [
            "[5 6 7]\n"
          ]
        }
      ]
    },
    {
      "cell_type": "code",
      "source": [
        "#panda\n",
        "#for data frame"
      ],
      "metadata": {
        "id": "UwKz5-gA8AHk"
      },
      "execution_count": 21,
      "outputs": []
    },
    {
      "cell_type": "code",
      "source": [
        "import numpy as np\n",
        "a=np.array([5,6,7,8])\n",
        "print(a)"
      ],
      "metadata": {
        "colab": {
          "base_uri": "https://localhost:8080/"
        },
        "id": "cccZ4e9K6Jmn",
        "outputId": "8a750638-3b6e-4dee-ce62-175ff08a39ab"
      },
      "execution_count": 4,
      "outputs": [
        {
          "output_type": "stream",
          "name": "stdout",
          "text": [
            "[5 6 7 8]\n"
          ]
        }
      ]
    },
    {
      "cell_type": "code",
      "source": [
        "import numpy as np\n",
        "a=np.array([5,6,7,8])\n",
        "print(a)\n",
        "print(a[0])"
      ],
      "metadata": {
        "colab": {
          "base_uri": "https://localhost:8080/"
        },
        "id": "jYVi3nSM6thI",
        "outputId": "ab9276b7-8475-47aa-969b-85f8ff9dbb05"
      },
      "execution_count": 5,
      "outputs": [
        {
          "output_type": "stream",
          "name": "stdout",
          "text": [
            "[5 6 7 8]\n",
            "5\n"
          ]
        }
      ]
    },
    {
      "cell_type": "code",
      "source": [
        "import numpy as np\n",
        "a=np.array([5,6,7,8])\n",
        "\n",
        "print(a[0])\n",
        "print(a[1:3])"
      ],
      "metadata": {
        "colab": {
          "base_uri": "https://localhost:8080/"
        },
        "id": "rajNW8VS7ZNS",
        "outputId": "42e1a93e-f033-4769-b4c0-10f9524777df"
      },
      "execution_count": 6,
      "outputs": [
        {
          "output_type": "stream",
          "name": "stdout",
          "text": [
            "5\n",
            "[6 7]\n"
          ]
        }
      ]
    },
    {
      "cell_type": "code",
      "source": [
        "import numpy as np\n",
        "a=np.array([5,6,7,8])\n",
        "\n",
        "print(a[0])\n",
        "print(a[1:3])\n",
        "print(a[-3:-1])"
      ],
      "metadata": {
        "colab": {
          "base_uri": "https://localhost:8080/"
        },
        "id": "8hQyUu1O7kX-",
        "outputId": "07e2f019-eb04-495c-c5b6-52f1fb1e1840"
      },
      "execution_count": 8,
      "outputs": [
        {
          "output_type": "stream",
          "name": "stdout",
          "text": [
            "5\n",
            "[6 7]\n",
            "[6 7]\n"
          ]
        }
      ]
    },
    {
      "cell_type": "code",
      "source": [
        "#sorting"
      ],
      "metadata": {
        "id": "6dd6iShI7-kd"
      },
      "execution_count": null,
      "outputs": []
    },
    {
      "cell_type": "code",
      "source": [
        "import numpy as np\n",
        "a=np.sort([5,6,7,8])\n",
        "\n",
        "print(a[0])\n",
        "print(a[1:3])\n",
        "print(a[-3:-1])"
      ],
      "metadata": {
        "colab": {
          "base_uri": "https://localhost:8080/"
        },
        "id": "0MFdNu898CJu",
        "outputId": "4dd922a2-bb57-461f-f670-7c921caab59e"
      },
      "execution_count": 9,
      "outputs": [
        {
          "output_type": "stream",
          "name": "stdout",
          "text": [
            "5\n",
            "[6 7]\n",
            "[6 7]\n"
          ]
        }
      ]
    },
    {
      "cell_type": "code",
      "metadata": {
        "colab": {
          "base_uri": "https://localhost:8080/"
        },
        "id": "f4bee515",
        "outputId": "52ec987d-28a2-4eb8-82bb-8200339764f7"
      },
      "source": [
        "import numpy as np\n",
        "\n",
        "my_array = np.array([3, 1, 4, 1, 5, 9, 2, 6])\n",
        "sorted_array = np.sort(my_array)\n",
        "\n",
        "print(\"Original array:\", my_array)\n",
        "print(\"Sorted array:\", sorted_array)"
      ],
      "execution_count": 10,
      "outputs": [
        {
          "output_type": "stream",
          "name": "stdout",
          "text": [
            "Original array: [3 1 4 1 5 9 2 6]\n",
            "Sorted array: [1 1 2 3 4 5 6 9]\n"
          ]
        }
      ]
    },
    {
      "cell_type": "code",
      "source": [
        "import numpy as np\n",
        "a=[5,6,7,8]\n",
        "x=np.mean(a)\n",
        "print(x)"
      ],
      "metadata": {
        "colab": {
          "base_uri": "https://localhost:8080/"
        },
        "id": "CKa8exVZ8Gtv",
        "outputId": "2fd11ab7-11f7-44d6-87c3-2adf1c1f874d"
      },
      "execution_count": 15,
      "outputs": [
        {
          "output_type": "stream",
          "name": "stdout",
          "text": [
            "6.5\n"
          ]
        }
      ]
    },
    {
      "cell_type": "code",
      "source": [
        "import numpy as np"
      ],
      "metadata": {
        "id": "rV9pBj-99r4Y"
      },
      "execution_count": null,
      "outputs": []
    },
    {
      "cell_type": "code",
      "source": [
        "#broadcasting"
      ],
      "metadata": {
        "id": "GdpFo9je82aX"
      },
      "execution_count": null,
      "outputs": []
    },
    {
      "cell_type": "code",
      "source": [
        "import numpy as np#np.arry is class,fast computation\n",
        "a=np.array([5,6,7,8])\n",
        "b=np.array([3])\n",
        "c=np.add(a, b)\n",
        "print(c)"
      ],
      "metadata": {
        "colab": {
          "base_uri": "https://localhost:8080/"
        },
        "id": "L-SfL91L84u1",
        "outputId": "30878147-17ee-4bea-d51c-524a755040bf"
      },
      "execution_count": 13,
      "outputs": [
        {
          "output_type": "stream",
          "name": "stdout",
          "text": [
            "[ 8  9 10 11]\n"
          ]
        }
      ]
    },
    {
      "cell_type": "code",
      "source": [
        "import numpy as np\n",
        "a=np.array([[5,6,7],[6,8,9],[2,3,4]])\n",
        "print(a[1])\n",
        "print(a[0][2])\n",
        "print(a[2][2])"
      ],
      "metadata": {
        "colab": {
          "base_uri": "https://localhost:8080/"
        },
        "id": "LiLGotIv9k_f",
        "outputId": "80aba361-2aa7-4d2e-a7f0-c1d6c66f1e30"
      },
      "execution_count": 19,
      "outputs": [
        {
          "output_type": "stream",
          "name": "stdout",
          "text": [
            "[6 8 9]\n",
            "7\n",
            "4\n"
          ]
        }
      ]
    },
    {
      "cell_type": "code",
      "source": [
        "import math\n",
        "a=math.factorial(3) # Use math.factorial()\n",
        "print(a)"
      ],
      "metadata": {
        "colab": {
          "base_uri": "https://localhost:8080/"
        },
        "id": "gOx1hK-K-BVk",
        "outputId": "094575d5-46c8-438c-a64d-36858365c54b"
      },
      "execution_count": 21,
      "outputs": [
        {
          "output_type": "stream",
          "name": "stdout",
          "text": [
            "6\n"
          ]
        }
      ]
    },
    {
      "cell_type": "code",
      "source": [
        "import pandas as pd\n",
        "\n",
        "employee = {\n",
        "    \"names\": [\"vaibhav\",\"Saanvi\",\"devang\"],\n",
        "    \"salary\": [50000,60000,70000],\n",
        "    \"designation\": [\"DSA\", \"WD\", \"DS\"],\n",
        "    \"age\":[22,23,22]\n",
        "\n",
        "}\n",
        "\n",
        "df=pd.DataFrame(employee)\n",
        "print(df)"
      ],
      "metadata": {
        "colab": {
          "base_uri": "https://localhost:8080/"
        },
        "id": "HRhvfxS0-69r",
        "outputId": "46036d15-69df-429d-f82a-56b4960e4e56"
      },
      "execution_count": 29,
      "outputs": [
        {
          "output_type": "stream",
          "name": "stdout",
          "text": [
            "     names  salary designation  age\n",
            "0  vaibhav   50000         DSA   22\n",
            "1   Saanvi   60000          WD   23\n",
            "2   devang   70000          DS   22\n"
          ]
        }
      ]
    },
    {
      "cell_type": "code",
      "source": [
        "import pandas as pd\n",
        "df=pd.read_csv(\"sale.csv\")\n",
        "print(df)\n",
        "df.groupby(\"State\")[\"Amount\"].sum().plot(kind=\"pie\")"
      ],
      "metadata": {
        "id": "WOgUU3QIAv2J",
        "outputId": "2ec249c5-95ae-4c2f-a2c0-5c49d0c558e0",
        "colab": {
          "base_uri": "https://localhost:8080/",
          "height": 1000
        }
      },
      "execution_count": 36,
      "outputs": [
        {
          "output_type": "stream",
          "name": "stdout",
          "text": [
            "     Customer Gender       State     Product  Amount\n",
            "0       Alice      F  California      Laptop    1200\n",
            "1         Bob      M       Texas       Phone     800\n",
            "2     Charlie      M  California      Tablet     450\n",
            "3       Diana      F    New York      Laptop    1300\n",
            "4       Ethan      M       Texas  Headphones     200\n",
            "5       Fiona      F     Florida       Phone     850\n",
            "6      George      M  California       Phone     750\n",
            "7      Hannah      F       Texas      Tablet     500\n",
            "8         Ian      M     Florida      Laptop    1400\n",
            "9        Jane      F    New York  Headphones     220\n",
            "10      Kevin      M    New York      Laptop     976\n",
            "11      Laura      F  California      Tablet    1186\n",
            "12       Mike      M     Florida  Headphones     315\n",
            "13       Nina      F  California      Laptop    1445\n",
            "14      Oscar      F  California      Tablet     560\n",
            "15      Paula      M       Texas  Headphones    1998\n",
            "16      Quinn      M     Florida       Phone     526\n",
            "17       Rita      F    New York      Tablet    1134\n",
            "18        Sam      F    New York      Laptop     412\n",
            "19       Tina      M  California      Tablet    1901\n",
            "20        Uma      M    Illinois       Phone    1925\n",
            "21     Victor      F    Illinois  Headphones     697\n",
            "22      Wendy      M       Texas      Tablet     673\n",
            "23     Xander      F     Florida  Headphones     991\n",
            "24       Yara      M    Illinois      Laptop    1173\n",
            "25       Zane      M     Florida       Phone    1773\n",
            "26       Liam      F     Florida      Laptop     659\n",
            "27        Mia      F  California      Tablet    1745\n",
            "28       Noah      F    Illinois  Headphones    1070\n",
            "29     Olivia      M    New York       Phone    1361\n",
            "30      Peter      M     Florida      Tablet    1424\n",
            "31     Sophia      M    Illinois      Tablet     219\n",
            "32      James      M       Texas  Headphones    1650\n",
            "33        Ava      F     Florida       Phone    1818\n",
            "34      Henry      M    Illinois      Tablet     904\n",
            "35      Emily      F    Illinois      Laptop    1196\n",
            "36     Daniel      M     Florida      Laptop     983\n",
            "37      Grace      M    New York      Laptop    1573\n",
            "38      Jacob      F    Illinois  Headphones     603\n",
            "39       Ella      F    Illinois       Phone    1425\n",
            "40      Lucas      F       Texas      Laptop     331\n",
            "41     Amelia      M    New York  Headphones    1614\n",
            "42      Mason      M     Florida      Tablet    1514\n",
            "43     Harper      F  California      Tablet     687\n",
            "44      Logan      M  California  Headphones     684\n",
            "45     Evelyn      F     Florida      Tablet    1434\n",
            "46      Ethan      M       Texas      Laptop     664\n",
            "47    Abigail      M    New York  Headphones    1419\n",
            "48     Elijah      M    Illinois  Headphones    1508\n",
            "49  Charlotte      F  California       Phone    1623\n"
          ]
        },
        {
          "output_type": "execute_result",
          "data": {
            "text/plain": [
              "<Axes: ylabel='Amount'>"
            ]
          },
          "metadata": {},
          "execution_count": 36
        },
        {
          "output_type": "display_data",
          "data": {
            "text/plain": [
              "<Figure size 640x480 with 1 Axes>"
            ],
            "image/png": "[encoded data removed]"
          },
          "metadata": {}
        }
      ]
    },
    {
      "cell_type": "code",
      "source": [],
      "metadata": {
        "id": "ZC9rayzYB8EN"
      },
      "execution_count": null,
      "outputs": []
    }
  ]
}