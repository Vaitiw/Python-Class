{
  "nbformat": 4,
  "nbformat_minor": 0,
  "metadata": {
    "colab": {
      "provenance": [],
      "authorship_tag": "ABX9TyNdTtgXMCzmweFT5XDaPIQY",
      "include_colab_link": true
    },
    "kernelspec": {
      "name": "python3",
      "display_name": "Python 3"
    },
    "language_info": {
      "name": "python"
    }
  },
  "cells": [
    {
      "cell_type": "markdown",
      "metadata": {
        "id": "view-in-github",
        "colab_type": "text"
      },
      "source": [
        "<a href=\"https://colab.research.google.com/github/Vaitiw/Python-Class/blob/main/python_1st_class(CBITSS).ipynb\" target=\"_parent\"><img src=\"https://colab.research.google.com/assets/colab-badge.svg\" alt=\"Open In Colab\"/></a>"
      ]
    },
    {
      "cell_type": "code",
      "execution_count": null,
      "metadata": {
        "colab": {
          "base_uri": "https://localhost:8080/"
        },
        "id": "Ocg73PDAlqon",
        "outputId": "30835db6-0b35-44e6-8dc7-e1cdc7dcbca7"
      },
      "outputs": [
        {
          "output_type": "stream",
          "name": "stdout",
          "text": [
            "hello world\n"
          ]
        }
      ],
      "source": [
        "print (\"hello world\")"
      ]
    },
    {
      "cell_type": "code",
      "source": [
        "# this is my first code\n",
        "print(\"hello world\")"
      ],
      "metadata": {
        "colab": {
          "base_uri": "https://localhost:8080/"
        },
        "id": "ZZJyMhWwnpE9",
        "outputId": "0f7e65e1-6ac1-422f-9d8f-71ec33772410"
      },
      "execution_count": null,
      "outputs": [
        {
          "output_type": "stream",
          "name": "stdout",
          "text": [
            "hello world\n"
          ]
        }
      ]
    },
    {
      "cell_type": "code",
      "source": [
        "\"\"\"\n",
        "this is my first class in cbitss\n",
        "we have leared about basics of python\"\"\""
      ],
      "metadata": {
        "colab": {
          "base_uri": "https://localhost:8080/",
          "height": 35
        },
        "id": "Vl1Ao3iqnvF9",
        "outputId": "15855027-ac09-46aa-eab8-529be57e3a7b"
      },
      "execution_count": null,
      "outputs": [
        {
          "output_type": "execute_result",
          "data": {
            "text/plain": [
              "'\\nthis is my first class in cbitss\\nwe have leared about basics of python'"
            ],
            "application/vnd.google.colaboratory.intrinsic+json": {
              "type": "string"
            }
          },
          "metadata": {},
          "execution_count": 6
        }
      ]
    },
    {
      "cell_type": "code",
      "source": [
        "a=5\n",
        "b=6\n",
        "print(\"sum of two number\", a+b)"
      ],
      "metadata": {
        "colab": {
          "base_uri": "https://localhost:8080/"
        },
        "id": "YgrX5p2EbgMg",
        "outputId": "886663bf-f75c-4cdc-ab24-7b29f4ec49ff"
      },
      "execution_count": 5,
      "outputs": [
        {
          "output_type": "stream",
          "name": "stdout",
          "text": [
            "sum of two number 11\n"
          ]
        }
      ]
    },
    {
      "cell_type": "code",
      "source": [
        "a=100\n",
        "b=200\n",
        "print(\"\")\n",
        "price_of_pizza =100\n",
        "price_of_burgur=110\n",
        "price_of_cokacola=300\n",
        "price_of_cocktail=220\n",
        "print(\"Total Bill price:=\" , price_of_pizza+price_of_burgur+price_of_cokacola+price_of_cocktail)"
      ],
      "metadata": {
        "id": "eXRVCcaZn_L1",
        "colab": {
          "base_uri": "https://localhost:8080/"
        },
        "outputId": "0c2f6a66-e5ed-405f-c9f2-129c30302156"
      },
      "execution_count": 12,
      "outputs": [
        {
          "output_type": "stream",
          "name": "stdout",
          "text": [
            "\n",
            "Total Bill price:= 730\n"
          ]
        }
      ]
    },
    {
      "cell_type": "code",
      "source": [
        "a=100\n",
        "b=200\n",
        "c=2000\n",
        "d=4\n",
        "result=a*b*c*d\n",
        "print(\"multiplication of 4 numbers:=\" , result)"
      ],
      "metadata": {
        "colab": {
          "base_uri": "https://localhost:8080/"
        },
        "id": "bnO4Nzffc5UD",
        "outputId": "b9f2e4e2-6c7e-4a6d-c910-217546f55bef"
      },
      "execution_count": 16,
      "outputs": [
        {
          "output_type": "stream",
          "name": "stdout",
          "text": [
            "multiplication of 4 numbers:= 160000000\n"
          ]
        }
      ]
    },
    {
      "cell_type": "code",
      "source": [
        "a =int(input(\"enter first number: \"))\n",
        "b =int(input(\"enter second number: \"))\n",
        "c =int(input(\"enter third number: \"))\n",
        "result=a*b*c\n",
        "print(\"multiplication of 3 numbers =\" , result)"
      ],
      "metadata": {
        "colab": {
          "base_uri": "https://localhost:8080/"
        },
        "id": "od5buLVZei9H",
        "outputId": "189eb6e1-4c9f-43da-bbed-c60f8ebb1ccd"
      },
      "execution_count": 21,
      "outputs": [
        {
          "output_type": "stream",
          "name": "stdout",
          "text": [
            "enter first number: 2\n",
            "enter second number: 2\n",
            "enter third number: 2\n",
            "multiplication of 3 numbers = 8\n"
          ]
        }
      ]
    },
    {
      "cell_type": "code",
      "source": [],
      "metadata": {
        "id": "DjOwSdlfgOMG"
      },
      "execution_count": null,
      "outputs": []
    }
  ]
}