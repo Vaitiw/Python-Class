{
  "nbformat": 4,
  "nbformat_minor": 0,
  "metadata": {
    "colab": {
      "provenance": [],
      "authorship_tag": "ABX9TyN5X583FxUopnPRldZOLNNu",
      "include_colab_link": true
    },
    "kernelspec": {
      "name": "python3",
      "display_name": "Python 3"
    },
    "language_info": {
      "name": "python"
    }
  },
  "cells": [
    {
      "cell_type": "markdown",
      "metadata": {
        "id": "view-in-github",
        "colab_type": "text"
      },
      "source": [
        "<a href=\"https://colab.research.google.com/github/Vaitiw/Python-Class/blob/main/python_1st_class(CBITSS).ipynb\" target=\"_parent\"><img src=\"https://colab.research.google.com/assets/colab-badge.svg\" alt=\"Open In Colab\"/></a>"
      ]
    },
    {
      "cell_type": "code",
      "execution_count": null,
      "metadata": {
        "colab": {
          "base_uri": "https://localhost:8080/"
        },
        "id": "Ocg73PDAlqon",
        "outputId": "30835db6-0b35-44e6-8dc7-e1cdc7dcbca7"
      },
      "outputs": [
        {
          "output_type": "stream",
          "name": "stdout",
          "text": [
            "hello world\n"
          ]
        }
      ],
      "source": [
        "print (\"hello world\")"
      ]
    },
    {
      "cell_type": "code",
      "source": [
        "# this is my first code\n",
        "print(\"hello world\")"
      ],
      "metadata": {
        "colab": {
          "base_uri": "https://localhost:8080/"
        },
        "id": "ZZJyMhWwnpE9",
        "outputId": "0f7e65e1-6ac1-422f-9d8f-71ec33772410"
      },
      "execution_count": null,
      "outputs": [
        {
          "output_type": "stream",
          "name": "stdout",
          "text": [
            "hello world\n"
          ]
        }
      ]
    },
    {
      "cell_type": "code",
      "source": [
        "\"\"\"\n",
        "this is my first class in cbitss\n",
        "we have leared about basics of python\"\"\""
      ],
      "metadata": {
        "colab": {
          "base_uri": "https://localhost:8080/",
          "height": 35
        },
        "id": "Vl1Ao3iqnvF9",
        "outputId": "15855027-ac09-46aa-eab8-529be57e3a7b"
      },
      "execution_count": null,
      "outputs": [
        {
          "output_type": "execute_result",
          "data": {
            "text/plain": [
              "'\\nthis is my first class in cbitss\\nwe have leared about basics of python'"
            ],
            "application/vnd.google.colaboratory.intrinsic+json": {
              "type": "string"
            }
          },
          "metadata": {},
          "execution_count": 6
        }
      ]
    },
    {
      "cell_type": "code",
      "source": [
        "a=5\n",
        "b=6\n",
        "print(\"sum of two number\", a+b)"
      ],
      "metadata": {
        "colab": {
          "base_uri": "https://localhost:8080/"
        },
        "id": "YgrX5p2EbgMg",
        "outputId": "886663bf-f75c-4cdc-ab24-7b29f4ec49ff"
      },
      "execution_count": null,
      "outputs": [
        {
          "output_type": "stream",
          "name": "stdout",
          "text": [
            "sum of two number 11\n"
          ]
        }
      ]
    },
    {
      "cell_type": "code",
      "source": [
        "a=100\n",
        "b=200\n",
        "print(\"\")\n",
        "price_of_pizza =100\n",
        "price_of_burgur=110\n",
        "price_of_cokacola=300\n",
        "price_of_cocktail=220\n",
        "print(\"Total Bill price:=\" , price_of_pizza+price_of_burgur+price_of_cokacola+price_of_cocktail)"
      ],
      "metadata": {
        "id": "eXRVCcaZn_L1",
        "colab": {
          "base_uri": "https://localhost:8080/"
        },
        "outputId": "0c2f6a66-e5ed-405f-c9f2-129c30302156"
      },
      "execution_count": null,
      "outputs": [
        {
          "output_type": "stream",
          "name": "stdout",
          "text": [
            "\n",
            "Total Bill price:= 730\n"
          ]
        }
      ]
    },
    {
      "cell_type": "code",
      "source": [
        "a=100\n",
        "b=200\n",
        "c=2000\n",
        "d=4\n",
        "result=a*b*c*d\n",
        "print(\"multiplication of 4 numbers:=\" , result)"
      ],
      "metadata": {
        "colab": {
          "base_uri": "https://localhost:8080/"
        },
        "id": "bnO4Nzffc5UD",
        "outputId": "b9f2e4e2-6c7e-4a6d-c910-217546f55bef"
      },
      "execution_count": null,
      "outputs": [
        {
          "output_type": "stream",
          "name": "stdout",
          "text": [
            "multiplication of 4 numbers:= 160000000\n"
          ]
        }
      ]
    },
    {
      "cell_type": "code",
      "source": [
        "a =int(input(\"enter first number: \"))\n",
        "b =int(input(\"enter second number: \"))\n",
        "c =int(input(\"enter third number: \"))\n",
        "result=a*b*c\n",
        "print(\"multiplication of 3 numbers =\" , result)"
      ],
      "metadata": {
        "colab": {
          "base_uri": "https://localhost:8080/"
        },
        "id": "od5buLVZei9H",
        "outputId": "189eb6e1-4c9f-43da-bbed-c60f8ebb1ccd"
      },
      "execution_count": null,
      "outputs": [
        {
          "output_type": "stream",
          "name": "stdout",
          "text": [
            "enter first number: 2\n",
            "enter second number: 2\n",
            "enter third number: 2\n",
            "multiplication of 3 numbers = 8\n"
          ]
        }
      ]
    },
    {
      "cell_type": "code",
      "source": [],
      "metadata": {
        "id": "UZ0Pdl7yiZkG"
      },
      "execution_count": null,
      "outputs": []
    },
    {
      "cell_type": "code",
      "source": [
        "price_of_pizza =100\n",
        "price_of_burgur=110\n",
        "price_of_cokacola=300\n",
        "price_of_cocktail=220\n",
        "discount=50\n",
        "Total_Bill_price = price_of_pizza+price_of_burgur+price_of_cokacola+price_of_cocktail\n",
        "total_discount=Total_Bill_price*discount/100\n",
        "print(Total_Bill_price-total_dicount)\n",
        "payable_bill_afterdiscount=Total_Bill_price-total_discount\n",
        "\n"
      ],
      "metadata": {
        "colab": {
          "base_uri": "https://localhost:8080/"
        },
        "id": "4NHOjwwqiZF_",
        "outputId": "398c0a91-6e0d-4289-ec7e-4f8f88f0eeba"
      },
      "execution_count": null,
      "outputs": [
        {
          "output_type": "stream",
          "name": "stdout",
          "text": [
            "365.0\n"
          ]
        }
      ]
    },
    {
      "cell_type": "code",
      "source": [
        "a=5\n",
        "b=10\n",
        "print(f\"sum of (a) and (b)  is \",\n",
        "age = 25\n",
        "print(f\"age = (age)\")"
      ],
      "metadata": {
        "colab": {
          "base_uri": "https://localhost:8080/"
        },
        "id": "1J54HqMCipLx",
        "outputId": "0fe43fe3-5353-4792-e00d-209f0fe1fe29"
      },
      "execution_count": null,
      "outputs": [
        {
          "output_type": "stream",
          "name": "stdout",
          "text": [
            "sum of (a) and (b)  is  15\n",
            "age = (age)\n"
          ]
        }
      ]
    },
    {
      "cell_type": "code",
      "source": [
        "age= 22\n",
        "MY_name =\"Aryan Thakur\"\n",
        "Mother_name=\"Rina Thakur\"\n",
        "Father_name=\"Durgesh Thakur\"\n",
        "school_name= \"DAVCPS,Mandi\"\n",
        "print(\"************ BioData************\")\n",
        "print(f\"age is {age}\")\n",
        "print(f\"Name :   {MY_name}\")\n",
        "print(f\"Mothername is {Mother_name}\")\n",
        "print(f\"Fathername is {Father_name}\")\n",
        "print(f\"schoolname is {school_name}\")\n",
        "\n",
        "\n"
      ],
      "metadata": {
        "colab": {
          "base_uri": "https://localhost:8080/"
        },
        "id": "9kpKStIlnF7N",
        "outputId": "524ba3d6-842e-418d-b8f3-8daa405d6f27"
      },
      "execution_count": null,
      "outputs": [
        {
          "output_type": "stream",
          "name": "stdout",
          "text": [
            "************ BioData************\n",
            "age is 22\n",
            "Name :   Aryan Thakur\n",
            "Mothername is Rina Thakur\n",
            "Fathername is Durgesh Thakur\n",
            "schoolname is DAVCPS,Mandi\n"
          ]
        }
      ]
    },
    {
      "cell_type": "code",
      "source": [
        "name=\"Vaibhav Tiwari\"\n",
        "age=21\n",
        "gender=\"Male\"\n",
        "DOB=\"05-08-2004\"\n",
        "address=\"Zirakpur,India\"\n",
        "Phone=\"9418463000\"\n",
        "email=\"vaibhav@gmail.com\"\n",
        "\n",
        "print(\"     Biodata     \")\n",
        "print(\"Name :\",name)\n",
        "print(\"Age :\",age)\n",
        "print(\"Date of Birth :\",DOB)\n",
        "print(\"Address :\",address)\n",
        "print(\"Phone No :\",Phone)\n",
        "print(\"Email :\",email)\n"
      ],
      "metadata": {
        "colab": {
          "base_uri": "https://localhost:8080/"
        },
        "id": "pKryAHhxg0Ni",
        "outputId": "47c04802-5564-403c-c668-4218628521f9"
      },
      "execution_count": null,
      "outputs": [
        {
          "output_type": "stream",
          "name": "stdout",
          "text": [
            "     Biodata     \n",
            "Name : Vaibhav Tiwari\n",
            "Age : 21\n",
            "Date of Birth : 05-08-2004\n",
            "Address : Zirakpur,India\n",
            "Phone No : 9418463000\n",
            "Email : vaibhav@gmail.com\n"
          ]
        }
      ]
    },
    {
      "cell_type": "code",
      "source": [
        "price_of_pizza =300\n",
        "price_of_burgur=200\n",
        "price_of_chikenTikka=560\n",
        "discount_on_pizza=4\n",
        "discount_on_burgur=5\n",
        "discount_on_chikenTikka=4\n",
        "total_bill=price_of_pizza+price_of_burgur+price_of_chikenTikka\n",
        "total_discount_of_pizza=price_of_pizza*discount_on_pizza/100\n",
        "total_discount_of_burgur=price_of_burgur*discount_on_burgur/100\n",
        "total_discount_of_chikenTikka=price_of_chikenTikka*discount_on_chikenTikka/100\n",
        "print(\"pizza bill : \" ,(price_of_pizza-total_discount_of_pizza))\n",
        "print(\"burgur bill: \" ,(price_of_burgur-total_discount_of_burgur))\n",
        "print(\"chikenTikka: \" ,(price_of_chikenTikka-total_discount_of_chikenTikka))\n",
        "print(\"total bill to pay :\", (price_of_pizza - total_discount_of_pizza + price_of_burgur - total_discount_of_burgur + price_of_chikenTikka - total_discount_of_chikenTikka))\n",
        "\n",
        "\n",
        "\n"
      ],
      "metadata": {
        "colab": {
          "base_uri": "https://localhost:8080/"
        },
        "id": "HsTvgQOijl5S",
        "outputId": "cc375fb3-932a-458e-eb74-abeec92b01b4"
      },
      "execution_count": null,
      "outputs": [
        {
          "output_type": "stream",
          "name": "stdout",
          "text": [
            "pizza bill :  288.0\n",
            "burgur bill:  190.0\n",
            "chikenTikka:  537.6\n",
            "total bill to pay : 1015.6\n"
          ]
        }
      ]
    },
    {
      "cell_type": "code",
      "source": [
        "p=int(input(\"enter value of principla :\"))\n",
        "r=int(input(\"enter value of rate : \"))\n",
        "t=int(input(\"enter value of time :\"))\n",
        "\n",
        "result= (p*r*t)/100\n",
        "print(\"Simple_Interst= :\" ,result)"
      ],
      "metadata": {
        "id": "O4b4aPcElsXd",
        "colab": {
          "base_uri": "https://localhost:8080/"
        },
        "outputId": "e7d3471a-71f0-4509-c0f1-b7f2e63f13b2"
      },
      "execution_count": null,
      "outputs": [
        {
          "output_type": "stream",
          "name": "stdout",
          "text": [
            "enter value of principla :300\n",
            "enter value of rate : 5\n",
            "enter value of time :9\n",
            "Simple_Interst= : 135.0\n"
          ]
        }
      ]
    },
    {
      "cell_type": "code",
      "source": [],
      "metadata": {
        "id": "I6KKHtlHXG9i"
      },
      "execution_count": null,
      "outputs": []
    },
    {
      "cell_type": "code",
      "source": [
        "rate=0.0113\n",
        "INR_amount=float(input(\"Enter amount =\"))\n",
        "\n",
        "usd=rate*INR_amount\n",
        "\n",
        "print(\"How much usd I got : \" ,usd )\n",
        "\n"
      ],
      "metadata": {
        "colab": {
          "base_uri": "https://localhost:8080/"
        },
        "id": "kEKV7Y3vAjWC",
        "outputId": "98c49e6e-0374-40a5-cc04-36e96461ebad"
      },
      "execution_count": null,
      "outputs": [
        {
          "output_type": "stream",
          "name": "stdout",
          "text": [
            "Enter amount =50000\n",
            "How much usd I got :  565.0\n"
          ]
        }
      ]
    },
    {
      "cell_type": "code",
      "source": [
        "rate=0.60\n",
        "rate=0.60\n",
        "INR_amount=float(input(\"Enter amount : \"))\n",
        "Japanese_yen=rate*INR_amount\n",
        "\n",
        "print(\"How much Yen I got : \" ,Japanese_yen )\n",
        "Japanese_yen=rate*INR_amount\n",
        "\n",
        "print(\"How much Yen I got : \" ,Japanese_yen )"
      ],
      "metadata": {
        "id": "8PvHAJp-AaCU",
        "colab": {
          "base_uri": "https://localhost:8080/"
        },
        "outputId": "4d1f9eda-aa6a-42d0-c388-5294ad989e4c"
      },
      "execution_count": null,
      "outputs": [
        {
          "output_type": "stream",
          "name": "stdout",
          "text": [
            "Enter amount : 100000\n",
            "How much Yen I got :  60000.0\n"
          ]
        }
      ]
    },
    {
      "cell_type": "code",
      "source": [
        "usd_rate=0.0113\n",
        "yen_rate=0.58\n",
        "\n",
        "usd=float(input(\"Enter amount : \"))\n",
        "yen=float(input(\"Enter amount : \"))\n",
        "\n",
        "\n",
        "inr_from_usd=usd/usd_rate\n",
        "inr_from_yen=yen*yen_rate\n",
        "\n",
        "print(\"How much INR in exchange of usd I got : \" ,inr_from_usd )\n",
        "print(\"How much INR in exhchange of yenI got : \" ,inr_from_yen  )\n",
        "\n",
        "\n",
        "\n",
        "\n"
      ],
      "metadata": {
        "colab": {
          "base_uri": "https://localhost:8080/"
        },
        "id": "dJbefWKfX96t",
        "outputId": "f9635223-9ac9-4715-c33a-2899c95d6cfe"
      },
      "execution_count": null,
      "outputs": [
        {
          "output_type": "stream",
          "name": "stdout",
          "text": [
            "Enter amount : 500\n",
            "Enter amount : 2\n",
            "How much INR in exchange of usd I got :  44247.787610619474\n",
            "How much INR in exhchange of yenI got :  1.16\n"
          ]
        }
      ]
    },
    {
      "cell_type": "code",
      "source": [
        "usd_rate = 83\n",
        "yen_rate = 0.56\n",
        "\n",
        "usd = float(input(\"Enter amount in USD: \"))\n",
        "yen = float(input(\"Enter amount in JPY: \"))\n",
        "\n",
        "inr_from_usd = usd * usd_rate\n",
        "inr_from_yen = yen * yen_rate  # Correct calculation\n",
        "\n",
        "print(\"How much INR in exchange of USD I got:\", inr_from_usd)\n",
        "print(\"How much INR in exchange of JPY I got:\", inr_from_yen)"
      ],
      "metadata": {
        "colab": {
          "base_uri": "https://localhost:8080/"
        },
        "id": "_xrJLxS3cBwf",
        "outputId": "7a6a4f70-c739-47f6-9527-59bb3515282a"
      },
      "execution_count": null,
      "outputs": [
        {
          "output_type": "stream",
          "name": "stdout",
          "text": [
            "Enter amount in USD: 1\n",
            "Enter amount in JPY: 1\n",
            "How much INR in exchange of USD I got: 83.0\n",
            "How much INR in exchange of JPY I got: 0.56\n"
          ]
        }
      ]
    },
    {
      "cell_type": "code",
      "source": [
        "\n",
        "p=20000\n",
        "r=20/100\n",
        "n=4\n",
        "t=2\n",
        "A=p*(1+r/n)**(n*t)\n",
        "CI=A-p\n",
        "\n",
        "print(\"final Amount :\",A)\n",
        "print(\"Compound Interst : \",CI)"
      ],
      "metadata": {
        "colab": {
          "base_uri": "https://localhost:8080/"
        },
        "id": "XZP2q2IukKP6",
        "outputId": "d017ef72-4749-4356-8ad9-f0f5d4ce17f7"
      },
      "execution_count": null,
      "outputs": [
        {
          "output_type": "stream",
          "name": "stdout",
          "text": [
            "final Amount : 29549.10887578126\n",
            "Compound Interst :  9549.108875781261\n"
          ]
        }
      ]
    },
    {
      "cell_type": "code",
      "source": [
        "p=int(input(\"enter value of principla :\"))\n",
        "r=int(input(\"enter value of rate : \"))\n",
        "t_input=input(\"enter value of time :\")\n",
        "t = eval(t_input)\n",
        "\n",
        "\n",
        "result= (p*r*t)/100\n",
        "print(\"Simple_Interst= :\" ,result)"
      ],
      "metadata": {
        "colab": {
          "base_uri": "https://localhost:8080/"
        },
        "id": "gIS34oBFIx7u",
        "outputId": "eedc440a-f725-4d1e-e26e-390d12486dff"
      },
      "execution_count": null,
      "outputs": [
        {
          "output_type": "stream",
          "name": "stdout",
          "text": [
            "enter value of principla :2000\n",
            "enter value of rate : 10\n",
            "enter value of time :81/365\n",
            "Simple_Interst= : 44.38356164383562\n"
          ]
        }
      ]
    },
    {
      "cell_type": "code",
      "source": [
        "str=\"i am a coder\"\n",
        "print(str.capitalize())"
      ],
      "metadata": {
        "id": "T9hcjfFCJWCW",
        "colab": {
          "base_uri": "https://localhost:8080/"
        },
        "outputId": "b2e70862-c66b-4a76-fd25-f45e2a748774"
      },
      "execution_count": null,
      "outputs": [
        {
          "output_type": "stream",
          "name": "stdout",
          "text": [
            "I am a coder\n"
          ]
        }
      ]
    },
    {
      "cell_type": "code",
      "source": [
        "str=\"I am studying python from Cbitss\"\n",
        "print(str.replace(\"python\",\"java\"))"
      ],
      "metadata": {
        "colab": {
          "base_uri": "https://localhost:8080/"
        },
        "id": "4aY4Za8YbNJM",
        "outputId": "7e97a83a-6fed-41c6-fee1-65ba09e19019"
      },
      "execution_count": null,
      "outputs": [
        {
          "output_type": "stream",
          "name": "stdout",
          "text": [
            "I am studying java from Cbitss\n"
          ]
        }
      ]
    },
    {
      "cell_type": "code",
      "source": [
        "str=\"i am studying python form cbitss and I am also leaning english\"\n",
        "print(str.count(\"am\"))"
      ],
      "metadata": {
        "colab": {
          "base_uri": "https://localhost:8080/"
        },
        "id": "JXzRdjKAbiQX",
        "outputId": "45a11d0d-2155-45c6-8d1e-7bd91a4aae7d"
      },
      "execution_count": null,
      "outputs": [
        {
          "output_type": "stream",
          "name": "stdout",
          "text": [
            "2\n"
          ]
        }
      ]
    },
    {
      "cell_type": "code",
      "source": [
        "#slicing\n",
        "str=\"AmityUnivresity\"\n",
        "print(str[1:4])\n"
      ],
      "metadata": {
        "colab": {
          "base_uri": "https://localhost:8080/"
        },
        "id": "1GZCvHrZb-Y9",
        "outputId": "007cd437-1ebc-4155-81a9-d08d5525f652"
      },
      "execution_count": null,
      "outputs": [
        {
          "output_type": "stream",
          "name": "stdout",
          "text": [
            "mit\n"
          ]
        }
      ]
    },
    {
      "cell_type": "code",
      "source": [
        "#negatibe slicing\n",
        "str=\"apna college\"\n",
        "print(str[-4:-1])"
      ],
      "metadata": {
        "colab": {
          "base_uri": "https://localhost:8080/"
        },
        "id": "PWcj0RvAciOU",
        "outputId": "1289b006-9e92-481f-e108-fb104c05aa92"
      },
      "execution_count": null,
      "outputs": [
        {
          "output_type": "stream",
          "name": "stdout",
          "text": [
            "leg\n"
          ]
        }
      ]
    },
    {
      "cell_type": "code",
      "source": [
        "#if esle condition\n",
        "light=\"green\"\n",
        "if(light == \"red\"):\n",
        "    print(\"stop\")\n",
        "\n",
        "elif(light == \"yellow\"):\n",
        "    print(\"wait\")\n",
        "\n",
        "elif(light == \"green\"):\n",
        "    print(\"look\")\n",
        "\n",
        "print(\"End of code\")\n",
        "\n"
      ],
      "metadata": {
        "colab": {
          "base_uri": "https://localhost:8080/"
        },
        "id": "AWw4R5g4c8zp",
        "outputId": "2cef80fb-ae0b-47ef-9e0b-13fcc597f923"
      },
      "execution_count": null,
      "outputs": [
        {
          "output_type": "stream",
          "name": "stdout",
          "text": [
            "look\n",
            "End of code\n"
          ]
        }
      ]
    },
    {
      "cell_type": "code",
      "source": [
        "age=17\n",
        "if(age>=18):\n",
        "    print(\"you can give vote\")\n",
        "\n",
        "else:\n",
        "    print(\"you can not vote\")"
      ],
      "metadata": {
        "colab": {
          "base_uri": "https://localhost:8080/"
        },
        "id": "pM1mN3m_fID5",
        "outputId": "c10486ea-f7be-403b-8498-b34db01561db"
      },
      "execution_count": null,
      "outputs": [
        {
          "output_type": "stream",
          "name": "stdout",
          "text": [
            "you can not vote\n"
          ]
        }
      ]
    },
    {
      "cell_type": "code",
      "source": [
        "month=2\n",
        "days=21\n",
        "year_from_month=month/12\n",
        "year_from_days=days/365\n",
        "T=year_from_month+year_from_days\n",
        "print(\"Total Time : \" ,T)\n",
        "\n",
        "p=1000\n",
        "rate=5\n",
        "SI=(p*rate*T)/100\n",
        "print(\"Simple Interst = \" , SI)"
      ],
      "metadata": {
        "colab": {
          "base_uri": "https://localhost:8080/"
        },
        "id": "WTUwhDSRgXRR",
        "outputId": "125fe9fa-e049-48b6-e1d2-d0057e1d4524"
      },
      "execution_count": null,
      "outputs": [
        {
          "output_type": "stream",
          "name": "stdout",
          "text": [
            "Total Time :  0.22420091324200914\n",
            "Simple Interst =  11.210045662100455\n"
          ]
        }
      ]
    },
    {
      "cell_type": "code",
      "source": [
        "age=25\n",
        "if(age>=18):\n",
        "  print(\"You are eligible to drive\")\n",
        "\n",
        "else:\n",
        "  print(\"you are not eligible to drive\")\n"
      ],
      "metadata": {
        "colab": {
          "base_uri": "https://localhost:8080/"
        },
        "id": "jBXnQ6RMk5hm",
        "outputId": "ecf5d6b0-76a9-4e8f-ffe5-f9c0c634108c"
      },
      "execution_count": null,
      "outputs": [
        {
          "output_type": "stream",
          "name": "stdout",
          "text": [
            "You are eligible to drive\n"
          ]
        }
      ]
    },
    {
      "cell_type": "code",
      "source": [
        "num=21\n",
        "if(num%2==0):\n",
        "  print(\"number is even\")\n",
        "\n",
        "else:\n",
        "  print(\"number is odd\")"
      ],
      "metadata": {
        "colab": {
          "base_uri": "https://localhost:8080/"
        },
        "id": "-5D2RiLup3u9",
        "outputId": "36a5e675-6fb7-4d77-b8e5-d9d4cbfe716c"
      },
      "execution_count": null,
      "outputs": [
        {
          "output_type": "stream",
          "name": "stdout",
          "text": [
            "number is odd\n"
          ]
        }
      ]
    },
    {
      "cell_type": "code",
      "source": [
        "num=100\n",
        "if(num/2):\n",
        "  print(\"No is even\")\n",
        "\n",
        "else:\n",
        "  print(\"no is odd\")"
      ],
      "metadata": {
        "colab": {
          "base_uri": "https://localhost:8080/"
        },
        "id": "u0bKjXctrPFa",
        "outputId": "f78d16c2-58ea-4e4d-f72c-5abad3c7c572"
      },
      "execution_count": null,
      "outputs": [
        {
          "output_type": "stream",
          "name": "stdout",
          "text": [
            "No is even\n"
          ]
        }
      ]
    },
    {
      "cell_type": "code",
      "source": [
        "color=\"Red\"\n",
        "if(color==\"green\"):\n",
        "  print(\"i will not not stay\")\n",
        "\n",
        "elif(color==\"black\"):\n",
        "  print(\"i will not stay \")\n",
        "\n",
        "elif(color==\"Red\"):\n",
        "  print(\"i will buy this tshirt\")"
      ],
      "metadata": {
        "colab": {
          "base_uri": "https://localhost:8080/"
        },
        "id": "3-e6u0AQrjqj",
        "outputId": "00e50148-b7e4-4c5b-b641-7b25fd96f6ff"
      },
      "execution_count": null,
      "outputs": [
        {
          "output_type": "stream",
          "name": "stdout",
          "text": [
            "i will buy this tshirt\n"
          ]
        }
      ]
    },
    {
      "cell_type": "code",
      "source": [
        "str=\"I am coding in python and i am learning new things\"\n",
        "print(str.find(\"am\"))"
      ],
      "metadata": {
        "colab": {
          "base_uri": "https://localhost:8080/"
        },
        "id": "PdtiRHnxuR-6",
        "outputId": "55a6ef35-870f-42d2-fc57-19f1848cce3c"
      },
      "execution_count": null,
      "outputs": [
        {
          "output_type": "stream",
          "name": "stdout",
          "text": [
            "2\n"
          ]
        }
      ]
    },
    {
      "cell_type": "code",
      "source": [
        "age=int(input(\"Enter Your age :\"))\n",
        "gender=input(\"enter your gender :\")\n",
        "\n",
        "if(gender==\"Male\"):\n",
        "  print(\"You are a male\")\n",
        "\n",
        "  if(age>=30):\n",
        "    print(\"This man is going in bulding1 hostelA \")\n",
        "\n",
        "  elif(age<30):\n",
        "    print(\"This boy is going in building1 HostelB \")\n",
        "\n",
        "\n",
        "if(gender==\"Female\"):\n",
        "  print(\"You are a Female\")\n",
        "\n",
        "  if(age>=30):\n",
        "    print(\"This women is going in bulding2 hostel A\")\n",
        "\n",
        "  elif(age<30):\n",
        "    print(\"This girl is going in bulding2 Hostel B \")"
      ],
      "metadata": {
        "colab": {
          "base_uri": "https://localhost:8080/"
        },
        "id": "Xz4L9VQpfRom",
        "outputId": "13fc3fc0-fbad-430a-d2bc-5e6dadf91c8b"
      },
      "execution_count": null,
      "outputs": [
        {
          "output_type": "stream",
          "name": "stdout",
          "text": [
            "Enter Your age :29\n",
            "enter your gender :Female\n",
            "You are a Female\n",
            "This girl is going in bulding2 Hostel B \n"
          ]
        }
      ]
    },
    {
      "cell_type": "code",
      "source": [
        " name=input(\"Enter Your name :\")\n",
        "age=int(input(\"Enter Your age :\"))\n",
        "is_married=True\n",
        "salary=float(input(\"Enter your salary per Month :\"))\n",
        "if(\"married\"):\n",
        "   print(type(\"True\"))\n",
        "\n",
        "print(type(is_married))\n",
        "print(type(name))\n",
        "print(type(age))\n",
        "print(type(salary))"
      ],
      "metadata": {
        "id": "K2DmPT28pPcz",
        "colab": {
          "base_uri": "https://localhost:8080/"
        },
        "outputId": "1b2585b7-aa38-436a-cb2b-b321031a8357"
      },
      "execution_count": null,
      "outputs": [
        {
          "output_type": "stream",
          "name": "stdout",
          "text": [
            "Enter Your name :vaibhav\n",
            "Enter Your age :22\n",
            "Enter your salary per Month :40000\n",
            "<class 'str'>\n",
            "<class 'bool'>\n",
            "<class 'str'>\n",
            "<class 'int'>\n",
            "<class 'float'>\n"
          ]
        }
      ]
    },
    {
      "cell_type": "code",
      "source": [
        "\n",
        "p=1000\n",
        "rate=5\n",
        "time_in_month=3\n",
        "print(\"Time :\" ,time_in_month)\n",
        "\n",
        "s_i1=(p*rate*time_in_month)/100\n",
        "print(\"simple_intrest ; \" ,s_i)"
      ],
      "metadata": {
        "colab": {
          "base_uri": "https://localhost:8080/"
        },
        "id": "SdiMbCQvstQ2",
        "outputId": "436dc0cd-63e3-4363-bc74-1c0ac432a8a7"
      },
      "execution_count": null,
      "outputs": [
        {
          "output_type": "stream",
          "name": "stdout",
          "text": [
            "Time : 3\n",
            "simple_intrest ;  150.0\n"
          ]
        }
      ]
    },
    {
      "cell_type": "code",
      "source": [
        "p=1000\n",
        "rate=5\n",
        "time_in_day=31\n",
        "t=31/30\n",
        "print(\"Time :\" ,t)\n",
        "\n",
        "s_i2=(p*rate*t)/100\n",
        "print(\"simple_intrest ; \" ,s_i2)"
      ],
      "metadata": {
        "id": "Fd2uNOev0o0R",
        "colab": {
          "base_uri": "https://localhost:8080/"
        },
        "outputId": "3a610700-c39f-4eb4-e69d-74b1fb50ccfe"
      },
      "execution_count": null,
      "outputs": [
        {
          "output_type": "stream",
          "name": "stdout",
          "text": [
            "Time : 1.0333333333333334\n",
            "simple_intrest ;  51.66666666666667\n"
          ]
        }
      ]
    },
    {
      "cell_type": "code",
      "source": [
        "amount=int(input(\"Enter amount :\"))\n",
        "rate=int(input(\"Enter Rate Monthly :\"))\n",
        "periodmon=int(input(\"Enter period in months :\"))\n",
        "periodday=int(input(\"Enter period in days :\"))\n",
        "month=(input(\"Enter month  :\"))\n",
        "\n",
        "if(month==\"jan\" or month==\"mar\" or month==\"may\" or month==\"jul\" or month==\"aug\" or month==\"oct\" or month==\"dec\"):\n",
        "   periodday = periodday/31\n",
        "\n",
        "elif(month==\"feb\"):\n",
        "   periodday = periodday/28\n",
        "\n",
        "else:\n",
        "   periodday = periodday/30\n",
        "\n",
        "\n",
        "sim=(amount*rate*periodmon)/100\n",
        "sid=(amount*rate*periodday)/100\n",
        "total_simple_interest = sim + sid\n",
        "\n",
        "print(\"S.I :\" ,total_simple_interest)\n",
        "pay_amount=amount+total_simple_interest\n",
        "\n",
        "print(\"pay Amount : \" , pay_amount)"
      ],
      "metadata": {
        "colab": {
          "base_uri": "https://localhost:8080/"
        },
        "id": "KY1GHq33vYWC",
        "outputId": "cea593b5-542f-4312-f487-22c9434bf32f"
      },
      "execution_count": null,
      "outputs": [
        {
          "output_type": "stream",
          "name": "stdout",
          "text": [
            "Enter amount :1000\n",
            "Enter Rate Monthly :5\n",
            "Enter period in months :8\n",
            "Enter period in days :12\n",
            "Enter month  :feb\n",
            "S.I : 421.42857142857144\n",
            "pay Amount :  1421.4285714285716\n"
          ]
        }
      ]
    },
    {
      "cell_type": "code",
      "source": [
        "year= int(input(\"enter year\"))\n",
        "\n",
        "if(year%4==0 and year%100!=0 or year%400==0):\n",
        "   print(\"Leap year\")\n",
        "\n",
        "\n",
        "else:\n",
        "  print(\"Not a leap year\")"
      ],
      "metadata": {
        "colab": {
          "base_uri": "https://localhost:8080/"
        },
        "id": "P_HjMSN92oV2",
        "outputId": "bf75857c-f82f-4af9-c700-82dbe07a2a12"
      },
      "execution_count": null,
      "outputs": [
        {
          "output_type": "stream",
          "name": "stdout",
          "text": [
            "enter year6800\n",
            "Leap year\n"
          ]
        }
      ]
    },
    {
      "cell_type": "code",
      "source": [
        "year= int(input(\"Enter year = \"))\n",
        "\n",
        "if(year%4==0):\n",
        "  if(year%100==0):\n",
        "    if(year%400==0):\n",
        "      print(\"leap year\")\n",
        "\n",
        "    else:\n",
        "      print(\"Not leap year\")\n",
        "\n",
        "  else:\n",
        "    print(\"leap year\")\n",
        "else:\n",
        "\n",
        "  print(\"Not leap year\")\n",
        "\n",
        "\n"
      ],
      "metadata": {
        "colab": {
          "base_uri": "https://localhost:8080/"
        },
        "id": "Lf3nR4zs7Pm1",
        "outputId": "f1d06e99-7f51-41e0-f6ab-24bbc4abfcd6"
      },
      "execution_count": null,
      "outputs": [
        {
          "output_type": "stream",
          "name": "stdout",
          "text": [
            "Enter year = 2200\n",
            "Not leap year\n"
          ]
        }
      ]
    },
    {
      "cell_type": "code",
      "source": [
        "amount = int(input(\"Enter amount : \"))\n",
        "rate = int(input(\"Enter Rate Monthly : \"))\n",
        "periodmon = int(input(\"Enter period in months : \"))\n",
        "periodday = int(input(\"Enter period in days : \"))\n",
        "month = input(\"Enter month : \")\n",
        "year = int(input(\"Enter year : \"))\n",
        "\n",
        "\n",
        "if (year % 4 == 0 and year % 100 != 0) or (year % 400 == 0):\n",
        "    print(\"Leap year\")\n",
        "    leap = True\n",
        "else:\n",
        "    print(\"Not a leap year\")\n",
        "    leap = False\n",
        "\n",
        "\n",
        "if month in [\"jan\", \"mar\", \"may\", \"jul\", \"aug\", \"oct\", \"dec\"]:\n",
        "    days_in_month = 31\n",
        "elif month == \"feb\":\n",
        "    days_in_month = 29 if leap else 28\n",
        "else:\n",
        "    days_in_month = 30\n",
        "\n",
        "periodday = periodday / days_in_month\n",
        "\n",
        "\n",
        "sim = (amount * rate * periodmon) / 100\n",
        "sid = (amount * rate * periodday) / 100\n",
        "total_simple_interest = sim + sid\n",
        "\n",
        "print(\"S.I :\", total_simple_interest)\n",
        "pay_amount = amount + total_simple_interest\n",
        "print(\"Pay Amount :\", pay_amount)\n"
      ],
      "metadata": {
        "colab": {
          "base_uri": "https://localhost:8080/"
        },
        "id": "su2Zko_Yq306",
        "outputId": "4471653a-fcc8-4462-8cbc-a56611208494"
      },
      "execution_count": 1,
      "outputs": [
        {
          "output_type": "stream",
          "name": "stdout",
          "text": [
            "Enter amount : 10000\n",
            "Enter Rate Monthly : 7\n",
            "Enter period in months : 12\n",
            "Enter period in days : 2\n",
            "Enter month : jan\n",
            "Enter year : 2019\n",
            "Not a leap year\n",
            "S.I : 8445.161290322581\n",
            "Pay Amount : 18445.161290322583\n"
          ]
        }
      ]
    },
    {
      "cell_type": "code",
      "source": [
        ""
      ],
      "metadata": {
        "id": "jHtdoc4IAz_N"
      },
      "execution_count": null,
      "outputs": []
    }
  ]
}