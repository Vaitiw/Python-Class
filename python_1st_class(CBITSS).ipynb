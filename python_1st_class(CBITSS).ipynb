{
  "nbformat": 4,
  "nbformat_minor": 0,
  "metadata": {
    "colab": {
      "provenance": [],
      "authorship_tag": "ABX9TyOfGoK9EkzVB2FADd6pDmaE",
      "include_colab_link": true
    },
    "kernelspec": {
      "name": "python3",
      "display_name": "Python 3"
    },
    "language_info": {
      "name": "python"
    }
  },
  "cells": [
    {
      "cell_type": "markdown",
      "metadata": {
        "id": "view-in-github",
        "colab_type": "text"
      },
      "source": [
        "<a href=\"https://colab.research.google.com/github/Vaitiw/Python-Class/blob/main/python_1st_class(CBITSS).ipynb\" target=\"_parent\"><img src=\"https://colab.research.google.com/assets/colab-badge.svg\" alt=\"Open In Colab\"/></a>"
      ]
    },
    {
      "cell_type": "code",
      "execution_count": null,
      "metadata": {
        "colab": {
          "base_uri": "https://localhost:8080/"
        },
        "id": "Ocg73PDAlqon",
        "outputId": "30835db6-0b35-44e6-8dc7-e1cdc7dcbca7"
      },
      "outputs": [
        {
          "output_type": "stream",
          "name": "stdout",
          "text": [
            "hello world\n"
          ]
        }
      ],
      "source": [
        "print (\"hello world\")"
      ]
    },
    {
      "cell_type": "code",
      "source": [
        "# this is my first code\n",
        "print(\"hello world\")"
      ],
      "metadata": {
        "colab": {
          "base_uri": "https://localhost:8080/"
        },
        "id": "ZZJyMhWwnpE9",
        "outputId": "0f7e65e1-6ac1-422f-9d8f-71ec33772410"
      },
      "execution_count": null,
      "outputs": [
        {
          "output_type": "stream",
          "name": "stdout",
          "text": [
            "hello world\n"
          ]
        }
      ]
    },
    {
      "cell_type": "code",
      "source": [
        "\"\"\"\n",
        "this is my first class in cbitss\n",
        "we have leared about basics of python\"\"\""
      ],
      "metadata": {
        "colab": {
          "base_uri": "https://localhost:8080/",
          "height": 35
        },
        "id": "Vl1Ao3iqnvF9",
        "outputId": "15855027-ac09-46aa-eab8-529be57e3a7b"
      },
      "execution_count": null,
      "outputs": [
        {
          "output_type": "execute_result",
          "data": {
            "text/plain": [
              "'\\nthis is my first class in cbitss\\nwe have leared about basics of python'"
            ],
            "application/vnd.google.colaboratory.intrinsic+json": {
              "type": "string"
            }
          },
          "metadata": {},
          "execution_count": 6
        }
      ]
    },
    {
      "cell_type": "code",
      "source": [
        "a=5\n",
        "b=6\n",
        "print(\"sum of two number\", a+b)"
      ],
      "metadata": {
        "colab": {
          "base_uri": "https://localhost:8080/"
        },
        "id": "YgrX5p2EbgMg",
        "outputId": "886663bf-f75c-4cdc-ab24-7b29f4ec49ff"
      },
      "execution_count": null,
      "outputs": [
        {
          "output_type": "stream",
          "name": "stdout",
          "text": [
            "sum of two number 11\n"
          ]
        }
      ]
    },
    {
      "cell_type": "code",
      "source": [
        "a=100\n",
        "b=200\n",
        "print(\"\")\n",
        "price_of_pizza =100\n",
        "price_of_burgur=110\n",
        "price_of_cokacola=300\n",
        "price_of_cocktail=220\n",
        "print(\"Total Bill price:=\" , price_of_pizza+price_of_burgur+price_of_cokacola+price_of_cocktail)"
      ],
      "metadata": {
        "id": "eXRVCcaZn_L1",
        "colab": {
          "base_uri": "https://localhost:8080/"
        },
        "outputId": "0c2f6a66-e5ed-405f-c9f2-129c30302156"
      },
      "execution_count": null,
      "outputs": [
        {
          "output_type": "stream",
          "name": "stdout",
          "text": [
            "\n",
            "Total Bill price:= 730\n"
          ]
        }
      ]
    },
    {
      "cell_type": "code",
      "source": [
        "a=100\n",
        "b=200\n",
        "c=2000\n",
        "d=4\n",
        "result=a*b*c*d\n",
        "print(\"multiplication of 4 numbers:=\" , result)"
      ],
      "metadata": {
        "colab": {
          "base_uri": "https://localhost:8080/"
        },
        "id": "bnO4Nzffc5UD",
        "outputId": "b9f2e4e2-6c7e-4a6d-c910-217546f55bef"
      },
      "execution_count": null,
      "outputs": [
        {
          "output_type": "stream",
          "name": "stdout",
          "text": [
            "multiplication of 4 numbers:= 160000000\n"
          ]
        }
      ]
    },
    {
      "cell_type": "code",
      "source": [
        "a =int(input(\"enter first number: \"))\n",
        "b =int(input(\"enter second number: \"))\n",
        "c =int(input(\"enter third number: \"))\n",
        "result=a*b*c\n",
        "print(\"multiplication of 3 numbers =\" , result)"
      ],
      "metadata": {
        "colab": {
          "base_uri": "https://localhost:8080/"
        },
        "id": "od5buLVZei9H",
        "outputId": "189eb6e1-4c9f-43da-bbed-c60f8ebb1ccd"
      },
      "execution_count": null,
      "outputs": [
        {
          "output_type": "stream",
          "name": "stdout",
          "text": [
            "enter first number: 2\n",
            "enter second number: 2\n",
            "enter third number: 2\n",
            "multiplication of 3 numbers = 8\n"
          ]
        }
      ]
    },
    {
      "cell_type": "code",
      "source": [],
      "metadata": {
        "id": "UZ0Pdl7yiZkG"
      },
      "execution_count": null,
      "outputs": []
    },
    {
      "cell_type": "code",
      "source": [
        "price_of_pizza =100\n",
        "price_of_burgur=110\n",
        "price_of_cokacola=300\n",
        "price_of_cocktail=220\n",
        "discount=50\n",
        "Total_Bill_price = price_of_pizza+price_of_burgur+price_of_cokacola+price_of_cocktail\n",
        "total_discount=Total_Bill_price*discount/100\n",
        "print(Total_Bill_price-total_dicount)\n",
        "payable_bill_afterdiscount=Total_Bill_price-total_discount\n",
        "\n"
      ],
      "metadata": {
        "colab": {
          "base_uri": "https://localhost:8080/"
        },
        "id": "4NHOjwwqiZF_",
        "outputId": "398c0a91-6e0d-4289-ec7e-4f8f88f0eeba"
      },
      "execution_count": null,
      "outputs": [
        {
          "output_type": "stream",
          "name": "stdout",
          "text": [
            "365.0\n"
          ]
        }
      ]
    },
    {
      "cell_type": "code",
      "source": [
        "a=5\n",
        "b=10\n",
        "print(f\"sum of (a) and (b)  is \",\n",
        "age = 25\n",
        "print(f\"age = (age)\")"
      ],
      "metadata": {
        "colab": {
          "base_uri": "https://localhost:8080/"
        },
        "id": "1J54HqMCipLx",
        "outputId": "0fe43fe3-5353-4792-e00d-209f0fe1fe29"
      },
      "execution_count": null,
      "outputs": [
        {
          "output_type": "stream",
          "name": "stdout",
          "text": [
            "sum of (a) and (b)  is  15\n",
            "age = (age)\n"
          ]
        }
      ]
    },
    {
      "cell_type": "code",
      "source": [
        "age= 22\n",
        "MY_name =\"Aryan Thakur\"\n",
        "Mother_name=\"Rina Thakur\"\n",
        "Father_name=\"Durgesh Thakur\"\n",
        "school_name= \"DAVCPS,Mandi\"\n",
        "print(\"************ BioData************\")\n",
        "print(f\"age is {age}\")\n",
        "print(f\"Name :   {MY_name}\")\n",
        "print(f\"Mothername is {Mother_name}\")\n",
        "print(f\"Fathername is {Father_name}\")\n",
        "print(f\"schoolname is {school_name}\")\n",
        "\n",
        "\n"
      ],
      "metadata": {
        "colab": {
          "base_uri": "https://localhost:8080/"
        },
        "id": "9kpKStIlnF7N",
        "outputId": "524ba3d6-842e-418d-b8f3-8daa405d6f27"
      },
      "execution_count": null,
      "outputs": [
        {
          "output_type": "stream",
          "name": "stdout",
          "text": [
            "************ BioData************\n",
            "age is 22\n",
            "Name :   Aryan Thakur\n",
            "Mothername is Rina Thakur\n",
            "Fathername is Durgesh Thakur\n",
            "schoolname is DAVCPS,Mandi\n"
          ]
        }
      ]
    },
    {
      "cell_type": "code",
      "source": [
        "name=\"Vaibhav Tiwari\"\n",
        "age=21\n",
        "gender=\"Male\"\n",
        "DOB=\"05-08-2004\"\n",
        "address=\"Zirakpur,India\"\n",
        "Phone=\"9418463000\"\n",
        "email=\"vaibhav@gmail.com\"\n",
        "\n",
        "print(\"     Biodata     \")\n",
        "print(\"Name :\",name)\n",
        "print(\"Age :\",age)\n",
        "print(\"Date of Birth :\",DOB)\n",
        "print(\"Address :\",address)\n",
        "print(\"Phone No :\",Phone)\n",
        "print(\"Email :\",email)\n"
      ],
      "metadata": {
        "colab": {
          "base_uri": "https://localhost:8080/"
        },
        "id": "pKryAHhxg0Ni",
        "outputId": "47c04802-5564-403c-c668-4218628521f9"
      },
      "execution_count": 5,
      "outputs": [
        {
          "output_type": "stream",
          "name": "stdout",
          "text": [
            "     Biodata     \n",
            "Name : Vaibhav Tiwari\n",
            "Age : 21\n",
            "Date of Birth : 05-08-2004\n",
            "Address : Zirakpur,India\n",
            "Phone No : 9418463000\n",
            "Email : vaibhav@gmail.com\n"
          ]
        }
      ]
    },
    {
      "cell_type": "code",
      "source": [
        "price_of_pizza =250\n",
        "price_of_burgur=200\n",
        "price_of_chikenTikka=200\n",
        "discount_on_pizza=4\n",
        "discount_on_burgur=5\n",
        "discount_on_chikenTikka=4\n",
        "total_bill=price_of_pizza+price_of_burgur+price_of_chikenTikka\n",
        "total_discount_of_pizza=price_of_pizza*discount_on_pizza/100\n",
        "total_discount_of_burgur=price_of_burgur*discount_on_burgur/100\n",
        "total_discount_of_chikenTikka=price_of_chikenTikka*discount_on_chikenTikka/100\n",
        "print(\"pizza bill : \" ,(price_of_pizza-total_discount_of_pizza))\n",
        "print(\"burgur bill: \" ,(price_of_burgur-total_discount_of_burgur))\n",
        "print(\"chikenTikka: \" ,(discount_on_chikenTikka-total_discount_of_chikenTikka))\n",
        "print(\"total bill to pay :\", (price_of_pizza-total_discount_of_pizza+price_of_burgur-total_discount_of_burgur+discount_on_chikenTikka-total_discount_of_chikenTikka) )\n",
        "\n",
        "\n",
        "\n"
      ],
      "metadata": {
        "colab": {
          "base_uri": "https://localhost:8080/"
        },
        "id": "HsTvgQOijl5S",
        "outputId": "685637f7-8030-466a-a898-0bdc8af0a5e7"
      },
      "execution_count": 18,
      "outputs": [
        {
          "output_type": "stream",
          "name": "stdout",
          "text": [
            "pizza bill :  240.0\n",
            "burgur bill:  190.0\n",
            "chikenTikka:  -4.0\n",
            "total bill to pay : 426.0\n"
          ]
        }
      ]
    },
    {
      "cell_type": "code",
      "source": [],
      "metadata": {
        "id": "O4b4aPcElsXd"
      },
      "execution_count": null,
      "outputs": []
    }
  ]
}